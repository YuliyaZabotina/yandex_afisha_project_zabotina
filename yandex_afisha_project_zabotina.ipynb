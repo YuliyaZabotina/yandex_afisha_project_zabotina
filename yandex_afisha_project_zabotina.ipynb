{
 "cells": [
  {
   "cell_type": "markdown",
   "id": "e7f897ca",
   "metadata": {
    "id": "e7f897ca"
   },
   "source": [
    "# Анализ лояльности пользователей Яндекс Афиши\n",
    "\n",
    "- Автор: Юлия Заботина\n",
    "- Дата: 23.10.2025"
   ]
  },
  {
   "cell_type": "markdown",
   "id": "8c551846",
   "metadata": {},
   "source": [
    "### Цели и задачи проекта\n",
    "\n",
    "**Цель:** Провести исследовательский анализ данных пользователей Яндекс Афиши с целью выявления пользователей, которые с большей вероятностью возвращаются на платформу и делают заказы повторно.   \n",
    "\n",
    "**Задачи:**\n",
    "1. Загрузить данные и познакомиться с их содержимым.\n",
    "2. Провести предобработку данных.\n",
    "3. Создать профиль пользователя.\n",
    "4. Провести исследовательский анализ данных.\n",
    "5. Сформулировать выводы и рекомендации по проведённому анализу.\n",
    "6. Опубликовать проект в Git."
   ]
  },
  {
   "cell_type": "markdown",
   "id": "ba28eeb6",
   "metadata": {},
   "source": [
    "### Описание данных\n",
    "\n",
    "Схема `afisha` базы данных `data-analyst-afisha` содержит пять таблиц.\n",
    "\n",
    "**Таблица** `purchases`\n",
    "\n",
    "Содержит информацию о заказах билетов:\n",
    "- `order_id` — идентификатор заказа;\n",
    "- `user_id` — идентификатор пользователя, совершившего заказ;\n",
    "- `created_dt_msk` — дата создания заказа по московскому времени;\n",
    "- `created_ts_msk` — дата и время создания заказа по московскому времени;\n",
    "- `event_id` — идентификатор мероприятия из таблицы `events`;\n",
    "- `cinema_circuit` — сеть кинотеатров, где проходит мероприятие. Если оно проходит не в кинотеатре, то здесь будет значение нет;\n",
    "- `age_limit` — возрастное ограничение мероприятия;\n",
    "- `currency_code` — валюта оплаты;\n",
    "- `device_type_canonical` — тип устройства, с которого был оформлен заказ (например, `mobile` — мобильные устройства, `desktop` — компьютеры);\n",
    "- `revenue` — выручка от заказа;\n",
    "- `service_name` — название билетного оператора;\n",
    "- `tickets_count` — количество купленных билетов;\n",
    "- `total` — общая сумма заказа.\n",
    "\n",
    "**Таблица** `events`\n",
    "\n",
    "Содержит данные о мероприятиях, доступных на платформе:\n",
    "- `event_id` — идентификатор мероприятия;\n",
    "- `event_name_code` — название мероприятия в закодированном виде;\n",
    "- `event_type_description` — описание мероприятия;\n",
    "- `event_type_main` — основной тип мероприятия (театральная постановка, концерт и так далее);\n",
    "- `organizers` — организаторы мероприятия;\n",
    "- `city_id` — идентификатор города проведения мероприятия из таблицы cities;\n",
    "- `venue_id` — идентификатор площадки проведения мероприятия из таблицы venues.\n",
    "\n",
    "**Таблица** `venues`\n",
    "\n",
    "Содержит сведения о площадках проведения мероприятий:\n",
    "- `venue_id` — идентификатор площадки;\n",
    "- `venue_name` — название площадки;\n",
    "- `address` — адрес площадки.\n",
    "\n",
    "**Таблица** `city`\n",
    "\n",
    "Содержит список городов, относящихся к регионам:\n",
    "- `city_id` — идентификатор города;\n",
    "- `city_name` — название города;\n",
    "- `region_id` — идентификатор региона, в котором расположен город, из таблицы regions.\n",
    "\n",
    "**Таблица** `regions`\n",
    "\n",
    "Содержит список регионов, в которых проводятся мероприятия:\n",
    "- `region_id` — идентификатор региона;\n",
    "- `region_name` — название региона."
   ]
  },
  {
   "cell_type": "markdown",
   "id": "6c1b94ba",
   "metadata": {},
   "source": [
    "### Содержимое проекта\n",
    "\n",
    "1. Загрузка данных и их предобработка.\n",
    "2. Предобработка данных.\n",
    "3. Создание профиля пользователя.\n",
    "4. Исследовательский анализ данных.\n",
    "5. Общий вывод и рекомендации.\n",
    "6. Финализация проекта и публикация в Git."
   ]
  },
  {
   "cell_type": "markdown",
   "id": "ab3b93fd",
   "metadata": {
    "id": "ab3b93fd"
   },
   "source": [
    "## 1. Загрузка данных и их предобработка\n",
    "\n",
    "---\n",
    "\n",
    "**Задача 1.1:** Напишем SQL-запрос, выгружающий в датафрейм pandas необходимые данные. Используем следующие параметры для подключения к базе данных `data-analyst-afisha`:\n",
    "\n",
    "- **Хост** — `rc1b-wcoijxj3yxfsf3fs.mdb.yandexcloud.net`\n",
    "- **База данных** — `data-analyst-afisha`\n",
    "- **Порт** — `6432`\n",
    "- **Аутентификация** — `Database Native`\n",
    "- **Пользователь** — `praktikum_student`\n",
    "- **Пароль** — `Sdf4$2;d-d30pp`\n",
    "\n",
    "---"
   ]
  },
  {
   "cell_type": "code",
   "execution_count": 1,
   "id": "6e024204",
   "metadata": {
    "id": "6e024204"
   },
   "outputs": [
    {
     "name": "stdout",
     "output_type": "stream",
     "text": [
      "Requirement already satisfied: sqlalchemy in /opt/conda/lib/python3.9/site-packages (1.4.20)\n",
      "Requirement already satisfied: greenlet!=0.4.17 in /opt/conda/lib/python3.9/site-packages (from sqlalchemy) (1.1.0)\n",
      "Requirement already satisfied: psycopg2-binary in /opt/conda/lib/python3.9/site-packages (2.9.2)\n"
     ]
    }
   ],
   "source": [
    "# Для выгрузки используем библиотеку SQLAlchemy и модуль psycopg2\n",
    "!pip install sqlalchemy\n",
    "!pip install psycopg2-binary "
   ]
  },
  {
   "cell_type": "code",
   "execution_count": 2,
   "id": "84798142",
   "metadata": {},
   "outputs": [
    {
     "name": "stdout",
     "output_type": "stream",
     "text": [
      "Requirement already satisfied: phik in /opt/conda/lib/python3.9/site-packages (0.12.5)\n",
      "Requirement already satisfied: scipy>=1.5.2 in /opt/conda/lib/python3.9/site-packages (from phik) (1.9.1)\n",
      "Requirement already satisfied: pandas>=0.25.1 in /opt/conda/lib/python3.9/site-packages (from phik) (1.2.4)\n",
      "Requirement already satisfied: matplotlib>=2.2.3 in /opt/conda/lib/python3.9/site-packages (from phik) (3.3.4)\n",
      "Requirement already satisfied: numpy>=1.18.0 in /opt/conda/lib/python3.9/site-packages (from phik) (1.21.1)\n",
      "Requirement already satisfied: joblib>=0.14.1 in /opt/conda/lib/python3.9/site-packages (from phik) (1.1.0)\n",
      "Requirement already satisfied: python-dateutil>=2.1 in /opt/conda/lib/python3.9/site-packages (from matplotlib>=2.2.3->phik) (2.8.1)\n",
      "Requirement already satisfied: kiwisolver>=1.0.1 in /opt/conda/lib/python3.9/site-packages (from matplotlib>=2.2.3->phik) (1.4.4)\n",
      "Requirement already satisfied: cycler>=0.10 in /opt/conda/lib/python3.9/site-packages (from matplotlib>=2.2.3->phik) (0.11.0)\n",
      "Requirement already satisfied: pyparsing!=2.0.4,!=2.1.2,!=2.1.6,>=2.0.3 in /opt/conda/lib/python3.9/site-packages (from matplotlib>=2.2.3->phik) (2.4.7)\n",
      "Requirement already satisfied: pillow>=6.2.0 in /opt/conda/lib/python3.9/site-packages (from matplotlib>=2.2.3->phik) (8.4.0)\n",
      "Requirement already satisfied: pytz>=2017.3 in /opt/conda/lib/python3.9/site-packages (from pandas>=0.25.1->phik) (2021.1)\n",
      "Requirement already satisfied: six>=1.5 in /opt/conda/lib/python3.9/site-packages (from python-dateutil>=2.1->matplotlib>=2.2.3->phik) (1.16.0)\n"
     ]
    }
   ],
   "source": [
    "# Импортируем библиотеки для работы в проекте\n",
    "import pandas as pd\n",
    "from sqlalchemy import create_engine\n",
    "\n",
    "# Загружаем библиотеки для визуализации данных\n",
    "import matplotlib.pyplot as plt\n",
    "import seaborn as sns\n",
    "\n",
    "# Загружаем библиотеку для расчёта коэффициента корреляции phi_k\n",
    "!pip install phik\n",
    "from phik import phik_matrix"
   ]
  },
  {
   "cell_type": "code",
   "execution_count": 3,
   "id": "d0803267",
   "metadata": {},
   "outputs": [],
   "source": [
    "# Запишем в объект db_config данные для подключения к базе данных data-analyst-afisha\n",
    "db_config = {'user': 'praktikum_student', # имя пользователя\n",
    "             'pwd': 'Sdf4$2;d-d30pp', # пароль\n",
    "             'host': 'rc1b-wcoijxj3yxfsf3fs.mdb.yandexcloud.net',\n",
    "             'port': 6432, # порт подключения\n",
    "             'db': 'data-analyst-afisha' # название базы данных\n",
    "             }"
   ]
  },
  {
   "cell_type": "code",
   "execution_count": 4,
   "id": "41a228ea",
   "metadata": {},
   "outputs": [],
   "source": [
    "# Сформируем с помощью метода .format() строку connection_string для подключения к базе данных data-analyst-afisha\n",
    "connection_string = 'postgresql://{}:{}@{}:{}/{}'.format(\n",
    "    db_config['user'],\n",
    "    db_config['pwd'],\n",
    "    db_config['host'],\n",
    "    db_config['port'],\n",
    "    db_config['db'],\n",
    ")"
   ]
  },
  {
   "cell_type": "code",
   "execution_count": 5,
   "id": "3f5dc4e3",
   "metadata": {},
   "outputs": [],
   "source": [
    "# Передадим функции create_engine() строку connection_string с данными для подключения, чтобы создать соединение\n",
    "engine = create_engine(connection_string)"
   ]
  },
  {
   "cell_type": "code",
   "execution_count": 6,
   "id": "0b102654",
   "metadata": {},
   "outputs": [],
   "source": [
    "# Запишем в переменную query SQL-запрос для составления датасета, который будем использовать в ходе анализа данных\n",
    "query = '''\n",
    "SELECT \n",
    "    user_id,\n",
    "    device_type_canonical,\n",
    "    order_id,\n",
    "    created_dt_msk AS order_dt,\n",
    "    created_ts_msk AS order_ts,\n",
    "    currency_code,\n",
    "    revenue,\n",
    "    tickets_count,\n",
    "    (created_dt_msk::date - LAG(created_dt_msk::date) OVER (PARTITION BY user_id ORDER BY created_dt_msk)) AS days_since_prev,\n",
    "    event_id,\n",
    "    event_name_code AS event_name,\n",
    "    event_type_main,\n",
    "    service_name,\n",
    "    region_name,\n",
    "    city_name\n",
    "FROM afisha.purchases\n",
    "JOIN afisha.events USING(event_id)\n",
    "LEFT JOIN afisha.city USING(city_id)\n",
    "LEFT JOIN afisha.regions USING(region_id)\n",
    "WHERE device_type_canonical IN ('mobile', 'desktop') AND event_type_main != 'фильм'\n",
    "ORDER BY user_id, created_dt_msk\n",
    "'''"
   ]
  },
  {
   "cell_type": "code",
   "execution_count": 7,
   "id": "85c5aeef",
   "metadata": {},
   "outputs": [],
   "source": [
    "# Запишем в датафрейм с помощью метода pd.read_sql_query() результат выдачи SQL-запроса\n",
    "df = pd.read_sql_query(query, con=engine)"
   ]
  },
  {
   "cell_type": "code",
   "execution_count": 8,
   "id": "67ecab94",
   "metadata": {
    "id": "67ecab94"
   },
   "outputs": [
    {
     "data": {
      "text/html": [
       "<div>\n",
       "<style scoped>\n",
       "    .dataframe tbody tr th:only-of-type {\n",
       "        vertical-align: middle;\n",
       "    }\n",
       "\n",
       "    .dataframe tbody tr th {\n",
       "        vertical-align: top;\n",
       "    }\n",
       "\n",
       "    .dataframe thead th {\n",
       "        text-align: right;\n",
       "    }\n",
       "</style>\n",
       "<table border=\"1\" class=\"dataframe\">\n",
       "  <thead>\n",
       "    <tr style=\"text-align: right;\">\n",
       "      <th></th>\n",
       "      <th>user_id</th>\n",
       "      <th>device_type_canonical</th>\n",
       "      <th>order_id</th>\n",
       "      <th>order_dt</th>\n",
       "      <th>order_ts</th>\n",
       "      <th>currency_code</th>\n",
       "      <th>revenue</th>\n",
       "      <th>tickets_count</th>\n",
       "      <th>days_since_prev</th>\n",
       "      <th>event_id</th>\n",
       "      <th>event_name</th>\n",
       "      <th>event_type_main</th>\n",
       "      <th>service_name</th>\n",
       "      <th>region_name</th>\n",
       "      <th>city_name</th>\n",
       "    </tr>\n",
       "  </thead>\n",
       "  <tbody>\n",
       "    <tr>\n",
       "      <th>0</th>\n",
       "      <td>0002849b70a3ce2</td>\n",
       "      <td>mobile</td>\n",
       "      <td>4359165</td>\n",
       "      <td>2024-08-20</td>\n",
       "      <td>2024-08-20 16:08:03</td>\n",
       "      <td>rub</td>\n",
       "      <td>1521.94</td>\n",
       "      <td>4</td>\n",
       "      <td>NaN</td>\n",
       "      <td>169230</td>\n",
       "      <td>f0f7b271-04eb-4af6-bcb8-8f05cf46d6ad</td>\n",
       "      <td>театр</td>\n",
       "      <td>Край билетов</td>\n",
       "      <td>Каменевский регион</td>\n",
       "      <td>Глиногорск</td>\n",
       "    </tr>\n",
       "    <tr>\n",
       "      <th>1</th>\n",
       "      <td>0005ca5e93f2cf4</td>\n",
       "      <td>mobile</td>\n",
       "      <td>7965605</td>\n",
       "      <td>2024-07-23</td>\n",
       "      <td>2024-07-23 18:36:24</td>\n",
       "      <td>rub</td>\n",
       "      <td>289.45</td>\n",
       "      <td>2</td>\n",
       "      <td>NaN</td>\n",
       "      <td>237325</td>\n",
       "      <td>40efeb04-81b7-4135-b41f-708ff00cc64c</td>\n",
       "      <td>выставки</td>\n",
       "      <td>Мой билет</td>\n",
       "      <td>Каменевский регион</td>\n",
       "      <td>Глиногорск</td>\n",
       "    </tr>\n",
       "    <tr>\n",
       "      <th>2</th>\n",
       "      <td>0005ca5e93f2cf4</td>\n",
       "      <td>mobile</td>\n",
       "      <td>7292370</td>\n",
       "      <td>2024-10-06</td>\n",
       "      <td>2024-10-06 13:56:02</td>\n",
       "      <td>rub</td>\n",
       "      <td>1258.57</td>\n",
       "      <td>4</td>\n",
       "      <td>75.0</td>\n",
       "      <td>578454</td>\n",
       "      <td>01f3fb7b-ed07-4f94-b1d3-9a2e1ee5a8ca</td>\n",
       "      <td>другое</td>\n",
       "      <td>За билетом!</td>\n",
       "      <td>Каменевский регион</td>\n",
       "      <td>Глиногорск</td>\n",
       "    </tr>\n",
       "    <tr>\n",
       "      <th>3</th>\n",
       "      <td>000898990054619</td>\n",
       "      <td>mobile</td>\n",
       "      <td>1139875</td>\n",
       "      <td>2024-07-13</td>\n",
       "      <td>2024-07-13 19:40:48</td>\n",
       "      <td>rub</td>\n",
       "      <td>8.49</td>\n",
       "      <td>2</td>\n",
       "      <td>NaN</td>\n",
       "      <td>387271</td>\n",
       "      <td>2f638715-8844-466c-b43f-378a627c419f</td>\n",
       "      <td>другое</td>\n",
       "      <td>Лови билет!</td>\n",
       "      <td>Североярская область</td>\n",
       "      <td>Озёрск</td>\n",
       "    </tr>\n",
       "    <tr>\n",
       "      <th>4</th>\n",
       "      <td>000898990054619</td>\n",
       "      <td>mobile</td>\n",
       "      <td>972400</td>\n",
       "      <td>2024-10-04</td>\n",
       "      <td>2024-10-04 22:33:15</td>\n",
       "      <td>rub</td>\n",
       "      <td>1390.41</td>\n",
       "      <td>3</td>\n",
       "      <td>83.0</td>\n",
       "      <td>509453</td>\n",
       "      <td>10d805d3-9809-4d8a-834e-225b7d03f95d</td>\n",
       "      <td>стендап</td>\n",
       "      <td>Билеты без проблем</td>\n",
       "      <td>Озернинский край</td>\n",
       "      <td>Родниковецк</td>\n",
       "    </tr>\n",
       "    <tr>\n",
       "      <th>...</th>\n",
       "      <td>...</td>\n",
       "      <td>...</td>\n",
       "      <td>...</td>\n",
       "      <td>...</td>\n",
       "      <td>...</td>\n",
       "      <td>...</td>\n",
       "      <td>...</td>\n",
       "      <td>...</td>\n",
       "      <td>...</td>\n",
       "      <td>...</td>\n",
       "      <td>...</td>\n",
       "      <td>...</td>\n",
       "      <td>...</td>\n",
       "      <td>...</td>\n",
       "      <td>...</td>\n",
       "    </tr>\n",
       "    <tr>\n",
       "      <th>290606</th>\n",
       "      <td>fffcd3dde79eb2c</td>\n",
       "      <td>mobile</td>\n",
       "      <td>368562</td>\n",
       "      <td>2024-10-27</td>\n",
       "      <td>2024-10-27 17:53:53</td>\n",
       "      <td>rub</td>\n",
       "      <td>1448.36</td>\n",
       "      <td>6</td>\n",
       "      <td>0.0</td>\n",
       "      <td>33189</td>\n",
       "      <td>e3dcdb45-9eaa-4ce4-9b85-1562e548172e</td>\n",
       "      <td>другое</td>\n",
       "      <td>Весь в билетах</td>\n",
       "      <td>Каменевский регион</td>\n",
       "      <td>Глиногорск</td>\n",
       "    </tr>\n",
       "    <tr>\n",
       "      <th>290607</th>\n",
       "      <td>fffcd3dde79eb2c</td>\n",
       "      <td>mobile</td>\n",
       "      <td>368591</td>\n",
       "      <td>2024-10-27</td>\n",
       "      <td>2024-10-27 17:54:52</td>\n",
       "      <td>rub</td>\n",
       "      <td>965.57</td>\n",
       "      <td>4</td>\n",
       "      <td>0.0</td>\n",
       "      <td>33189</td>\n",
       "      <td>e3dcdb45-9eaa-4ce4-9b85-1562e548172e</td>\n",
       "      <td>другое</td>\n",
       "      <td>Весь в билетах</td>\n",
       "      <td>Каменевский регион</td>\n",
       "      <td>Глиногорск</td>\n",
       "    </tr>\n",
       "    <tr>\n",
       "      <th>290608</th>\n",
       "      <td>fffcd3dde79eb2c</td>\n",
       "      <td>desktop</td>\n",
       "      <td>8473772</td>\n",
       "      <td>2024-10-30</td>\n",
       "      <td>2024-10-30 13:37:43</td>\n",
       "      <td>rub</td>\n",
       "      <td>178.95</td>\n",
       "      <td>2</td>\n",
       "      <td>3.0</td>\n",
       "      <td>205231</td>\n",
       "      <td>74883818-57a6-494a-b162-bb0260877cbf</td>\n",
       "      <td>театр</td>\n",
       "      <td>Прачечная</td>\n",
       "      <td>Каменевский регион</td>\n",
       "      <td>Глиногорск</td>\n",
       "    </tr>\n",
       "    <tr>\n",
       "      <th>290609</th>\n",
       "      <td>fffeeb3c120cf0b</td>\n",
       "      <td>desktop</td>\n",
       "      <td>5526067</td>\n",
       "      <td>2024-09-24</td>\n",
       "      <td>2024-09-24 10:07:42</td>\n",
       "      <td>rub</td>\n",
       "      <td>661.53</td>\n",
       "      <td>2</td>\n",
       "      <td>NaN</td>\n",
       "      <td>454526</td>\n",
       "      <td>6f4c6a50-0106-407b-8f54-332c740b01da</td>\n",
       "      <td>стендап</td>\n",
       "      <td>Билеты без проблем</td>\n",
       "      <td>Широковская область</td>\n",
       "      <td>Ягодиновка</td>\n",
       "    </tr>\n",
       "    <tr>\n",
       "      <th>290610</th>\n",
       "      <td>ffff00725179321</td>\n",
       "      <td>mobile</td>\n",
       "      <td>813654</td>\n",
       "      <td>2024-09-25</td>\n",
       "      <td>2024-09-25 15:12:40</td>\n",
       "      <td>rub</td>\n",
       "      <td>802.25</td>\n",
       "      <td>2</td>\n",
       "      <td>NaN</td>\n",
       "      <td>284965</td>\n",
       "      <td>58574140-962c-49a3-af70-b773a05661a3</td>\n",
       "      <td>концерты</td>\n",
       "      <td>Мой билет</td>\n",
       "      <td>Малиновоярский округ</td>\n",
       "      <td>Верховино</td>\n",
       "    </tr>\n",
       "  </tbody>\n",
       "</table>\n",
       "<p>290611 rows × 15 columns</p>\n",
       "</div>"
      ],
      "text/plain": [
       "                user_id device_type_canonical  order_id   order_dt  \\\n",
       "0       0002849b70a3ce2                mobile   4359165 2024-08-20   \n",
       "1       0005ca5e93f2cf4                mobile   7965605 2024-07-23   \n",
       "2       0005ca5e93f2cf4                mobile   7292370 2024-10-06   \n",
       "3       000898990054619                mobile   1139875 2024-07-13   \n",
       "4       000898990054619                mobile    972400 2024-10-04   \n",
       "...                 ...                   ...       ...        ...   \n",
       "290606  fffcd3dde79eb2c                mobile    368562 2024-10-27   \n",
       "290607  fffcd3dde79eb2c                mobile    368591 2024-10-27   \n",
       "290608  fffcd3dde79eb2c               desktop   8473772 2024-10-30   \n",
       "290609  fffeeb3c120cf0b               desktop   5526067 2024-09-24   \n",
       "290610  ffff00725179321                mobile    813654 2024-09-25   \n",
       "\n",
       "                  order_ts currency_code  revenue  tickets_count  \\\n",
       "0      2024-08-20 16:08:03           rub  1521.94              4   \n",
       "1      2024-07-23 18:36:24           rub   289.45              2   \n",
       "2      2024-10-06 13:56:02           rub  1258.57              4   \n",
       "3      2024-07-13 19:40:48           rub     8.49              2   \n",
       "4      2024-10-04 22:33:15           rub  1390.41              3   \n",
       "...                    ...           ...      ...            ...   \n",
       "290606 2024-10-27 17:53:53           rub  1448.36              6   \n",
       "290607 2024-10-27 17:54:52           rub   965.57              4   \n",
       "290608 2024-10-30 13:37:43           rub   178.95              2   \n",
       "290609 2024-09-24 10:07:42           rub   661.53              2   \n",
       "290610 2024-09-25 15:12:40           rub   802.25              2   \n",
       "\n",
       "        days_since_prev  event_id                            event_name  \\\n",
       "0                   NaN    169230  f0f7b271-04eb-4af6-bcb8-8f05cf46d6ad   \n",
       "1                   NaN    237325  40efeb04-81b7-4135-b41f-708ff00cc64c   \n",
       "2                  75.0    578454  01f3fb7b-ed07-4f94-b1d3-9a2e1ee5a8ca   \n",
       "3                   NaN    387271  2f638715-8844-466c-b43f-378a627c419f   \n",
       "4                  83.0    509453  10d805d3-9809-4d8a-834e-225b7d03f95d   \n",
       "...                 ...       ...                                   ...   \n",
       "290606              0.0     33189  e3dcdb45-9eaa-4ce4-9b85-1562e548172e   \n",
       "290607              0.0     33189  e3dcdb45-9eaa-4ce4-9b85-1562e548172e   \n",
       "290608              3.0    205231  74883818-57a6-494a-b162-bb0260877cbf   \n",
       "290609              NaN    454526  6f4c6a50-0106-407b-8f54-332c740b01da   \n",
       "290610              NaN    284965  58574140-962c-49a3-af70-b773a05661a3   \n",
       "\n",
       "       event_type_main        service_name           region_name    city_name  \n",
       "0                театр        Край билетов    Каменевский регион   Глиногорск  \n",
       "1             выставки           Мой билет    Каменевский регион   Глиногорск  \n",
       "2               другое         За билетом!    Каменевский регион   Глиногорск  \n",
       "3               другое         Лови билет!  Североярская область       Озёрск  \n",
       "4              стендап  Билеты без проблем      Озернинский край  Родниковецк  \n",
       "...                ...                 ...                   ...          ...  \n",
       "290606          другое      Весь в билетах    Каменевский регион   Глиногорск  \n",
       "290607          другое      Весь в билетах    Каменевский регион   Глиногорск  \n",
       "290608           театр           Прачечная    Каменевский регион   Глиногорск  \n",
       "290609         стендап  Билеты без проблем   Широковская область   Ягодиновка  \n",
       "290610        концерты           Мой билет  Малиновоярский округ    Верховино  \n",
       "\n",
       "[290611 rows x 15 columns]"
      ]
     },
     "metadata": {},
     "output_type": "display_data"
    }
   ],
   "source": [
    "# Выведем первые и последние строки полученного датафрейма df\n",
    "display(df)"
   ]
  },
  {
   "cell_type": "markdown",
   "id": "5db1ef9e",
   "metadata": {
    "id": "6f638939"
   },
   "source": [
    "В выгрузке из базы данных SQL собраны следующие данные:\n",
    "\n",
    "- `user_id` — уникальный идентификатор пользователя, совершившего заказ;\n",
    "- `device_type_canonical` — тип устройства, с которого был оформлен заказ (`mobile` — мобильные устройства, `desktop` — стационарные);\n",
    "- `order_id` — уникальный идентификатор заказа;\n",
    "- `order_dt` — дата создания заказа (используйте данные `created_dt_msk`);\n",
    "- `order_ts` — дата и время создания заказа (используйте данные `created_ts_msk`);\n",
    "- `currency_code` — валюта оплаты;\n",
    "- `revenue` — выручка от заказа;\n",
    "- `tickets_count` — количество купленных билетов;\n",
    "- `days_since_prev` — количество дней от предыдущей покупки пользователя, для пользователей с одной покупкой — значение пропущено;\n",
    "- `event_id` — уникальный идентификатор мероприятия;\n",
    "- `service_name` — название билетного оператора;\n",
    "- `event_type_main` — основной тип мероприятия (театральная постановка, концерт и так далее);\n",
    "- `region_name` — название региона, в котором прошло мероприятие;\n",
    "- `city_name` — название города, в котором прошло мероприятие."
   ]
  },
  {
   "cell_type": "markdown",
   "id": "120237b6",
   "metadata": {
    "id": "120237b6"
   },
   "source": [
    "---\n",
    "\n",
    "**Задача 1.2:** Изучим общую информацию о выгруженных данных. Оценим корректность выгрузки и объём полученных данных.\n",
    "\n",
    "---"
   ]
  },
  {
   "cell_type": "code",
   "execution_count": 9,
   "id": "e8c6517f",
   "metadata": {
    "id": "e8c6517f"
   },
   "outputs": [
    {
     "name": "stdout",
     "output_type": "stream",
     "text": [
      "<class 'pandas.core.frame.DataFrame'>\n",
      "RangeIndex: 290611 entries, 0 to 290610\n",
      "Data columns (total 15 columns):\n",
      " #   Column                 Non-Null Count   Dtype         \n",
      "---  ------                 --------------   -----         \n",
      " 0   user_id                290611 non-null  object        \n",
      " 1   device_type_canonical  290611 non-null  object        \n",
      " 2   order_id               290611 non-null  int64         \n",
      " 3   order_dt               290611 non-null  datetime64[ns]\n",
      " 4   order_ts               290611 non-null  datetime64[ns]\n",
      " 5   currency_code          290611 non-null  object        \n",
      " 6   revenue                290611 non-null  float64       \n",
      " 7   tickets_count          290611 non-null  int64         \n",
      " 8   days_since_prev        268678 non-null  float64       \n",
      " 9   event_id               290611 non-null  int64         \n",
      " 10  event_name             290611 non-null  object        \n",
      " 11  event_type_main        290611 non-null  object        \n",
      " 12  service_name           290611 non-null  object        \n",
      " 13  region_name            290611 non-null  object        \n",
      " 14  city_name              290611 non-null  object        \n",
      "dtypes: datetime64[ns](2), float64(2), int64(3), object(8)\n",
      "memory usage: 33.3+ MB\n"
     ]
    }
   ],
   "source": [
    "# Выводим информацию о датафрейме\n",
    "df.info()"
   ]
  },
  {
   "cell_type": "markdown",
   "id": "745a8489",
   "metadata": {
    "id": "6b7d2d83"
   },
   "source": [
    "Датасет `df` сдержит 15 столбцов и 290611 строк, в которых представлена информация о покупках пользователей Яндекс Афиши.\n",
    "\n",
    "После первичного анализа данных можно сделать следующие выводы:\n",
    "- Названия столбцов корректные, приведены к стилю snake case.\n",
    "- Типы данных соответствуют содержимому. Тип данных столбца `tickets_count` можно оптимизировать с понижением размерности до int8.\n",
    "- Пропуски содержит только столбец `days_since_prev`, что говорит о корректной выгрузке данных - ничего не потерялось. Пропуски в этом столбце означают, что пользователь совершил не более одного заказа, и не являются случайными.\n",
    "- Значения в столбцах соответствуют описанию.\n",
    "\n",
    "Первичное знакомство с данными показывает, что данные соответствуют описанию и выглядят корректными, пропуски датасета не требуют обработки."
   ]
  },
  {
   "cell_type": "markdown",
   "id": "66945343",
   "metadata": {
    "id": "66945343"
   },
   "source": [
    "---\n",
    "\n",
    "###  2. Предобработка данных\n",
    "\n",
    "\n",
    "---\n",
    "\n",
    "**Задача 2.1:** Данные о выручке сервиса представлены в российских рублях и казахстанских тенге. Приведем выручку к единой валюте — российскому рублю.\n",
    "\n",
    "Для этого используем датасет с информацией о курсе казахстанского тенге по отношению к российскому рублю за 2024 год — `final_tickets_tenge_df.csv`. Его можно загрузить по пути `https://code.s3.yandex.net/datasets/final_tickets_tenge_df.csv')`\n",
    "\n",
    "Значения в рублях представлено для 100 тенге.\n",
    "\n",
    "Результаты преобразования сохраним в новый столбец `revenue_rub`.\n",
    "\n",
    "---\n"
   ]
  },
  {
   "cell_type": "code",
   "execution_count": 10,
   "id": "c7ed8a0b",
   "metadata": {
    "id": "c7ed8a0b"
   },
   "outputs": [],
   "source": [
    "# Загружаем датасет с информацией о курсе тенге по отношению к рублю за 2024 год\n",
    "tenge_rate = pd.read_csv('https://code.s3.yandex.net/datasets/final_tickets_tenge_df.csv')"
   ]
  },
  {
   "cell_type": "code",
   "execution_count": 11,
   "id": "48e5ef83",
   "metadata": {
    "id": "48e5ef83"
   },
   "outputs": [
    {
     "data": {
      "text/html": [
       "<div>\n",
       "<style scoped>\n",
       "    .dataframe tbody tr th:only-of-type {\n",
       "        vertical-align: middle;\n",
       "    }\n",
       "\n",
       "    .dataframe tbody tr th {\n",
       "        vertical-align: top;\n",
       "    }\n",
       "\n",
       "    .dataframe thead th {\n",
       "        text-align: right;\n",
       "    }\n",
       "</style>\n",
       "<table border=\"1\" class=\"dataframe\">\n",
       "  <thead>\n",
       "    <tr style=\"text-align: right;\">\n",
       "      <th></th>\n",
       "      <th>data</th>\n",
       "      <th>nominal</th>\n",
       "      <th>curs</th>\n",
       "      <th>cdx</th>\n",
       "    </tr>\n",
       "  </thead>\n",
       "  <tbody>\n",
       "    <tr>\n",
       "      <th>0</th>\n",
       "      <td>2024-01-10</td>\n",
       "      <td>100</td>\n",
       "      <td>19.9391</td>\n",
       "      <td>kzt</td>\n",
       "    </tr>\n",
       "    <tr>\n",
       "      <th>1</th>\n",
       "      <td>2024-01-11</td>\n",
       "      <td>100</td>\n",
       "      <td>19.7255</td>\n",
       "      <td>kzt</td>\n",
       "    </tr>\n",
       "    <tr>\n",
       "      <th>2</th>\n",
       "      <td>2024-01-12</td>\n",
       "      <td>100</td>\n",
       "      <td>19.5839</td>\n",
       "      <td>kzt</td>\n",
       "    </tr>\n",
       "    <tr>\n",
       "      <th>3</th>\n",
       "      <td>2024-01-13</td>\n",
       "      <td>100</td>\n",
       "      <td>19.4501</td>\n",
       "      <td>kzt</td>\n",
       "    </tr>\n",
       "    <tr>\n",
       "      <th>4</th>\n",
       "      <td>2024-01-14</td>\n",
       "      <td>100</td>\n",
       "      <td>19.4501</td>\n",
       "      <td>kzt</td>\n",
       "    </tr>\n",
       "  </tbody>\n",
       "</table>\n",
       "</div>"
      ],
      "text/plain": [
       "         data  nominal     curs  cdx\n",
       "0  2024-01-10      100  19.9391  kzt\n",
       "1  2024-01-11      100  19.7255  kzt\n",
       "2  2024-01-12      100  19.5839  kzt\n",
       "3  2024-01-13      100  19.4501  kzt\n",
       "4  2024-01-14      100  19.4501  kzt"
      ]
     },
     "execution_count": 11,
     "metadata": {},
     "output_type": "execute_result"
    }
   ],
   "source": [
    "# Выводим первые строки датасета\n",
    "tenge_rate.head()"
   ]
  },
  {
   "cell_type": "code",
   "execution_count": 12,
   "id": "887667f3",
   "metadata": {
    "id": "887667f3"
   },
   "outputs": [],
   "source": [
    "# Переименовываем столбец data в order_dt для последующего объединения датасетов\n",
    "tenge_rate = tenge_rate.rename(columns={'data': 'order_dt'})"
   ]
  },
  {
   "cell_type": "code",
   "execution_count": 13,
   "id": "3d84f5ca",
   "metadata": {},
   "outputs": [],
   "source": [
    "# Приводим формат даты в датасете tenge_rate к datetime64\n",
    "tenge_rate['order_dt'] = pd.to_datetime(tenge_rate['order_dt'], format='%Y-%m-%d')"
   ]
  },
  {
   "cell_type": "code",
   "execution_count": 14,
   "id": "3ac691a0",
   "metadata": {},
   "outputs": [],
   "source": [
    "# Объединяем датафреймы df и tenge_rate по дате\n",
    "merged_df = df.merge(tenge_rate, on='order_dt', how='left')"
   ]
  },
  {
   "cell_type": "code",
   "execution_count": 15,
   "id": "b1bed81e",
   "metadata": {},
   "outputs": [],
   "source": [
    "# Создаем новый столбец revenue_rub и заполняем его значениями из столбца revenue\n",
    "merged_df['revenue_rub'] = merged_df['revenue']"
   ]
  },
  {
   "cell_type": "code",
   "execution_count": 16,
   "id": "a2c6b4e6",
   "metadata": {},
   "outputs": [],
   "source": [
    "# Заменяем значения в тенге в столбце revenue_rub на рубли, рассчитанные по курсу на текущий день\n",
    "merged_df.loc[merged_df['currency_code'] == 'kzt', 'revenue_rub'] = (merged_df['revenue'] * merged_df['curs'] / merged_df['nominal'])"
   ]
  },
  {
   "cell_type": "code",
   "execution_count": 17,
   "id": "15defe24",
   "metadata": {},
   "outputs": [
    {
     "data": {
      "text/html": [
       "<div>\n",
       "<style scoped>\n",
       "    .dataframe tbody tr th:only-of-type {\n",
       "        vertical-align: middle;\n",
       "    }\n",
       "\n",
       "    .dataframe tbody tr th {\n",
       "        vertical-align: top;\n",
       "    }\n",
       "\n",
       "    .dataframe thead th {\n",
       "        text-align: right;\n",
       "    }\n",
       "</style>\n",
       "<table border=\"1\" class=\"dataframe\">\n",
       "  <thead>\n",
       "    <tr style=\"text-align: right;\">\n",
       "      <th></th>\n",
       "      <th>revenue</th>\n",
       "      <th>currency_code</th>\n",
       "      <th>curs</th>\n",
       "      <th>revenue_rub</th>\n",
       "    </tr>\n",
       "  </thead>\n",
       "  <tbody>\n",
       "    <tr>\n",
       "      <th>70</th>\n",
       "      <td>518.10</td>\n",
       "      <td>kzt</td>\n",
       "      <td>19.0125</td>\n",
       "      <td>98.503762</td>\n",
       "    </tr>\n",
       "    <tr>\n",
       "      <th>89</th>\n",
       "      <td>347.18</td>\n",
       "      <td>kzt</td>\n",
       "      <td>18.9330</td>\n",
       "      <td>65.731589</td>\n",
       "    </tr>\n",
       "    <tr>\n",
       "      <th>96</th>\n",
       "      <td>328.77</td>\n",
       "      <td>kzt</td>\n",
       "      <td>18.5991</td>\n",
       "      <td>61.148261</td>\n",
       "    </tr>\n",
       "    <tr>\n",
       "      <th>277</th>\n",
       "      <td>22021.55</td>\n",
       "      <td>kzt</td>\n",
       "      <td>19.8928</td>\n",
       "      <td>4380.702898</td>\n",
       "    </tr>\n",
       "    <tr>\n",
       "      <th>460</th>\n",
       "      <td>7397.66</td>\n",
       "      <td>kzt</td>\n",
       "      <td>19.9833</td>\n",
       "      <td>1478.296591</td>\n",
       "    </tr>\n",
       "  </tbody>\n",
       "</table>\n",
       "</div>"
      ],
      "text/plain": [
       "      revenue currency_code     curs  revenue_rub\n",
       "70     518.10           kzt  19.0125    98.503762\n",
       "89     347.18           kzt  18.9330    65.731589\n",
       "96     328.77           kzt  18.5991    61.148261\n",
       "277  22021.55           kzt  19.8928  4380.702898\n",
       "460   7397.66           kzt  19.9833  1478.296591"
      ]
     },
     "execution_count": 17,
     "metadata": {},
     "output_type": "execute_result"
    }
   ],
   "source": [
    "# Выводим первые строки объединенного датасета для проверки корректности вычислений\n",
    "merged_df[merged_df['currency_code'] == 'kzt'][['revenue', 'currency_code', 'curs', 'revenue_rub']].head()"
   ]
  },
  {
   "cell_type": "code",
   "execution_count": 18,
   "id": "c6c8cd7b",
   "metadata": {},
   "outputs": [
    {
     "data": {
      "text/html": [
       "<div>\n",
       "<style scoped>\n",
       "    .dataframe tbody tr th:only-of-type {\n",
       "        vertical-align: middle;\n",
       "    }\n",
       "\n",
       "    .dataframe tbody tr th {\n",
       "        vertical-align: top;\n",
       "    }\n",
       "\n",
       "    .dataframe thead th {\n",
       "        text-align: right;\n",
       "    }\n",
       "</style>\n",
       "<table border=\"1\" class=\"dataframe\">\n",
       "  <thead>\n",
       "    <tr style=\"text-align: right;\">\n",
       "      <th></th>\n",
       "      <th>revenue</th>\n",
       "      <th>currency_code</th>\n",
       "      <th>curs</th>\n",
       "      <th>revenue_rub</th>\n",
       "    </tr>\n",
       "  </thead>\n",
       "  <tbody>\n",
       "    <tr>\n",
       "      <th>0</th>\n",
       "      <td>1521.94</td>\n",
       "      <td>rub</td>\n",
       "      <td>18.6972</td>\n",
       "      <td>1521.94</td>\n",
       "    </tr>\n",
       "    <tr>\n",
       "      <th>1</th>\n",
       "      <td>289.45</td>\n",
       "      <td>rub</td>\n",
       "      <td>18.3419</td>\n",
       "      <td>289.45</td>\n",
       "    </tr>\n",
       "    <tr>\n",
       "      <th>2</th>\n",
       "      <td>1258.57</td>\n",
       "      <td>rub</td>\n",
       "      <td>19.6475</td>\n",
       "      <td>1258.57</td>\n",
       "    </tr>\n",
       "    <tr>\n",
       "      <th>3</th>\n",
       "      <td>8.49</td>\n",
       "      <td>rub</td>\n",
       "      <td>18.5010</td>\n",
       "      <td>8.49</td>\n",
       "    </tr>\n",
       "    <tr>\n",
       "      <th>4</th>\n",
       "      <td>1390.41</td>\n",
       "      <td>rub</td>\n",
       "      <td>19.6648</td>\n",
       "      <td>1390.41</td>\n",
       "    </tr>\n",
       "  </tbody>\n",
       "</table>\n",
       "</div>"
      ],
      "text/plain": [
       "   revenue currency_code     curs  revenue_rub\n",
       "0  1521.94           rub  18.6972      1521.94\n",
       "1   289.45           rub  18.3419       289.45\n",
       "2  1258.57           rub  19.6475      1258.57\n",
       "3     8.49           rub  18.5010         8.49\n",
       "4  1390.41           rub  19.6648      1390.41"
      ]
     },
     "execution_count": 18,
     "metadata": {},
     "output_type": "execute_result"
    }
   ],
   "source": [
    "# Убедимся, что расчеты не повлияли на значения выручки в рублях\n",
    "merged_df[merged_df['currency_code'] == 'rub'][['revenue', 'currency_code', 'curs', 'revenue_rub']].head()"
   ]
  },
  {
   "cell_type": "markdown",
   "id": "d9867bfe",
   "metadata": {
    "id": "d9867bfe"
   },
   "source": [
    "---\n",
    "\n",
    "**Задача 2.2:**\n",
    "\n",
    "- Проверим данные объединенного датасета на пропущенные значения. При первичном знакомстве с данными мы выяснили, что пропуски содержит только столбец `days_since_prev`, что говорит о корректной выгрузке данных. Подсчитаем долю строк с этими пропусками и проверим другие добавленные столбцы.\n",
    "- Преобразуем тип данных столбца `tickets_count` с понижением размерности до int8.\n",
    "- Изучим значения в ключевых столбцах и обработаем ошибки.\n",
    "\n",
    "---"
   ]
  },
  {
   "cell_type": "code",
   "execution_count": 19,
   "id": "e68c5629",
   "metadata": {
    "id": "e68c5629"
   },
   "outputs": [
    {
     "data": {
      "text/plain": [
       "days_since_prev          7.547202\n",
       "user_id                  0.000000\n",
       "event_name               0.000000\n",
       "cdx                      0.000000\n",
       "curs                     0.000000\n",
       "nominal                  0.000000\n",
       "city_name                0.000000\n",
       "region_name              0.000000\n",
       "service_name             0.000000\n",
       "event_type_main          0.000000\n",
       "event_id                 0.000000\n",
       "device_type_canonical    0.000000\n",
       "tickets_count            0.000000\n",
       "revenue                  0.000000\n",
       "currency_code            0.000000\n",
       "order_ts                 0.000000\n",
       "order_dt                 0.000000\n",
       "order_id                 0.000000\n",
       "revenue_rub              0.000000\n",
       "dtype: float64"
      ]
     },
     "execution_count": 19,
     "metadata": {},
     "output_type": "execute_result"
    }
   ],
   "source": [
    "# Подсчитаем долю строк с пропусками\n",
    "(merged_df.isna().sum() / merged_df.shape[0] * 100).sort_values(ascending=False)"
   ]
  },
  {
   "cell_type": "markdown",
   "id": "1f577f9c",
   "metadata": {
    "id": "19da3d6b"
   },
   "source": [
    "Доля пропущенных значений в столбце `days_since_prev` не превышает 8 %. Пропуски в этом столбце означают, что пользователь совершил не более одного заказа, и не являются случайными. В других столбцах пропусков не обнаружено."
   ]
  },
  {
   "cell_type": "code",
   "execution_count": 20,
   "id": "06eaaf47",
   "metadata": {},
   "outputs": [],
   "source": [
    "# Оптимизируем целочисленный тип данных в столбце tickets_count\n",
    "merged_df['tickets_count'] = pd.to_numeric(merged_df['tickets_count'], downcast='integer')"
   ]
  },
  {
   "cell_type": "code",
   "execution_count": 21,
   "id": "9d1281fa",
   "metadata": {},
   "outputs": [
    {
     "data": {
      "text/plain": [
       "user_id                          object\n",
       "device_type_canonical            object\n",
       "order_id                          int64\n",
       "order_dt                 datetime64[ns]\n",
       "order_ts                 datetime64[ns]\n",
       "currency_code                    object\n",
       "revenue                         float64\n",
       "tickets_count                      int8\n",
       "days_since_prev                 float64\n",
       "event_id                          int64\n",
       "event_name                       object\n",
       "event_type_main                  object\n",
       "service_name                     object\n",
       "region_name                      object\n",
       "city_name                        object\n",
       "nominal                           int64\n",
       "curs                            float64\n",
       "cdx                              object\n",
       "revenue_rub                     float64\n",
       "dtype: object"
      ]
     },
     "execution_count": 21,
     "metadata": {},
     "output_type": "execute_result"
    }
   ],
   "source": [
    "# Проверяем типы данных в датафрейме merged_df с помощью атрибута dtypes\n",
    "merged_df.dtypes"
   ]
  },
  {
   "cell_type": "markdown",
   "id": "af63a12b",
   "metadata": {},
   "source": [
    "Тип данных столбца `tickets_count` приведен к int8."
   ]
  },
  {
   "cell_type": "code",
   "execution_count": 22,
   "id": "3d754212",
   "metadata": {},
   "outputs": [
    {
     "name": "stdout",
     "output_type": "stream",
     "text": [
      "Уникальные значения в столбце device_type_canonical:\n",
      "['desktop' 'mobile']\n",
      "\n",
      "Уникальные значения в столбце currency_code:\n",
      "['kzt' 'rub']\n",
      "\n",
      "Уникальные значения в столбце event_name:\n",
      "['000a9c8d-65bb-4178-a5a8-9ddc1f3bf71e'\n",
      " '0015b11d-a3e0-4656-887a-383450a9b313'\n",
      " '00298e1a-ae90-482b-819d-ba88ceff59b0' ...\n",
      " 'fff20f2b-de72-451a-8168-b765352e502c'\n",
      " 'fff68929-41eb-4dd7-90bf-76d3ae8b652f'\n",
      " 'fffd87ef-5469-4684-af21-4f9b86a13189']\n",
      "\n",
      "Уникальные значения в столбце event_type_main:\n",
      "['выставки' 'другое' 'концерты' 'спорт' 'стендап' 'театр' 'ёлки']\n",
      "\n",
      "Уникальные значения в столбце service_name:\n",
      "['Crazy ticket!' 'Show_ticket' 'Билет по телефону' 'Билеты без проблем'\n",
      " 'Билеты в интернете' 'Билеты в руки' 'Быстробилет' 'Быстрый кассир'\n",
      " 'Весь в билетах' 'Восьмёрка' 'Вперёд!' 'Выступления.ру'\n",
      " 'Городской дом культуры' 'Дом культуры' 'Дырокол' 'За билетом!'\n",
      " 'Зе Бест!' 'КарандашРУ' 'Кино билет' 'Край билетов' 'Лимоны'\n",
      " 'Лови билет!' 'Лучшие билеты' 'Мир касс' 'Мой билет' 'Облачко'\n",
      " 'Прачечная' 'Радио ticket' 'Реестр' 'Росбилет' 'Тебе билет!' 'Телебилет'\n",
      " 'Тех билет' 'Цвет и билет' 'Шоу начинается!' 'Яблоко']\n",
      "\n",
      "Уникальные значения в столбце region_name:\n",
      "['Белоярская область' 'Берестовский округ' 'Берёзовская область'\n",
      " 'Боровлянский край' 'Верховинская область' 'Верхозёрский край'\n",
      " 'Верхоречная область' 'Ветренский регион' 'Вишнёвский край'\n",
      " 'Глиногорская область' 'Голубевский округ' 'Горицветская область'\n",
      " 'Горноземский регион' 'Горностепной регион' 'Дальнеземская область'\n",
      " 'Дальнезорский край' 'Дубравная область' 'Залесский край'\n",
      " 'Заречная область' 'Зеленоградский округ' 'Златопольский округ'\n",
      " 'Золотоключевской край' 'Зоринский регион' 'Каменевский регион'\n",
      " 'Каменичская область' 'Каменноозёрный край' 'Каменноярский край'\n",
      " 'Каменополянский округ' 'Ключеводский округ' 'Кристаловская область'\n",
      " 'Кристальная область' 'Крутоводская область' 'Крутоводский регион'\n",
      " 'Лесноярский край' 'Лесодальний край' 'Лесополянская область'\n",
      " 'Лесостепной край' 'Лесоярская область' 'Луговая область'\n",
      " 'Лугоградская область' 'Малиновая область' 'Малиновоярский округ'\n",
      " 'Медовская область' 'Миропольская область' 'Нежинская область'\n",
      " 'Озернинский край' 'Озернопольская область' 'Островная область'\n",
      " 'Островогорский округ' 'Поленовский край' 'Радужногорская область'\n",
      " 'Радужнопольский край' 'Речиновская область' 'Речицкая область'\n",
      " 'Речицкий регион' 'Ручейковский край' 'Светолесский край'\n",
      " 'Светополянский округ' 'Североключевской округ' 'Североозёрский округ'\n",
      " 'Североярская область' 'Серебринская область' 'Серебряноярский округ'\n",
      " 'Синегорский регион' 'Солнечноземская область'\n",
      " 'Солнечнореченская область' 'Сосноводолинская область'\n",
      " 'Сосновская область' 'Теплоозёрский округ' 'Тепляковская область'\n",
      " 'Тихогорская область' 'Тихолесский край' 'Тихореченская область'\n",
      " 'Травиницкий округ' 'Травяная область' 'Чистогорская область'\n",
      " 'Шанырский регион' 'Широковская область' 'Яблоневская область'\n",
      " 'Ягодиновская область' 'Яснопольский округ']\n",
      "\n",
      "Уникальные значения в столбце city_name:\n",
      "['Айкольск' 'Айсуак' 'Акбастау' 'Акбасты' 'Акжолтау' 'Алтынкала'\n",
      " 'Алтынсай' 'Байкуль' 'Байсары' 'Байтерековск' 'Беловодск' 'Белоярск'\n",
      " 'Бережанка' 'Бережанск' 'Березиногорск' 'Березиноск' 'Березовцево'\n",
      " 'Берестовец' 'Берестяград' 'Берёзиново' 'Берёзовка' 'Берёзогорск'\n",
      " 'Берёзодальн' 'Берёзополье' 'Берёзореч' 'Берёзоречье' 'Бозарык'\n",
      " 'Боровлянск' 'Буркиттау' 'Бурьяново' 'Верховино' 'Верховка'\n",
      " 'Верхозолотск' 'Верхозорье' 'Верхоозёров' 'Ветеринск' 'Вишнёво'\n",
      " 'Вишнёвогорск' 'Вишнёводск' 'Водниково' 'Глиногорск' 'Глиногорь'\n",
      " 'Глиноград' 'Глинозолото' 'Глинозорь' 'Глинолес' 'Глинополин'\n",
      " 'Глинополье' 'Глинополянск' 'Глинореч' 'Глинянск' 'Голубевск' 'Голубино'\n",
      " 'Гореловск' 'Горицветск' 'Горноград' 'Горнодолинск' 'Горнолесье'\n",
      " 'Горнолуг' 'Горнополец' 'Горнополье' 'Горнополянск' 'Горнополяровск'\n",
      " 'Горнополёк' 'Горноставинск' 'Горяново' 'Дальнеград' 'Дальнесветин'\n",
      " 'Дальнесветск' 'Дальнесоснов' 'Дальнозелен' 'Дальнозерск' 'Дальнозолотск'\n",
      " 'Дальнолесье' 'Дальнополин' 'Долиновка' 'Долиновск' 'Жаркентай' 'Желкаин'\n",
      " 'Желтау' 'Желтоксан' 'Жетисайск' 'Зареченец' 'Заречийск' 'Заречиновка'\n",
      " 'Заречинск' 'Заречка' 'Заречнаярово' 'Заречник' 'Заречнинск'\n",
      " 'Зеленогорье' 'Зеленоградовск' 'Зеленолесье' 'Зеленополец' 'Зеленополин'\n",
      " 'Зеленополье' 'Зелёнаярово' 'Зелёново' 'Зелёнояр' 'Златоозёрово'\n",
      " 'Златополье' 'Златопольск' 'Златоречинск' 'Златоречье' 'Зоревец'\n",
      " 'Зоревичск' 'Зореполин' 'Зоречанск' 'Зориново' 'Каменевовск' 'Каменевск'\n",
      " 'Каменевский' 'Каменичи' 'Каменогорский' 'Каменогорье' 'Каменодолин'\n",
      " 'Каменозолото' 'Каменосветск' 'Каменояр' 'Каменский' 'Каменёвка'\n",
      " 'Каражар' 'Каражол' 'Карасуй' 'Карасуйск' 'Кенесар' 'Ключевинск'\n",
      " 'Ключевогорск' 'Ключеводск' 'Ключевополье' 'Ключеград' 'Ключезолотск'\n",
      " 'Кокжар' 'Коксуйск' 'Кристалевск' 'Кристалин' 'Кристалинск' 'Кристаловец'\n",
      " 'Кристаловка' 'Кристальевка' 'Кристолесье' 'Крутовинск' 'Крутовичи'\n",
      " 'Крутово' 'Крутоводинск' 'Крутоводск' 'Кумсай' 'Кумсары' 'Кызылжол'\n",
      " 'Лесиново' 'Лесинск' 'Леснойск' 'Лесоводск' 'Лесогорич' 'Лесогорск'\n",
      " 'Лесогорский' 'Лесодолинск' 'Лесозерск' 'Лесозолотск' 'Лесополин'\n",
      " 'Лесореченск' 'Лесочистка' 'Лесоярич' 'Лесоярка' 'Лесоярово' 'Лугиново'\n",
      " 'Луговаярово' 'Луговинец' 'Луговинск' 'Луговское' 'Лугоград' 'Луновка'\n",
      " 'Малиновец' 'Малиновецк' 'Малиновинск' 'Малиноворск' 'Малиновочист'\n",
      " 'Медвежанск' 'Медвежиновск' 'Медвежник' 'Медовецк' 'Медовино' 'Мироград'\n",
      " 'Миролесье' 'Мирополь' 'Миросветск' 'Мироярово' 'Нежинск' 'Нивинск'\n",
      " 'Никольянов' 'Нуртас' 'Озёречин' 'Озёриново' 'Озёрово' 'Озёроград'\n",
      " 'Озёроярск' 'Озёрск' 'Озёрчане' 'Озёряновск' 'Ордакент' 'Ордасай'\n",
      " 'Островенск' 'Островецк' 'Острововск' 'Островозёров' 'Островополь'\n",
      " 'Островсков' 'Островской' 'Островярово' 'Песковино' 'Песчанец'\n",
      " 'Песчанская' 'Поленовец' 'Поленовино' 'Поленовичи' 'Поленоград'\n",
      " 'Поленолесье' 'Поленоозёрово' 'Поленосвет' 'Поленосветск' 'Поленояр'\n",
      " 'Поляновск' 'Поляногорье' 'Поляноречинск' 'Полянск' 'Радугорь'\n",
      " 'Радужанов' 'Радужинск' 'Радужнаярова' 'Радужновка' 'Радужнополье'\n",
      " 'Радужнояр' 'Радужовинск' 'Радужсвет' 'Речевинец' 'Реченогор' 'Реченск'\n",
      " 'Речепольск' 'Речиноград' 'Речинск' 'Речинцево' 'Речичанск' 'Речное'\n",
      " 'Родинсветск' 'Родниковец' 'Родниковецк' 'Родниковск' 'Родничанск'\n",
      " 'Рощино' 'Ручейковск' 'Ручейник' 'Ручейницк' 'Ручейновинск' 'Ручейный'\n",
      " 'Ручьевино' 'Сарыбулак' 'Сарыжар' 'Сарытау' 'Светлоярск' 'Светогория'\n",
      " 'Светозолотск' 'Светозорск' 'Светозёринск' 'Светополь' 'Светополье'\n",
      " 'Светоречин' 'Светочистенск' 'Светочистка' 'Светоярич' 'Светоярово'\n",
      " 'Светоярчик' 'Северобережье' 'Северогорск' 'Североград' 'Северополье'\n",
      " 'Серебринск' 'Серебровино' 'Серебровка' 'Сереброяр' 'Серебрянка'\n",
      " 'Синеводов' 'Синеводск' 'Синегориново' 'Синегорск' 'Синеполинск'\n",
      " 'Солнечеводск' 'Солнечегорск' 'Солнечеград' 'Солнечейск' 'Солнечелесье'\n",
      " 'Солнечеполье' 'Солнечнёвка' 'Солнечёвино' 'Соловьёвка' 'Солчелуг'\n",
      " 'Сосновецк' 'Сосновечин' 'Сосновинск' 'Сосновогорец' 'Сосновогорск'\n",
      " 'Сосноград' 'Талдысай' 'Тастай' 'Ташбулак' 'Теплоград' 'Теплоозеро'\n",
      " 'Теплоозёрск' 'Тепляковск' 'Тепляровск' 'Тихогорово' 'Тиходеревск'\n",
      " 'Тихозорин' 'Тихолесье' 'Тихолесьевск' 'Тихоозёрск' 'Тихоречка'\n",
      " 'Тихосветск' 'Тихоярск' 'Тогусжол' 'Травино' 'Травогород' 'Травогорск'\n",
      " 'Травяниково' 'Травяниново' 'Травяночистск' 'Травянский' 'Тулебайск'\n",
      " 'Чистогорье' 'Чистояр' 'Шалкартау' 'Шаныртау' 'Широковка' 'Шынартас'\n",
      " 'Шынгысай' 'Яблоневое' 'Яблоневск' 'Яблонецк' 'Яблоновец' 'Ягодинец'\n",
      " 'Ягодино' 'Ягодиновка' 'Ягодиноград' 'Ягодиноск' 'Ягодинск' 'Ягодинска'\n",
      " 'Ясновский' 'Ясногорец' 'Ясногородин' 'Ясноград' 'Яснолесье'\n",
      " 'Яснополянск' 'Ясносветск']\n",
      "\n"
     ]
    }
   ],
   "source": [
    "# Проверяем уникальные значения в категориальных столбцах\n",
    "for column in ['device_type_canonical', 'currency_code', 'event_name', 'event_type_main', 'service_name', 'region_name', 'city_name']:\n",
    "    print(f'Уникальные значения в столбце {column}:')\n",
    "    print(merged_df[column].sort_values().unique())\n",
    "    print()"
   ]
  },
  {
   "cell_type": "markdown",
   "id": "cf739c31",
   "metadata": {
    "id": "d31ebfc8"
   },
   "source": [
    "В категориальных столбцах категории с обозначением пропусков в данных или отсутствия информации не обнаружены. Нормализация данных не требуется."
   ]
  },
  {
   "cell_type": "code",
   "execution_count": 23,
   "id": "3eed3e2e",
   "metadata": {},
   "outputs": [
    {
     "data": {
      "text/plain": [
       "count    290611.000000\n",
       "mean        555.571987\n",
       "std         875.498172\n",
       "min         -90.760000\n",
       "25%         113.970000\n",
       "50%         351.140000\n",
       "75%         802.050000\n",
       "95%        1630.650000\n",
       "99%        2628.421739\n",
       "max       81174.540000\n",
       "Name: revenue_rub, dtype: float64"
      ]
     },
     "execution_count": 23,
     "metadata": {},
     "output_type": "execute_result"
    }
   ],
   "source": [
    "# Получим краткое статистическое описание данных о выручке\n",
    "merged_df['revenue_rub'].describe(percentiles = [0.25, 0.5, 0.75, 0.95, 0.99])"
   ]
  },
  {
   "cell_type": "markdown",
   "id": "6c65759a",
   "metadata": {},
   "source": [
    "Среднее значение (556) значительно больше медианы (351), что может быть связано с выбросами в данных, которые увеличивают среднее значение. Значение стандартного отклонения также высокое - 875 при среднем значении 351, данные могут иметь широкий разброс. Максимальное значение (81174.54) похоже на аномальное."
   ]
  },
  {
   "cell_type": "code",
   "execution_count": 24,
   "id": "d2719b72",
   "metadata": {},
   "outputs": [
    {
     "data": {
      "image/png": "[encoded data removed]",
      "text/plain": [
       "<Figure size 576x432 with 1 Axes>"
      ]
     },
     "metadata": {
      "needs_background": "light"
     },
     "output_type": "display_data"
    }
   ],
   "source": [
    "# Строим гистограмму распределения выручки\n",
    "merged_df['revenue_rub'].plot(kind='hist', \n",
    "                   title='Выручка с заказа', \n",
    "                   legend=False, \n",
    "                   bins=50,                  \n",
    "                   rot=0,\n",
    "                   color='skyblue',\n",
    "                   edgecolor='black',\n",
    "                   figsize=(8, 6))\n",
    "plt.xlabel('Выручка, руб.')\n",
    "plt.ylabel('Частота')\n",
    "plt.grid(axis='both')\n",
    "plt.show()"
   ]
  },
  {
   "cell_type": "code",
   "execution_count": 25,
   "id": "05021a19",
   "metadata": {},
   "outputs": [
    {
     "data": {
      "image/png": "[encoded data removed]",
      "text/plain": [
       "<Figure size 576x432 with 1 Axes>"
      ]
     },
     "metadata": {
      "needs_background": "light"
     },
     "output_type": "display_data"
    }
   ],
   "source": [
    "# Строим диаграмму размаха значений\n",
    "merged_df.boxplot(column='revenue_rub', vert=False, figsize=(8, 6))\n",
    "\n",
    "plt.title('Распределение выручки с заказа')\n",
    "plt.xlabel('Выручка, руб.')\n",
    "plt.show()"
   ]
  },
  {
   "cell_type": "code",
   "execution_count": 26,
   "id": "312a5023",
   "metadata": {},
   "outputs": [
    {
     "data": {
      "image/png": "[encoded data removed]",
      "text/plain": [
       "<Figure size 576x432 with 1 Axes>"
      ]
     },
     "metadata": {
      "needs_background": "light"
     },
     "output_type": "display_data"
    }
   ],
   "source": [
    "# Строим диаграмму размаха значений без выбросов\n",
    "merged_df.boxplot(column='revenue_rub', vert=False, showfliers=False, figsize=(8, 6))\n",
    "\n",
    "plt.title('Распределение выручки с заказа')\n",
    "plt.xlabel('Выручка, руб.')\n",
    "plt.show()"
   ]
  },
  {
   "cell_type": "markdown",
   "id": "ece9b78b",
   "metadata": {},
   "source": [
    "Распределение выручки с заказа - правое асимметричное. По диаграмме размаха видно, что значения выше 1800 руб. можно считать выбросами. Аномальные значения могут принадлежать большим корпоративным заказам для сотрудников предприятий."
   ]
  },
  {
   "cell_type": "code",
   "execution_count": 27,
   "id": "be2b0519",
   "metadata": {},
   "outputs": [
    {
     "data": {
      "text/plain": [
       "count    290611.000000\n",
       "mean          2.754311\n",
       "std           1.170620\n",
       "min           1.000000\n",
       "25%           2.000000\n",
       "50%           3.000000\n",
       "75%           4.000000\n",
       "95%           5.000000\n",
       "99%           6.000000\n",
       "max          57.000000\n",
       "Name: tickets_count, dtype: float64"
      ]
     },
     "execution_count": 27,
     "metadata": {},
     "output_type": "execute_result"
    }
   ],
   "source": [
    "# Получим краткое статистическое описание данных о количестве билетов в заказе\n",
    "merged_df['tickets_count'].describe(percentiles = [0.25, 0.5, 0.75, 0.95, 0.99])"
   ]
  },
  {
   "cell_type": "markdown",
   "id": "d1e968f4",
   "metadata": {},
   "source": [
    "Среднее значение (2.75) немного меньше медианы (3.00). Значение стандартного отклонения невысокое - 1.17, значит, разброс данных не широкий. Максимальное значение количества билетов в заказе (57) похоже на аномальное и может быть связано с аномальным максимальным значением выручки, что укрепляет гипотезу о большом корпоративном заказе."
   ]
  },
  {
   "cell_type": "code",
   "execution_count": 28,
   "id": "023eca7f",
   "metadata": {},
   "outputs": [
    {
     "data": {
      "image/png": "[encoded data removed]",
      "text/plain": [
       "<Figure size 576x432 with 1 Axes>"
      ]
     },
     "metadata": {
      "needs_background": "light"
     },
     "output_type": "display_data"
    }
   ],
   "source": [
    "# Строим гистограмму распределения количества билетов в заказе\n",
    "merged_df['tickets_count'].plot(kind='hist', \n",
    "                   title='Количество билетов в заказе', \n",
    "                   legend=False, \n",
    "                   bins=50,                  \n",
    "                   rot=0,\n",
    "                   color='skyblue',\n",
    "                   edgecolor='black',\n",
    "                   figsize=(8, 6))\n",
    "plt.xlabel('Количество билетов')\n",
    "plt.ylabel('Частота')\n",
    "plt.grid(axis='both')\n",
    "plt.show()"
   ]
  },
  {
   "cell_type": "code",
   "execution_count": 29,
   "id": "4eea4a34",
   "metadata": {},
   "outputs": [
    {
     "data": {
      "image/png": "[encoded data removed]",
      "text/plain": [
       "<Figure size 576x432 with 1 Axes>"
      ]
     },
     "metadata": {
      "needs_background": "light"
     },
     "output_type": "display_data"
    }
   ],
   "source": [
    "# Строим диаграмму размаха значений\n",
    "merged_df.boxplot(column='tickets_count', vert=False, figsize=(8, 6))\n",
    "\n",
    "plt.title('Распределение количества билетов в заказе')\n",
    "plt.xlabel('Количество билетов, шт.')\n",
    "plt.show()"
   ]
  },
  {
   "cell_type": "code",
   "execution_count": 30,
   "id": "1a5c9d3e",
   "metadata": {},
   "outputs": [
    {
     "data": {
      "image/png": "[encoded data removed]",
      "text/plain": [
       "<Figure size 576x432 with 1 Axes>"
      ]
     },
     "metadata": {
      "needs_background": "light"
     },
     "output_type": "display_data"
    }
   ],
   "source": [
    "# Строим диаграмму размаха значений без выбросов\n",
    "merged_df.boxplot(column='tickets_count', vert=False, showfliers=False, figsize=(8, 6))\n",
    "\n",
    "plt.title('Распределение количества билетов в заказе')\n",
    "plt.xlabel('Количество билетов, шт.')\n",
    "plt.show()"
   ]
  },
  {
   "cell_type": "markdown",
   "id": "0500b631",
   "metadata": {},
   "source": [
    "Распределение количества билетов в заказе - правое асимметричное. По диаграмме размаха видно, что значения выше 7 шт. можно считать выбросами. Аномальные значения могут принадлежать большим корпоративным заказам для сотрудников предприятий."
   ]
  },
  {
   "cell_type": "code",
   "execution_count": 31,
   "id": "71b96f68",
   "metadata": {},
   "outputs": [
    {
     "name": "stdout",
     "output_type": "stream",
     "text": [
      "99-й перцентиль выручки: 2628.42\n",
      "99-й перцентиль количества билетов: 6\n"
     ]
    }
   ],
   "source": [
    "# Определяем 99-й перцентиль для выручки и количества заказов\n",
    "revenue_p99 = merged_df['revenue_rub'].quantile(0.99)\n",
    "tickets_p99 = merged_df['tickets_count'].quantile(0.99)\n",
    "print(\"99-й перцентиль выручки:\", round(revenue_p99, 2))\n",
    "print(\"99-й перцентиль количества билетов:\", round(tickets_p99))"
   ]
  },
  {
   "cell_type": "code",
   "execution_count": 32,
   "id": "1f917567",
   "metadata": {},
   "outputs": [],
   "source": [
    "# Отфильтровываем значения больше 99-го перцентиля\n",
    "filtered_df = merged_df[(merged_df['revenue_rub'] <= revenue_p99) & \n",
    "                        (merged_df['tickets_count'] <= tickets_p99)]"
   ]
  },
  {
   "cell_type": "code",
   "execution_count": 33,
   "id": "ed28e24d",
   "metadata": {},
   "outputs": [
    {
     "name": "stdout",
     "output_type": "stream",
     "text": [
      "Отфильтровано выбросов: 3005 строк (1.034%)\n"
     ]
    }
   ],
   "source": [
    "# Выводим количество отфильтрованных строк\n",
    "removed = len(merged_df) - len(filtered_df)\n",
    "print(f\"Отфильтровано выбросов: {removed} строк ({removed / len(merged_df):.3%})\")"
   ]
  },
  {
   "cell_type": "markdown",
   "id": "734df9d4",
   "metadata": {},
   "source": [
    "### В результате предобработки данных были выполнены следующие действия:\n",
    "\n",
    "- Значения выручки сервиса приведены к единой валюте - российскому рублю. Результаты сохранены в новый столбец `revenue_rub`.\n",
    "- Подсчитана доля пропусков в каждом столбце. Пропуски содержит только столбец `days_since_prev`, что говорит о корректной выгрузке данных. Доля пропущенных значений в столбце `days_since_prev` не превышает 8 %. Пропуски в этом столбце означают, что пользователь совершил не более одного заказа, и не являются случайными.\n",
    "- Тип данных столбца `tickets_count` преобразован с понижением размерности до int8.\n",
    "- Изучены значения в ключевых столбцах:\n",
    "    - В категориальных столбцах категории с обозначением пропусков в данных или отсутствия информации не обнаружены. Нормализация данных не требуется.\n",
    "    - В столбцах `revenue_rub` и `tickets_count` с численными данными обнаружены выбросы - аномальные максимальные значения, которые могут быть связаны с большими корпоративными заказами. Данные отфильтрованы - исключены выбросы по 99-му перцентилю. Количество отфильтрованных выбросов составило: 3005 строк (менее 2 %)."
   ]
  },
  {
   "cell_type": "markdown",
   "id": "621c1db9",
   "metadata": {
    "id": "621c1db9"
   },
   "source": [
    "---\n",
    "\n",
    "### 3. Создание профиля пользователя\n",
    "\n",
    "Для создания модели для прогнозирования возврата пользователей построим агрегированные признаки, описывающие поведение и профиль каждого пользователя.\n",
    "\n",
    "---\n",
    "\n",
    "**Задача 3.1.** Построим профиль пользователя — для каждого пользователя найдем:\n",
    "\n",
    "- дату первого и последнего заказа;\n",
    "- устройство, с которого был сделан первый заказ;\n",
    "- регион, в котором был сделан первый заказ;\n",
    "- билетного партнёра, к которому обращались при первом заказе;\n",
    "- жанр первого посещённого мероприятия (используем поле `event_type_main`);\n",
    "- общее количество заказов;\n",
    "- средняя выручка с одного заказа в рублях;\n",
    "- среднее количество билетов в заказе;\n",
    "- среднее время между заказами.\n",
    "\n",
    "После этого добавим два бинарных признака:\n",
    "\n",
    "- `is_two` — совершил ли пользователь 2 и более заказа;\n",
    "- `is_five` — совершил ли пользователь 5 и более заказов.\n",
    "\n",
    "\n",
    "---\n"
   ]
  },
  {
   "cell_type": "code",
   "execution_count": 34,
   "id": "d351239c",
   "metadata": {
    "id": "d351239c"
   },
   "outputs": [],
   "source": [
    "# Сортируем данные по времени совершения заказа\n",
    "filtered_df = filtered_df.sort_values('order_ts')"
   ]
  },
  {
   "cell_type": "code",
   "execution_count": 35,
   "id": "7d4fd2fe",
   "metadata": {},
   "outputs": [],
   "source": [
    "# Находим для каждого пользователя дату первого и последнего заказа\n",
    "user_profile = filtered_df.groupby('user_id').agg(first_order_dt=('order_dt', 'min'), \n",
    "                                         last_order_dt=('order_dt', 'max')).reset_index()"
   ]
  },
  {
   "cell_type": "code",
   "execution_count": 36,
   "id": "c9e94ef1",
   "metadata": {},
   "outputs": [],
   "source": [
    "# Находим для каждого пользователя первый заказ\n",
    "first_orders = filtered_df.sort_values('order_ts').groupby('user_id').first().reset_index()"
   ]
  },
  {
   "cell_type": "code",
   "execution_count": 37,
   "id": "e28b8629",
   "metadata": {},
   "outputs": [],
   "source": [
    "# Находим для каждого пользователя устройство, регион, билетного партнера и жанр мероприятия первого заказа\n",
    "user_profile = user_profile.merge(first_orders[['user_id', \n",
    "                                                'device_type_canonical', \n",
    "                                                'region_name', \n",
    "                                                'service_name', \n",
    "                                                'event_type_main']], on='user_id', how='left')\n",
    "\n",
    "# Переименовываем столбцы найденных параметров, чтобы не путать с исходными данными\n",
    "user_profile.rename(columns={'device_type_canonical': 'first_device', \n",
    "                             'region_name': 'first_region', \n",
    "                             'service_name': 'first_service', \n",
    "                             'event_type_main': 'first_event_type'}, inplace=True)"
   ]
  },
  {
   "cell_type": "code",
   "execution_count": 38,
   "id": "d4e36881",
   "metadata": {},
   "outputs": [],
   "source": [
    "# Находим остальные показатели\n",
    "user_metrics = filtered_df.groupby('user_id').agg(orders_count=('order_id', 'nunique'), # общее количество заказов\n",
    "                                                  avg_revenue=('revenue_rub', 'mean'), # средняя выручка с одного заказа в рублях\n",
    "                                                  avg_tickets=('tickets_count', 'mean'), # среднее количество билетов в заказе\n",
    "                                                  avg_days_since_prev=('days_since_prev', 'mean')).reset_index() # среднее время между заказами\n",
    "\n",
    "# Соединяем найденные метрики в профиль пользователя\n",
    "user_profile = user_profile.merge(user_metrics, on='user_id', how='left')"
   ]
  },
  {
   "cell_type": "code",
   "execution_count": 39,
   "id": "e374ef11",
   "metadata": {
    "id": "e374ef11"
   },
   "outputs": [],
   "source": [
    "# Создаем бинарные признаки\n",
    "user_profile['is_two'] = (user_profile['orders_count'] >= 2).astype(int) # пользователь совершил 2 и более заказа\n",
    "user_profile['is_five'] = (user_profile['orders_count'] >= 5).astype(int) # пользователь совершил 5 и более заказов\n",
    "\n",
    "# Оптимизируем целочисленный тип данных в полученных столбцах\n",
    "user_profile['is_two'] = pd.to_numeric(user_profile['is_two'], downcast='integer')\n",
    "user_profile['is_five'] = pd.to_numeric(user_profile['is_five'], downcast='integer')"
   ]
  },
  {
   "cell_type": "code",
   "execution_count": 40,
   "id": "38d3fcdb",
   "metadata": {},
   "outputs": [
    {
     "data": {
      "text/html": [
       "<div>\n",
       "<style scoped>\n",
       "    .dataframe tbody tr th:only-of-type {\n",
       "        vertical-align: middle;\n",
       "    }\n",
       "\n",
       "    .dataframe tbody tr th {\n",
       "        vertical-align: top;\n",
       "    }\n",
       "\n",
       "    .dataframe thead th {\n",
       "        text-align: right;\n",
       "    }\n",
       "</style>\n",
       "<table border=\"1\" class=\"dataframe\">\n",
       "  <thead>\n",
       "    <tr style=\"text-align: right;\">\n",
       "      <th></th>\n",
       "      <th>user_id</th>\n",
       "      <th>first_order_dt</th>\n",
       "      <th>last_order_dt</th>\n",
       "      <th>first_device</th>\n",
       "      <th>first_region</th>\n",
       "      <th>first_service</th>\n",
       "      <th>first_event_type</th>\n",
       "      <th>orders_count</th>\n",
       "      <th>avg_revenue</th>\n",
       "      <th>avg_tickets</th>\n",
       "      <th>avg_days_since_prev</th>\n",
       "      <th>is_two</th>\n",
       "      <th>is_five</th>\n",
       "    </tr>\n",
       "  </thead>\n",
       "  <tbody>\n",
       "    <tr>\n",
       "      <th>0</th>\n",
       "      <td>0002849b70a3ce2</td>\n",
       "      <td>2024-08-20</td>\n",
       "      <td>2024-08-20</td>\n",
       "      <td>mobile</td>\n",
       "      <td>Каменевский регион</td>\n",
       "      <td>Край билетов</td>\n",
       "      <td>театр</td>\n",
       "      <td>1</td>\n",
       "      <td>1521.940000</td>\n",
       "      <td>4.000000</td>\n",
       "      <td>NaN</td>\n",
       "      <td>0</td>\n",
       "      <td>0</td>\n",
       "    </tr>\n",
       "    <tr>\n",
       "      <th>1</th>\n",
       "      <td>0005ca5e93f2cf4</td>\n",
       "      <td>2024-07-23</td>\n",
       "      <td>2024-10-06</td>\n",
       "      <td>mobile</td>\n",
       "      <td>Каменевский регион</td>\n",
       "      <td>Мой билет</td>\n",
       "      <td>выставки</td>\n",
       "      <td>2</td>\n",
       "      <td>774.010000</td>\n",
       "      <td>3.000000</td>\n",
       "      <td>75.0</td>\n",
       "      <td>1</td>\n",
       "      <td>0</td>\n",
       "    </tr>\n",
       "    <tr>\n",
       "      <th>2</th>\n",
       "      <td>000898990054619</td>\n",
       "      <td>2024-07-13</td>\n",
       "      <td>2024-10-23</td>\n",
       "      <td>mobile</td>\n",
       "      <td>Североярская область</td>\n",
       "      <td>Лови билет!</td>\n",
       "      <td>другое</td>\n",
       "      <td>3</td>\n",
       "      <td>767.213333</td>\n",
       "      <td>2.666667</td>\n",
       "      <td>51.0</td>\n",
       "      <td>1</td>\n",
       "      <td>0</td>\n",
       "    </tr>\n",
       "    <tr>\n",
       "      <th>3</th>\n",
       "      <td>00096d1f542ab2b</td>\n",
       "      <td>2024-08-15</td>\n",
       "      <td>2024-08-15</td>\n",
       "      <td>desktop</td>\n",
       "      <td>Каменевский регион</td>\n",
       "      <td>Край билетов</td>\n",
       "      <td>театр</td>\n",
       "      <td>1</td>\n",
       "      <td>917.830000</td>\n",
       "      <td>4.000000</td>\n",
       "      <td>NaN</td>\n",
       "      <td>0</td>\n",
       "      <td>0</td>\n",
       "    </tr>\n",
       "    <tr>\n",
       "      <th>4</th>\n",
       "      <td>000a55a418c128c</td>\n",
       "      <td>2024-09-29</td>\n",
       "      <td>2024-10-15</td>\n",
       "      <td>mobile</td>\n",
       "      <td>Поленовский край</td>\n",
       "      <td>Лучшие билеты</td>\n",
       "      <td>театр</td>\n",
       "      <td>2</td>\n",
       "      <td>61.310000</td>\n",
       "      <td>1.500000</td>\n",
       "      <td>16.0</td>\n",
       "      <td>1</td>\n",
       "      <td>0</td>\n",
       "    </tr>\n",
       "  </tbody>\n",
       "</table>\n",
       "</div>"
      ],
      "text/plain": [
       "           user_id first_order_dt last_order_dt first_device  \\\n",
       "0  0002849b70a3ce2     2024-08-20    2024-08-20       mobile   \n",
       "1  0005ca5e93f2cf4     2024-07-23    2024-10-06       mobile   \n",
       "2  000898990054619     2024-07-13    2024-10-23       mobile   \n",
       "3  00096d1f542ab2b     2024-08-15    2024-08-15      desktop   \n",
       "4  000a55a418c128c     2024-09-29    2024-10-15       mobile   \n",
       "\n",
       "           first_region  first_service first_event_type  orders_count  \\\n",
       "0    Каменевский регион   Край билетов            театр             1   \n",
       "1    Каменевский регион      Мой билет         выставки             2   \n",
       "2  Североярская область    Лови билет!           другое             3   \n",
       "3    Каменевский регион   Край билетов            театр             1   \n",
       "4      Поленовский край  Лучшие билеты            театр             2   \n",
       "\n",
       "   avg_revenue  avg_tickets  avg_days_since_prev  is_two  is_five  \n",
       "0  1521.940000     4.000000                  NaN       0        0  \n",
       "1   774.010000     3.000000                 75.0       1        0  \n",
       "2   767.213333     2.666667                 51.0       1        0  \n",
       "3   917.830000     4.000000                  NaN       0        0  \n",
       "4    61.310000     1.500000                 16.0       1        0  "
      ]
     },
     "execution_count": 40,
     "metadata": {},
     "output_type": "execute_result"
    }
   ],
   "source": [
    "# Выведем первые строки полученного профиля пользователя\n",
    "user_profile.head()"
   ]
  },
  {
   "cell_type": "markdown",
   "id": "1LGZVL7FhrmD",
   "metadata": {
    "id": "1LGZVL7FhrmD"
   },
   "source": [
    "---\n",
    "\n",
    "**Задача 3.2.** Перед проведением исследовательского анализа данных определим, с какими данными мы работаем: насколько они репрезентативны и нет ли в них аномалий.\n",
    "\n",
    "Используя данные о профилях пользователей, рассчитаем:\n",
    "\n",
    "- общее число пользователей в выборке;\n",
    "- среднюю выручку с одного заказа;\n",
    "- долю пользователей, совершивших 2 и более заказа;\n",
    "- долю пользователей, совершивших 5 и более заказов.\n",
    "\n",
    "Также изучим статистические показатели:\n",
    "\n",
    "- по общему числу заказов;\n",
    "- по среднему числу билетов в заказе;\n",
    "- по среднему количеству дней между покупками.\n",
    "\n",
    "---"
   ]
  },
  {
   "cell_type": "code",
   "execution_count": 41,
   "id": "557be834",
   "metadata": {
    "id": "557be834"
   },
   "outputs": [
    {
     "name": "stdout",
     "output_type": "stream",
     "text": [
      "Общее число пользователей в выборке: 21847\n"
     ]
    }
   ],
   "source": [
    "# Определяем общее число пользователей в выборке\n",
    "total_users = user_profile['user_id'].nunique()\n",
    "print(f\"Общее число пользователей в выборке: {total_users}\")"
   ]
  },
  {
   "cell_type": "code",
   "execution_count": 42,
   "id": "a0dd4824",
   "metadata": {},
   "outputs": [
    {
     "name": "stdout",
     "output_type": "stream",
     "text": [
      "Средняя выручка с одного заказа: 544.16 руб.\n"
     ]
    }
   ],
   "source": [
    "# Определяем среднюю выручку с одного заказа\n",
    "total_avg_revenue = user_profile['avg_revenue'].mean()\n",
    "print(f\"Средняя выручка с одного заказа: {total_avg_revenue:.2f} руб.\")"
   ]
  },
  {
   "cell_type": "code",
   "execution_count": 43,
   "id": "a30c0c55",
   "metadata": {},
   "outputs": [
    {
     "name": "stdout",
     "output_type": "stream",
     "text": [
      "Доля пользователей, совершивших 2 и более заказа: 61.70%\n"
     ]
    }
   ],
   "source": [
    "# Определяем долю пользователей, совершивших 2 и более заказа\n",
    "share_is_two = user_profile['is_two'].mean()\n",
    "print(f\"Доля пользователей, совершивших 2 и более заказа: {share_is_two:.2%}\")"
   ]
  },
  {
   "cell_type": "code",
   "execution_count": 44,
   "id": "59bcc4a2",
   "metadata": {},
   "outputs": [
    {
     "name": "stdout",
     "output_type": "stream",
     "text": [
      "Доля пользователей, совершивших 5 и более заказов: 29.01%\n"
     ]
    }
   ],
   "source": [
    "# Определяем долю пользователей, совершивших 5 и более заказов\n",
    "share_is_five = user_profile['is_five'].mean()\n",
    "print(f\"Доля пользователей, совершивших 5 и более заказов: {share_is_five:.2%}\")"
   ]
  },
  {
   "cell_type": "code",
   "execution_count": 45,
   "id": "ca23963f",
   "metadata": {},
   "outputs": [
    {
     "name": "stdout",
     "output_type": "stream",
     "text": [
      "       orders_count   avg_tickets  avg_days_since_prev\n",
      "count  21847.000000  21847.000000         13509.000000\n",
      "mean      13.164553      2.739164            15.837199\n",
      "std      121.581813      0.902689            22.289646\n",
      "min        1.000000      1.000000             0.000000\n",
      "25%        1.000000      2.000000             1.000000\n",
      "50%        2.000000      2.750000             8.000000\n",
      "75%        5.000000      3.071429            20.333333\n",
      "95%       31.000000      4.000000            61.500000\n",
      "99%      151.540000      5.000000           112.000000\n",
      "max    10168.000000      6.000000           148.000000\n"
     ]
    }
   ],
   "source": [
    "# Выводим статистические показатели\n",
    "stat_indicators = user_profile[['orders_count', # по общему числу заказов\n",
    "                                'avg_tickets', # по среднему числу билетов в заказе\n",
    "                                'avg_days_since_prev']].describe(percentiles=[0.25, 0.5, 0.75, 0.95, 0.99]) # по среднему количеству дней между покупками \n",
    "print(stat_indicators)"
   ]
  },
  {
   "cell_type": "markdown",
   "id": "2445c18c",
   "metadata": {
    "id": "b1eee99f"
   },
   "source": [
    "Статистические показатели по общему числу заказов `orders_count`:\n",
    "- Среднее значение (13) значительно больше медианы (2), что может быть связано с выбросами в данных, которые увеличивают среднее значение. Значение стандартного отклонения также высокое - 122 при среднем значении 13, данные могут иметь широкий разброс. Максимальное значение (10168) похоже на аномальное.\n",
    "\n",
    "Статистические показатели среднему числу билетов в заказе `avg_tickets`:\n",
    "- Среднее значение (2.74) немного меньше медианы (3.07). Значение стандартного отклонения невысокое - 0.90, значит, разброс данных не широкий. Аномальных значений количества билетов нет, так как данные уже были отфильтрованы ранее.\n",
    "\n",
    "Статистические показатели по среднему количеству дней между покупками `avg_days_since_prev`:\n",
    "- Среднее значение (16) значительно больше медианы (8), что может быть связано с выбросами в данных, которые увеличивают среднее значение. Значение стандартного отклонения также высокое - 22 при среднем значении 8, данные могут иметь широкий разброс. Максимальное значение (148) похоже на аномальное."
   ]
  },
  {
   "cell_type": "code",
   "execution_count": 46,
   "id": "6f422d44",
   "metadata": {},
   "outputs": [
    {
     "name": "stdout",
     "output_type": "stream",
     "text": [
      "99-й перцентиль количества заказов: 152\n",
      "99-й перцентиль среднего количества дней между покупками: 112\n",
      "Аномальных пользователей: 353 (1.62%)\n"
     ]
    }
   ],
   "source": [
    "# Определяем 99-й перцентиль для общего числа заказов и среднего количества дней между покупками\n",
    "orders_p99 = user_profile['orders_count'].quantile(0.99)\n",
    "days_p99 = user_profile['avg_days_since_prev'].quantile(0.99)\n",
    "\n",
    "print(f\"99-й перцентиль количества заказов: {round(orders_p99)}\")\n",
    "print(f\"99-й перцентиль среднего количества дней между покупками: {round(days_p99)}\")\n",
    "\n",
    "# Вычисляем, сколько пользователей имеют аномальные значения для общего числа заказов или среднего количества дней между покупками\n",
    "users_p99 = user_profile[(user_profile['orders_count'] > orders_p99) | \n",
    "                         (user_profile['avg_days_since_prev'] > days_p99)]\n",
    "print(f\"Аномальных пользователей: {len(users_p99)} ({len(users_p99) / len(user_profile):.2%})\")"
   ]
  },
  {
   "cell_type": "markdown",
   "id": "73e39d8e",
   "metadata": {},
   "source": [
    "Количество пользователей, имеющих аномальные значения для общего числа заказов или среднего количества дней между покупками по 99-му перцентилю, составляет менее 2 % от общего числа. Допустимо отфильтровать эти аномальные значения, чтобы исключить искажение данных."
   ]
  },
  {
   "cell_type": "code",
   "execution_count": 47,
   "id": "b6ad2a9c",
   "metadata": {},
   "outputs": [
    {
     "name": "stdout",
     "output_type": "stream",
     "text": [
      "Отфильтровано выбросов: 353 пользователей (1.62%)\n"
     ]
    }
   ],
   "source": [
    "# Отфильтровываем значения больше 99-го перцентиля\n",
    "filtered_profile = user_profile[(user_profile['orders_count'] <= orders_p99) & \n",
    "                                (user_profile['avg_days_since_prev'].isna() | \n",
    "                                (user_profile['avg_days_since_prev'] <= days_p99))]\n",
    "\n",
    "# Выводим количество отфильтрованных строк\n",
    "removed = len(user_profile) - len(filtered_profile)\n",
    "print(f\"Отфильтровано выбросов: {removed} пользователей ({removed / len(user_profile):.2%})\")"
   ]
  },
  {
   "cell_type": "code",
   "execution_count": 48,
   "id": "d05f210c",
   "metadata": {},
   "outputs": [
    {
     "name": "stdout",
     "output_type": "stream",
     "text": [
      "       orders_count   avg_tickets  avg_days_since_prev\n",
      "count  21494.000000  21494.000000         13156.000000\n",
      "mean       6.508095      2.739137            14.961588\n",
      "std       14.258258      0.907362            19.465453\n",
      "min        1.000000      1.000000             0.000000\n",
      "25%        1.000000      2.000000             1.264396\n",
      "50%        2.000000      2.750000             8.125000\n",
      "75%        5.000000      3.090909            20.000000\n",
      "max      151.000000      6.000000           112.000000\n"
     ]
    }
   ],
   "source": [
    "# Выводим статистические показатели по обновленному датасету\n",
    "print(filtered_profile[['orders_count', 'avg_tickets', 'avg_days_since_prev']].describe())"
   ]
  },
  {
   "cell_type": "markdown",
   "id": "7bd62eb2",
   "metadata": {},
   "source": [
    "Анализ данных профиля пользователя показал:\n",
    "- Общее число пользователей в выборке: 21847.\n",
    "- Средняя выручка с одного заказа: 544.16 руб.\n",
    "- Доля пользователей, совершивших 2 и более заказа: 62 %.\n",
    "- Доля пользователей, совершивших 5 и более заказов: 29 %.\n",
    "- Статистические показатели по общему числу заказов и среднему количеству дней между покупками показали содержание в данных аномальных значений. Количество пользователей, имеющих аномальные значения для этих параметров по 99-му перцентилю, составляет менее 2 % от общего числа (353 пользователя). Аномальные значения отфильтрованы. \n",
    "- Общее число пользователей в выборке после фильтрации: 21494.\n",
    "\n",
    "Данные репрезентативны и готовы к проведению исследовательского анализа."
   ]
  },
  {
   "cell_type": "markdown",
   "id": "6yhiv3t1mPNU",
   "metadata": {
    "id": "6yhiv3t1mPNU"
   },
   "source": [
    "---\n",
    "\n",
    "### 4. Исследовательский анализ данных\n",
    "\n",
    "Следующий этап — исследование признаков, влияющих на возврат пользователей, то есть на совершение повторного заказа. Для этого используем профили пользователей."
   ]
  },
  {
   "cell_type": "markdown",
   "id": "6fe731c3",
   "metadata": {
    "id": "6fe731c3"
   },
   "source": [
    "\n",
    "\n",
    "#### 4.1. Исследование признаков первого заказа и их связи с возвращением на платформу\n",
    "\n",
    "Исследуем признаки, описывающие первый заказ пользователя, и выясним, влияют ли они на вероятность возвращения пользователя.\n",
    "\n",
    "---\n",
    "\n",
    "**Задача 4.1.1.** Изучим распределение пользователей по признакам.\n",
    "\n",
    "- Сгруппируем пользователей:\n",
    "    - по типу их первого мероприятия;\n",
    "    - по типу устройства, с которого совершена первая покупка;\n",
    "    - по региону проведения мероприятия из первого заказа;\n",
    "    - по билетному оператору, продавшему билеты на первый заказ.\n",
    "- Подсчитаем общее количество пользователей в каждом сегменте и их долю в разрезе каждого признака.\n",
    "\n",
    "---\n"
   ]
  },
  {
   "cell_type": "code",
   "execution_count": 49,
   "id": "a8228a03",
   "metadata": {
    "id": "a8228a03"
   },
   "outputs": [
    {
     "name": "stdout",
     "output_type": "stream",
     "text": [
      "  first_event_type  users_count  share_users\n",
      "2         концерты         9492         0.44\n",
      "1           другое         5389         0.25\n",
      "5            театр         4209         0.20\n",
      "4          стендап         1106         0.05\n",
      "3            спорт          794         0.04\n",
      "0         выставки          409         0.02\n",
      "6             ёлки           95         0.00\n"
     ]
    }
   ],
   "source": [
    "# Группируем пользователей по типу их первого мероприятия\n",
    "group_event_type = (filtered_profile.groupby('first_event_type').agg(users_count=('user_id', 'nunique')).reset_index())\n",
    "\n",
    "# Считаем общее количество пользователей в каждом типе первого мероприятия\n",
    "total_users = filtered_profile['user_id'].nunique()\n",
    "\n",
    "# Считаем долю пользователей в каждом типе первого мероприятия\n",
    "group_event_type['share_users'] = (group_event_type['users_count'] / total_users).round(2)\n",
    "\n",
    "# Выводим результаты группировки пользователей по типу их первого мероприятия\n",
    "print(group_event_type.sort_values('share_users', ascending=False))"
   ]
  },
  {
   "cell_type": "markdown",
   "id": "de5c34fd",
   "metadata": {
    "id": "b5e97b12"
   },
   "source": [
    "Наибольшее количество пользователей совершили первый заказ на концерт (9492 пользователя, 44 %)."
   ]
  },
  {
   "cell_type": "code",
   "execution_count": 50,
   "id": "02aedf63",
   "metadata": {
    "id": "02aedf63"
   },
   "outputs": [
    {
     "name": "stdout",
     "output_type": "stream",
     "text": [
      "  first_device  users_count  share_users\n",
      "1       mobile        17817         0.83\n",
      "0      desktop         3677         0.17\n"
     ]
    }
   ],
   "source": [
    "# Группируем пользователей по типу устройства, с которого совершена первая покупка\n",
    "group_device_type = (filtered_profile.groupby('first_device').agg(users_count=('user_id', 'nunique')).reset_index())\n",
    "\n",
    "# Считаем общее количество пользователей в каждом типе устройства, с которого совершена первая покупка\n",
    "total_users = filtered_profile['user_id'].nunique()\n",
    "\n",
    "# Считаем долю пользователей в каждом типе устройства, с которого совершена первая покупка\n",
    "group_device_type['share_users'] = (group_device_type['users_count'] / total_users).round(2)\n",
    "\n",
    "# Выводим результаты группировки пользователей по типу устройства, с которого совершена первая покупка\n",
    "print(group_device_type.sort_values('share_users', ascending=False))"
   ]
  },
  {
   "cell_type": "markdown",
   "id": "6b21b6f5",
   "metadata": {},
   "source": [
    "Наибольшее количество пользователей совершили первый заказ с помощью мобильного устройства (17817 пользователей, 83 %)."
   ]
  },
  {
   "cell_type": "code",
   "execution_count": 51,
   "id": "1d14411a",
   "metadata": {},
   "outputs": [
    {
     "name": "stdout",
     "output_type": "stream",
     "text": [
      "            first_region  users_count  share_users\n",
      "23    Каменевский регион         7029         0.33\n",
      "60  Североярская область         3733         0.17\n",
      "77   Широковская область         1219         0.06\n",
      "45      Озернинский край          673         0.03\n",
      "74      Травяная область          486         0.02\n",
      "..                   ...          ...          ...\n",
      "38       Луговая область           37         0.00\n",
      "1     Берестовский округ           22         0.00\n",
      "43  Миропольская область           83         0.00\n",
      "44     Нежинская область           31         0.00\n",
      "80    Яснопольский округ            1         0.00\n",
      "\n",
      "[81 rows x 3 columns]\n"
     ]
    }
   ],
   "source": [
    "# Группируем пользователей по региону проведения мероприятия из первого заказа\n",
    "group_region = (filtered_profile.groupby('first_region').agg(users_count=('user_id', 'nunique')).reset_index())\n",
    "\n",
    "# Считаем общее количество пользователей в каждом регионе проведения мероприятия из первого заказа\n",
    "total_users = filtered_profile['user_id'].nunique()\n",
    "\n",
    "# Считаем долю пользователей в каждом регионе проведения мероприятия из первого заказа\n",
    "group_region['share_users'] = (group_region['users_count'] / total_users).round(2)\n",
    "\n",
    "# Выводим результаты группировки пользователей по региону проведения мероприятия из первого заказа\n",
    "print(group_region.sort_values('share_users', ascending=False))"
   ]
  },
  {
   "cell_type": "markdown",
   "id": "863cca52",
   "metadata": {},
   "source": [
    "Наибольшее количество пользователей совершили первый заказ в Каменевском регионе (7029 пользователей, 33 %)."
   ]
  },
  {
   "cell_type": "code",
   "execution_count": 52,
   "id": "7846e52f",
   "metadata": {},
   "outputs": [
    {
     "name": "stdout",
     "output_type": "stream",
     "text": [
      "             first_service  users_count  share_users\n",
      "3       Билеты без проблем         5144         0.24\n",
      "22               Мой билет         2954         0.14\n",
      "19             Лови билет!         2787         0.13\n",
      "4            Билеты в руки         2544         0.12\n",
      "23                 Облачко         2162         0.10\n",
      "7           Весь в билетах         1274         0.06\n",
      "20           Лучшие билеты         1179         0.05\n",
      "24               Прачечная          580         0.03\n",
      "17            Край билетов          452         0.02\n",
      "12            Дом культуры          356         0.02\n",
      "1              Show_ticket          157         0.01\n",
      "28             Тебе билет!          307         0.01\n",
      "21                Мир касс          205         0.01\n",
      "33                  Яблоко          315         0.01\n",
      "5              Быстробилет          162         0.01\n",
      "13             За билетом!          200         0.01\n",
      "11  Городской дом культуры          214         0.01\n",
      "25            Радио ticket           36         0.00\n",
      "32         Шоу начинается!           19         0.00\n",
      "31            Цвет и билет           22         0.00\n",
      "30               Тех билет            3         0.00\n",
      "29               Телебилет           26         0.00\n",
      "2        Билет по телефону            6         0.00\n",
      "27                Росбилет           39         0.00\n",
      "26                  Реестр           33         0.00\n",
      "14                Зе Бест!            1         0.00\n",
      "15              КарандашРУ           15         0.00\n",
      "6           Быстрый кассир           59         0.00\n",
      "8                Восьмёрка           85         0.00\n",
      "9                  Вперёд!            7         0.00\n",
      "10          Выступления.ру           95         0.00\n",
      "18                  Лимоны            2         0.00\n",
      "16              Кино билет            9         0.00\n",
      "0            Crazy ticket!           45         0.00\n"
     ]
    }
   ],
   "source": [
    "# Группируем пользователей по билетному оператору, продавшему билеты на первый заказ\n",
    "group_service = (filtered_profile.groupby('first_service').agg(users_count=('user_id', 'nunique')).reset_index())\n",
    "\n",
    "# Считаем общее количество пользователей, совершивших покупку в каждом билетном операторе, продавшем билеты на первый заказ\n",
    "total_users = filtered_profile['user_id'].nunique()\n",
    "\n",
    "# Считаем долю пользователей, совершивших покупку в каждом билетном операторе, продавшем билеты на первый заказ\n",
    "group_service['share_users'] = (group_service['users_count'] / total_users).round(2)\n",
    "\n",
    "# Выводим результаты группировки пользователей по билетному оператору, продавшему билеты на первый заказ\n",
    "print(group_service.sort_values('share_users', ascending=False))"
   ]
  },
  {
   "cell_type": "markdown",
   "id": "9a2e47e5",
   "metadata": {},
   "source": [
    "Наибольшее количество пользователей совершили первый заказ у оператора \"Билеты без проблем\" (5144 пользователя, 24 %)."
   ]
  },
  {
   "cell_type": "markdown",
   "id": "be6f25cd",
   "metadata": {},
   "source": [
    "Анализ распределения пользователей по сегментам показал, что распределение неравномерное - существует несколько ярко выраженных \"точек входа\":\n",
    "- основной тип первого мероприятия - **концерты**;\n",
    "- основное устройство для совершения первого заказа - **мобильное**;\n",
    "- региональная концентрация первых заказов - **Каменевский регион**;\n",
    "- лидер среди билетных операторов при совершении первого заказа - **\"Билеты без проблем\"**.\n",
    "\n",
    "При планировании акций, рекомендаций и расширении охвата следует учитывать эти \"точки входа\", они могут быть связаны с массовостью и регулярностью проведения мероприятий, удобства использования мобильных устройств при совершении заказа, плотностью населения отдельных регионов и маркетинговой стратегией оператора-лидера."
   ]
  },
  {
   "cell_type": "markdown",
   "id": "d8ffd79b",
   "metadata": {
    "id": "d8ffd79b"
   },
   "source": [
    "---\n",
    "\n",
    "**Задача 4.1.2.** Проанализируем возвраты пользователей:\n",
    "\n",
    "- Для каждого сегмента вычислим долю пользователей, совершивших два и более заказа.\n",
    "- Визуализируем результат графиком с наибольшим количеством пользователей. \n",
    "\n",
    "---\n"
   ]
  },
  {
   "cell_type": "code",
   "execution_count": 53,
   "id": "548d068a",
   "metadata": {
    "id": "548d068a"
   },
   "outputs": [
    {
     "name": "stdout",
     "output_type": "stream",
     "text": [
      "  first_event_type  users_count  share_return_users\n",
      "0         выставки          409                0.64\n",
      "5            театр         4209                0.63\n",
      "2         концерты         9492                0.62\n",
      "4          стендап         1106                0.61\n",
      "1           другое         5389                0.59\n",
      "3            спорт          794                0.56\n",
      "6             ёлки           95                0.56\n"
     ]
    },
    {
     "data": {
      "image/png": "[encoded data removed]",
      "text/plain": [
       "<Figure size 720x360 with 1 Axes>"
      ]
     },
     "metadata": {
      "needs_background": "light"
     },
     "output_type": "display_data"
    }
   ],
   "source": [
    "# Группируем пользователей, совершивших два и более заказа, по типу их первого мероприятия и считаем их долю\n",
    "group_event_type = (filtered_profile.groupby('first_event_type').agg(users_count=('user_id', 'nunique'), \n",
    "                                                                     share_return_users=('is_two', 'mean')).reset_index())\n",
    "\n",
    "# Сортируем для наглядности\n",
    "group_event_type = group_event_type.sort_values('share_return_users', ascending=False)\n",
    "\n",
    "# Округляем значения до двух знаков после запятой\n",
    "group_event_type['share_return_users'] = group_event_type['share_return_users'].round(2)\n",
    "\n",
    "# Выводим результаты группировки\n",
    "print(group_event_type)\n",
    "\n",
    "# Строим диаграмму распределения доли возвращающихся пользователей\n",
    "plt.figure(figsize=(10, 5))\n",
    "plt.barh(group_event_type['first_event_type'], group_event_type['share_return_users'] * 100, color='skyblue', edgecolor='black')\n",
    "plt.gca().invert_yaxis()\n",
    "plt.title('Доля возвращающихся пользователей по типу первого мероприятия')\n",
    "plt.xlabel('Доля возвращающихся пользователей, %')\n",
    "plt.ylabel('Тип первого мероприятия')\n",
    "plt.xlim(0, 100)\n",
    "plt.show()"
   ]
  },
  {
   "cell_type": "markdown",
   "id": "9ad833a1",
   "metadata": {},
   "source": [
    "Распределение доли возвращающихся пользователей по типу первого мероприятия равномерное. Наибольшее количество возвращающихся пользователей в типах: выставки (64 %), театр (63 %), концерты (62 %)."
   ]
  },
  {
   "cell_type": "code",
   "execution_count": 54,
   "id": "fe05c755",
   "metadata": {},
   "outputs": [
    {
     "name": "stdout",
     "output_type": "stream",
     "text": [
      "  first_device  users_count  share_return_users\n",
      "0      desktop         3677                0.64\n",
      "1       mobile        17817                0.61\n"
     ]
    },
    {
     "data": {
      "image/png": "[encoded data removed]",
      "text/plain": [
       "<Figure size 720x72 with 1 Axes>"
      ]
     },
     "metadata": {
      "needs_background": "light"
     },
     "output_type": "display_data"
    }
   ],
   "source": [
    "# Группируем пользователей, совершивших два и более заказа, по типу устройства, с которого совершена первая покупка, и считаем их долю\n",
    "group_device_type = (filtered_profile.groupby('first_device').agg(users_count=('user_id', 'nunique'), \n",
    "                                                                  share_return_users=('is_two', 'mean')).reset_index())\n",
    "\n",
    "# Сортируем для наглядности\n",
    "group_device_type = group_device_type.sort_values('share_return_users', ascending=False)\n",
    "\n",
    "# Округляем значения до двух знаков после запятой\n",
    "group_device_type['share_return_users'] = group_device_type['share_return_users'].round(2)\n",
    "\n",
    "# Выводим результаты группировки\n",
    "print(group_device_type)\n",
    "\n",
    "# Строим диаграмму распределения доли возвращающихся пользователей\n",
    "plt.figure(figsize=(10, 1))\n",
    "plt.barh(group_device_type['first_device'], group_device_type['share_return_users'] * 100, color='skyblue', edgecolor='black')\n",
    "plt.gca().invert_yaxis()\n",
    "plt.title('Доля возвращающихся пользователей по типу устройства, с которого совершена первая покупка')\n",
    "plt.xlabel('Доля возвращающихся пользователей, %')\n",
    "plt.ylabel('Тип устройства')\n",
    "plt.xlim(0, 100)\n",
    "plt.show()"
   ]
  },
  {
   "cell_type": "markdown",
   "id": "1b85133c",
   "metadata": {},
   "source": [
    "Распределение доли возвращающихся пользователей по типу устройства, с которого совершена первая покупка, равномерное. Количество возвращающихся пользователей для стационарных устройств (64 %) немного больше, чем для мобильных (61 %)."
   ]
  },
  {
   "cell_type": "code",
   "execution_count": 55,
   "id": "59883783",
   "metadata": {},
   "outputs": [
    {
     "name": "stdout",
     "output_type": "stream",
     "text": [
      "            first_region  users_count  share_return_users\n",
      "76      Шанырский регион          495                0.67\n",
      "57  Светополянский округ          453                0.65\n",
      "77   Широковская область         1219                0.64\n",
      "52   Речиновская область          437                0.64\n",
      "60  Североярская область         3733                0.64\n",
      "23    Каменевский регион         7029                0.62\n",
      "74      Травяная область          486                0.61\n",
      "78   Яблоневская область          410                0.59\n",
      "41  Малиновоярский округ          522                0.56\n",
      "45      Озернинский край          673                0.55\n"
     ]
    },
    {
     "data": {
      "image/png": "[encoded data removed]",
      "text/plain": [
       "<Figure size 720x360 with 1 Axes>"
      ]
     },
     "metadata": {
      "needs_background": "light"
     },
     "output_type": "display_data"
    }
   ],
   "source": [
    "# Группируем пользователей, совершивших два и более заказа, по региону проведения мероприятия из первого заказа\n",
    "group_region = (filtered_profile.groupby('first_region').agg(users_count=('user_id', 'nunique'), \n",
    "                                                             share_return_users=('is_two', 'mean')).reset_index())\n",
    "\n",
    "# Отбираем топ-10 регионов по размеру сегмента, чтобы избежать нестабильных долей в маленьких группах\n",
    "top10_regions = group_region.sort_values('users_count', ascending=False).head(10)\n",
    "\n",
    "# Сортируем для наглядности\n",
    "top10_regions = top10_regions.sort_values('share_return_users', ascending=False)\n",
    "\n",
    "# Округляем значения до двух знаков после запятой\n",
    "top10_regions['share_return_users'] = top10_regions['share_return_users'].round(2)\n",
    "\n",
    "# Выводим результаты группировки\n",
    "print(top10_regions)\n",
    "\n",
    "# Строим диаграмму распределения доли возвращающихся пользователей\n",
    "plt.figure(figsize=(10, 5))\n",
    "plt.barh(top10_regions['first_region'], top10_regions['share_return_users'] * 100, color='skyblue', edgecolor='black')\n",
    "plt.gca().invert_yaxis()\n",
    "plt.title('Доля возвращающихся пользователей по региону проведения мероприятия из первого заказа')\n",
    "plt.xlabel('Доля возвращающихся пользователей, %')\n",
    "plt.ylabel('Регион проведения мероприятия')\n",
    "plt.xlim(0, 100)\n",
    "plt.show()"
   ]
  },
  {
   "cell_type": "markdown",
   "id": "4a51dacb",
   "metadata": {
    "id": "2da12c2e"
   },
   "source": [
    "Распределение доли возвращающихся пользователей по региону проведения мероприятия из первого заказа равномерное. Наибольшее количество возвращающихся пользователей в Шанырском регионе (67 %) и Светополянском округе (65 %)."
   ]
  },
  {
   "cell_type": "code",
   "execution_count": 56,
   "id": "ec642fa4",
   "metadata": {},
   "outputs": [
    {
     "name": "stdout",
     "output_type": "stream",
     "text": [
      "         first_service  users_count  share_return_users\n",
      "17        Край билетов          452                0.65\n",
      "12        Дом культуры          356                0.65\n",
      "7       Весь в билетах         1274                0.63\n",
      "4        Билеты в руки         2544                0.63\n",
      "24           Прачечная          580                0.62\n",
      "20       Лучшие билеты         1179                0.61\n",
      "23             Облачко         2162                0.61\n",
      "22           Мой билет         2954                0.61\n",
      "19         Лови билет!         2787                0.61\n",
      "3   Билеты без проблем         5144                0.60\n"
     ]
    },
    {
     "data": {
      "image/png": "[encoded data removed]",
      "text/plain": [
       "<Figure size 720x360 with 1 Axes>"
      ]
     },
     "metadata": {
      "needs_background": "light"
     },
     "output_type": "display_data"
    }
   ],
   "source": [
    "# Группируем пользователей, совершивших два и более заказа, по билетному оператору, продавшему билеты на первый заказ\n",
    "group_service = (filtered_profile.groupby('first_service').agg(users_count=('user_id', 'nunique'), \n",
    "                                                               share_return_users=('is_two', 'mean')).reset_index())\n",
    "\n",
    "# Отбираем топ-10 билетных операторов по размеру сегмента, чтобы избежать нестабильных долей в маленьких группах\n",
    "top10_services = group_service.sort_values('users_count', ascending=False).head(10)\n",
    "\n",
    "# Сортируем для наглядности\n",
    "top10_services = top10_services.sort_values('share_return_users', ascending=False)\n",
    "\n",
    "# Округляем значения до двух знаков после запятой\n",
    "top10_services['share_return_users'] = top10_services['share_return_users'].round(2)\n",
    "\n",
    "# Выводим результаты группировки\n",
    "print(top10_services)\n",
    "\n",
    "# Строим диаграмму распределения доли возвращающихся пользователей\n",
    "plt.figure(figsize=(10, 5))\n",
    "plt.barh(top10_services['first_service'], top10_services['share_return_users'] * 100, color='skyblue', edgecolor='black')\n",
    "plt.gca().invert_yaxis()\n",
    "plt.title('Доля возвращающихся пользователей по билетному оператору, продавшему билеты на первый заказ')\n",
    "plt.xlabel('Доля возвращающихся пользователей, %')\n",
    "plt.ylabel('Оператор, продавший билеты на первый заказ')\n",
    "plt.xlim(0, 100)\n",
    "plt.show()"
   ]
  },
  {
   "cell_type": "markdown",
   "id": "a37ad45d",
   "metadata": {},
   "source": [
    "Распределение доли возвращающихся пользователей по билетному оператору, продавшему билеты на первый заказ, равномерное. Наибольшее количество возвращающихся пользователей купили билеты у операторов \"Край билетов\" (65 %) и \"Дом культуры\" (65 %)."
   ]
  },
  {
   "cell_type": "markdown",
   "id": "f939d91c",
   "metadata": {},
   "source": [
    "Анализ распределения возвращающихся пользователей по сегментам показал, что распределение равномерное, ярко выраженных \"точек входа\" нет, однако чаще совершают повторный заказ при следующих условиях:\n",
    "- основной тип первого мероприятия - **выставки, театр, концерты**;\n",
    "- основное устройство для совершения первого заказа - **стационарное**;\n",
    "- регион проведения мероприятий первых заказов - **Шанырский регион и Светополянский округ**. При этом регионы с низкой плотностью населения (с десятками пользователей) не учитывались для избежания статистической нестабильности долей;\n",
    "- лидеры среди билетных операторов при совершении первого заказа - **\"Край билетов\" и \"Дом культуры\"**. При этом менее популярные операторы (с десятками пользователей) не учитывались для избежания статистической нестабильности долей."
   ]
  },
  {
   "cell_type": "markdown",
   "id": "1cd85c08",
   "metadata": {
    "id": "1cd85c08",
    "outputId": "0afbc606-1346-4bf6-f188-550c838d0f5d",
    "scrolled": false
   },
   "source": [
    "---\n",
    "\n",
    "**Задача 4.1.3.** Опираясь на выводы из задач выше, проверим продуктовые гипотезы:\n",
    "\n",
    "- **Гипотеза 1.** Тип мероприятия влияет на вероятность возврата на Яндекс Афишу: пользователи, которые совершили первый заказ на спортивные мероприятия, совершают повторный заказ чаще, чем пользователи, оформившие свой первый заказ на концерты.\n",
    "- **Гипотеза 2.** В регионах, где больше всего пользователей посещают мероприятия, выше доля повторных заказов, чем в менее активных регионах.\n",
    "\n",
    "---"
   ]
  },
  {
   "cell_type": "code",
   "execution_count": 57,
   "id": "a15a0a90",
   "metadata": {},
   "outputs": [
    {
     "name": "stdout",
     "output_type": "stream",
     "text": [
      "  first_event_type  share_return_users\n",
      "2         концерты                0.62\n",
      "3            спорт                0.56\n"
     ]
    }
   ],
   "source": [
    "# Отбираем данные для типа первого мероприятия \"спорт\" и \"концерты\", чтобы сравнить долю возвращающихся пользователей\n",
    "filtered_events = group_event_type[group_event_type['first_event_type'].isin(['спорт', 'концерты'])]\n",
    "\n",
    "# Выводим результаты отфильтрованной группировки\n",
    "print(filtered_events[['first_event_type', 'share_return_users']])"
   ]
  },
  {
   "cell_type": "markdown",
   "id": "9bc5939f",
   "metadata": {},
   "source": [
    "**Гипотеза 1** не подтверждается: пользователи, впервые совершившие заказ на спортивные мероприятия, совершают повторный заказ реже (56 %), чем пользователи, оформившие свой первый заказ на концерты (62 %). "
   ]
  },
  {
   "cell_type": "code",
   "execution_count": 58,
   "id": "c1a616cc",
   "metadata": {},
   "outputs": [
    {
     "data": {
      "image/png": "[encoded data removed]",
      "text/plain": [
       "<Figure size 576x432 with 1 Axes>"
      ]
     },
     "metadata": {
      "needs_background": "light"
     },
     "output_type": "display_data"
    }
   ],
   "source": [
    "# Построим диаграмму рассеяния между долей возвращающихся пользователей 'share_return_users' и общим количеством пользователей 'users_count'\n",
    "plt.figure(figsize=(8, 6))\n",
    "plt.scatter(group_region['share_return_users'] * 100, \n",
    "            group_region['users_count'], \n",
    "            alpha=0.6, \n",
    "            color='skyblue', \n",
    "            edgecolors='black')\n",
    "plt.xlabel('Доля возвращающихся пользователей, %')\n",
    "plt.ylabel('Количество пользователей в регионе')\n",
    "plt.title('Диаграмма рассеяния между количеством возвращающихся пользователей\\nи общим числом пользователей в регионе')\n",
    "plt.grid(axis='both')\n",
    "plt.show()"
   ]
  },
  {
   "cell_type": "code",
   "execution_count": 59,
   "id": "2d63b7b2",
   "metadata": {},
   "outputs": [
    {
     "data": {
      "image/png": "[encoded data removed]",
      "text/plain": [
       "<Figure size 576x432 with 1 Axes>"
      ]
     },
     "metadata": {
      "needs_background": "light"
     },
     "output_type": "display_data"
    },
    {
     "name": "stdout",
     "output_type": "stream",
     "text": [
      "Корреляция между количеством возвращающихся пользователей и общим числом пользователей в регионе (без выбросов): 0.22\n"
     ]
    }
   ],
   "source": [
    "# Обрежем выбросы по столбцу 'users_count'\n",
    "Q1 = group_region['users_count'].quantile(0.25)\n",
    "Q3 = group_region['users_count'].quantile(0.75)\n",
    "IQR = Q3 - Q1\n",
    "\n",
    "lower_bound = Q1 - 1.5 * IQR\n",
    "upper_bound = Q3 + 1.5 * IQR\n",
    "\n",
    "filtered_region = group_region[(group_region['users_count'] >= lower_bound) & (group_region['users_count'] <= upper_bound)]\n",
    "\n",
    "# Перестроим диаграмму рассеяния\n",
    "plt.figure(figsize=(8, 6))\n",
    "plt.scatter(filtered_region['share_return_users'] * 100, \n",
    "            filtered_region['users_count'], \n",
    "            alpha=0.6, \n",
    "            color='skyblue', \n",
    "            edgecolors='black')\n",
    "plt.xlabel('Доля возвращающихся пользователей, %')\n",
    "plt.ylabel('Количество пользователей в регионе')\n",
    "plt.title('Диаграмма рассеяния между количеством возвращающихся пользователей\\nи общим числом пользователей в регионе')\n",
    "plt.grid(axis='both')\n",
    "plt.show()\n",
    "\n",
    "# Вычислим корреляцию без выбросов по столбцу 'users_count'\n",
    "corr = filtered_region['share_return_users'].corr(filtered_region['users_count'])\n",
    "print(f'Корреляция между количеством возвращающихся пользователей и общим числом пользователей в регионе (без выбросов): {corr:.2f}')"
   ]
  },
  {
   "cell_type": "markdown",
   "id": "18f84654",
   "metadata": {},
   "source": [
    "**Гипотеза 2** не подтверждается. По диаграмме рассеяния видно, что тип связи между количеством возвращающихся пользователей и общим числом пользователей в регионе - нелинейный, однозначно установить направление и силу связи затруднительно. При первичном построении диаграммы рассеяния был обнаружен аномальный выброс общего количества пользователей в регионе, впоследствии диаграмма перестроена без выбросов по столбцу `users_count`, пересчитано значение корреляции и получено значение 0.22, что соответствует слабой корреляционной связи."
   ]
  },
  {
   "cell_type": "markdown",
   "id": "88c3b292",
   "metadata": {
    "id": "88c3b292"
   },
   "source": [
    "---\n",
    "\n",
    "#### 4.2. Исследование поведения пользователей через показатели выручки и состава заказа\n",
    "\n",
    "Изучим количественные характеристики заказов пользователей, чтобы узнать среднюю выручку сервиса с заказа и количество билетов, которое пользователи обычно покупают.\n",
    "\n",
    "Эти метрики важны не только для оценки выручки, но и для оценки вовлечённости пользователей. Возможно, пользователи с более крупными и дорогими заказами более заинтересованы в сервисе и поэтому чаще возвращаются.\n",
    "\n",
    "---\n",
    "\n",
    "**Задача 4.2.1.** Проследим связь между средней выручкой сервиса с заказа и повторными заказами.\n",
    "\n",
    "- Построим сравнительные гистограммы распределения средней выручки с билета (`avg_revenue_rub`):\n",
    "    - для пользователей, совершивших один заказ;\n",
    "    - для вернувшихся пользователей, совершивших 2 и более заказа.\n",
    "\n",
    "\n",
    "---\n"
   ]
  },
  {
   "cell_type": "code",
   "execution_count": 60,
   "id": "a63c4025",
   "metadata": {
    "id": "a63c4025"
   },
   "outputs": [
    {
     "data": {
      "image/png": "[encoded data removed]",
      "text/plain": [
       "<Figure size 720x432 with 1 Axes>"
      ]
     },
     "metadata": {
      "needs_background": "light"
     },
     "output_type": "display_data"
    }
   ],
   "source": [
    "# Разделяем пользователей на две группы\n",
    "one_order = filtered_profile.loc[filtered_profile['is_two'] == 0, 'avg_revenue'] # совершил один заказ\n",
    "several_orders = filtered_profile.loc[filtered_profile['is_two'] == 1, 'avg_revenue'] # совершил несколько заказов\n",
    "\n",
    "# Строим гистограммы\n",
    "plt.figure(figsize=(10, 6))\n",
    "sns.histplot(one_order, color='orange', bins=20, label='Один заказ', kde=False, alpha=0.6, stat='density')\n",
    "sns.histplot(several_orders, color='skyblue', bins=20, label='Два и более заказов', kde=False, alpha=0.6, stat='density')\n",
    "\n",
    "# Добавляем вертикальные линии со средними значениями\n",
    "plt.axvline(one_order.mean(), color='red', linestyle='--', linewidth=2.5, label=f'Среднее для одного заказа: {one_order.mean():.0f} руб.')\n",
    "plt.axvline(several_orders.mean(), color='black', linestyle='--', linewidth=2.5, label=f'Среднее для двух и более заказов: {several_orders.mean():.0f} руб.')\n",
    "\n",
    "# Строим диаграмму распределения\n",
    "plt.title('Распределение средней выручки с билета для разных групп пользователей')\n",
    "plt.xlabel('Средняя выручка с билета, руб.')\n",
    "plt.ylabel('Плотность распределения')\n",
    "plt.legend()\n",
    "plt.grid(alpha=0.4)\n",
    "plt.show()"
   ]
  },
  {
   "cell_type": "markdown",
   "id": "3015b02a",
   "metadata": {},
   "source": [
    "Основная концентрация пользователей обеих групп (и с одним заказом, и с несколькими) находится в диапазоне до 750 рублей средней выручки с билета. Формы распределений двух групп схожи — оба правосторонние, с постепенным спадом при увеличении суммы средней выручки с билета. Для распределения группы пользователей с одним заказом наблюдается высокая плотность распределения в диапазоне от 0 до 125 рублей.\n",
    "\n",
    "Среднее значение средней выручки с билета отличается незначительно: \n",
    "- у пользователей с одним заказом 545 руб.;\n",
    "- у пользователей с несколькими заказами 544 руб.\n",
    "\n",
    "Схожесть средних значений показывает, что зависимости между величиной средней выручки с билета и совершением повторных заказов нет."
   ]
  },
  {
   "cell_type": "markdown",
   "id": "f5416363",
   "metadata": {
    "id": "f5416363",
    "outputId": "59988e63-21c8-4fbe-e009-5769b1e83a42"
   },
   "source": [
    "---\n",
    "\n",
    "**Задача 4.2.2.** Сравним распределение по средней выручке с заказа в двух группах пользователей:\n",
    "\n",
    "- совершившие 2–4 заказа;\n",
    "- совершившие 5 и более заказов.\n",
    "\n",
    "---\n"
   ]
  },
  {
   "cell_type": "code",
   "execution_count": 61,
   "id": "2ed4916f",
   "metadata": {
    "id": "2ed4916f"
   },
   "outputs": [
    {
     "data": {
      "image/png": "[encoded data removed]",
      "text/plain": [
       "<Figure size 720x432 with 1 Axes>"
      ]
     },
     "metadata": {
      "needs_background": "light"
     },
     "output_type": "display_data"
    }
   ],
   "source": [
    "# Разделяем пользователей на две группы\n",
    "group_2_4 = filtered_profile[(filtered_profile['orders_count'] >= 2) & \n",
    "                             (filtered_profile['orders_count'] < 5)] # совершил 2-4 заказа\n",
    "group_5_plus = filtered_profile[filtered_profile['orders_count'] >= 5] # совершил 5 и более заказов\n",
    "\n",
    "# Извлекаем среднюю выручку\n",
    "revenue_2_4 = group_2_4['avg_revenue']\n",
    "revenue_5_plus = group_5_plus['avg_revenue']\n",
    "\n",
    "# Строим гистограммы\n",
    "plt.figure(figsize=(10, 6))\n",
    "sns.histplot(revenue_2_4, color='orange', bins=20, label='2–4 заказа', kde=False, alpha=0.6, stat='density', edgecolor='black')\n",
    "sns.histplot(revenue_5_plus, color='lightblue', bins=20, label='5 и более заказов', kde=False, alpha=0.6, stat='density', edgecolor='black')\n",
    "\n",
    "# Добавляем средние линии\n",
    "plt.axvline(revenue_2_4.mean(), color='red', linestyle='--', linewidth=2.5, label=f'Среднее для 2–4 заказов: {revenue_2_4.mean():.0f} руб.')\n",
    "plt.axvline(revenue_5_plus.mean(), color='black', linestyle='--', linewidth=2.5, label=f'Среднее для 5 и более заказов: {revenue_5_plus.mean():.0f} руб.')\n",
    "\n",
    "# Оформляем график\n",
    "plt.title('Распределение средней выручки с заказа для разных групп пользователей')\n",
    "plt.xlabel('Средняя выручка с заказа, руб.')\n",
    "plt.ylabel('Плотность распределения')\n",
    "plt.legend()\n",
    "plt.grid(alpha=0.4)\n",
    "plt.show()"
   ]
  },
  {
   "cell_type": "markdown",
   "id": "d608650f",
   "metadata": {
    "id": "c3bc4897"
   },
   "source": [
    "Основная концентрация пользователей обеих групп находится в диапазоне до 900 рублей средней выручки с заказа. \n",
    "\n",
    "Форма распределения группы для 2-4 заказов - правосторонняя, с постепенным спадом при увеличении суммы средней выручки с заказа. \n",
    "\n",
    "Форма распределения группы для 5 и более заказов - также правосторонняя, но с ростом плотности распределения до среднего значения суммы средней выручки с заказа и последующим постепенным спадом.\n",
    "\n",
    "Среднее значение средней выручки с заказа отличается незначительно: \n",
    "- у пользователей с 2-4 заказами 551 руб.;\n",
    "- у пользователей с 5 и больше заказами 536 руб.\n",
    "\n",
    "Схожесть средних значений показывает, что существенных различий по средней выручке с заказа между группами нет: частота заказов не связана напрямую с размером среднего чека."
   ]
  },
  {
   "cell_type": "markdown",
   "id": "c40138c8",
   "metadata": {
    "id": "c40138c8"
   },
   "source": [
    "---\n",
    "\n",
    "**Задача 4.2.3.** Проанализируем влияние среднего количества билетов в заказе на вероятность повторной покупки.\n",
    "\n",
    "- Изучим распределение пользователей по среднему количеству билетов в заказе (`avg_tickets`) и опишем основные наблюдения.\n",
    "- Разделим пользователей на несколько сегментов по среднему количеству билетов в заказе:\n",
    "    - от 1 до 2 билетов;\n",
    "    - от 2 до 3 билетов;\n",
    "    - от 3 до 5 билетов;\n",
    "    - от 5 и более билетов.\n",
    "- Для каждого сегмента подсчитаем общее число пользователей и долю пользователей, совершивших повторные заказы.\n",
    "\n",
    "---"
   ]
  },
  {
   "cell_type": "code",
   "execution_count": 62,
   "id": "03224541",
   "metadata": {},
   "outputs": [
    {
     "name": "stdout",
     "output_type": "stream",
     "text": [
      "     tickets_segment  users_count  share_return_users\n",
      "0         1–2 билета         2406                0.51\n",
      "1         2–3 билета         9451                0.73\n",
      "2        3–5 билетов         8990                0.54\n",
      "3  5 и более билетов          647                0.18\n"
     ]
    },
    {
     "data": {
      "image/png": "[encoded data removed]",
      "text/plain": [
       "<Figure size 576x576 with 1 Axes>"
      ]
     },
     "metadata": {
      "needs_background": "light"
     },
     "output_type": "display_data"
    }
   ],
   "source": [
    "# Создаем сегменты по среднему количеству билетов в заказе\n",
    "bins = [0, 2, 3, 5, float('inf')]\n",
    "labels = ['1–2 билета', '2–3 билета', '3–5 билетов', '5 и более билетов']\n",
    "\n",
    "tickets_segment_profile = filtered_profile[['user_id', 'avg_tickets', 'is_two']].copy()\n",
    "tickets_segment_profile['tickets_segment'] = pd.cut(tickets_segment_profile['avg_tickets'], bins=bins, labels=labels, right=False)\n",
    "\n",
    "# Группируем по сегментам и считаем долю пользователей, совершивших повторные заказы\n",
    "segment_stats = (tickets_segment_profile.groupby('tickets_segment').agg(users_count=('user_id', 'nunique'), \n",
    "                                                                        share_return_users=('is_two', 'mean')).reset_index())\n",
    "\n",
    "# Округляем долю возвращающихся пользователей до двух знаков\n",
    "segment_stats['share_return_users'] = segment_stats['share_return_users'].round(2)\n",
    "\n",
    "# Выводим результаты группировки\n",
    "print(segment_stats)\n",
    "\n",
    "# Строим диаграмму распределения по сегментам\n",
    "plt.figure(figsize=(8, 8))\n",
    "plt.bar(segment_stats['tickets_segment'], segment_stats['share_return_users'] * 100, color='skyblue', edgecolor='black')\n",
    "plt.title('Доля возвращающихся пользователей\\nпо количеству билетов в заказе')\n",
    "plt.xlabel('Сегмент по среднему количеству билетов')\n",
    "plt.ylabel('Доля возвращающихся пользователей, %')\n",
    "plt.ylim(0, 100)\n",
    "plt.grid(axis='y', alpha=0.4)\n",
    "\n",
    "# Создаем переменную для среднего значения доли возвращающихся пользователей\n",
    "avg_share_return = (segment_stats['share_return_users'] * 100).mean()\n",
    "\n",
    "# Строим линию для визуализации среднего значения доли возвращающихся пользователей\n",
    "plt.axhline(avg_share_return, color='red', linestyle='--', linewidth=1.2, label=f'Средняя доля возвратов = {avg_share_return:.0f}%')\n",
    "plt.legend()\n",
    "plt.show()"
   ]
  },
  {
   "cell_type": "markdown",
   "id": "8a9a5b65",
   "metadata": {},
   "source": [
    "Распределение доли возвращающихся пользователей по сегментам неравномерное. \n",
    "\n",
    "Наибольшая доля возвращающихся пользователей соответствует сегменту \"2–3 билета\" (73 %, что можно считать аномально высоким значением, по сравнению со средним значением в 49 %). \n",
    "\n",
    "Меньше всего возвращающихся пользователей в сегменте \"5 и более билетов\" (18 %, что можно считать аномально низким значением, по сравнению со средним значением в 49 %)."
   ]
  },
  {
   "cell_type": "markdown",
   "id": "417e222d",
   "metadata": {
    "id": "417e222d"
   },
   "source": [
    "---\n",
    "\n",
    "#### 4.3. Исследование временных характеристик первого заказа и их влияния на повторные покупки\n",
    "\n",
    "Изучим временные параметры, связанные с первым заказом пользователей:\n",
    "\n",
    "- день недели первой покупки;\n",
    "- время с момента первой покупки — лайфтайм;\n",
    "- средний интервал между покупками пользователей с повторными заказами.\n",
    "\n",
    "---\n",
    "\n",
    "**Задача 4.3.1.** Проанализируем, как день недели, в который была совершена первая покупка, влияет на поведение пользователей.\n",
    "\n",
    "- По данным даты первого заказа выделим день недели.\n",
    "- Для каждого дня недели подсчитаем общее число пользователей и долю пользователей, совершивших повторные заказы. \n",
    "\n",
    "---\n"
   ]
  },
  {
   "cell_type": "code",
   "execution_count": 63,
   "id": "1709f7ff",
   "metadata": {
    "id": "1709f7ff"
   },
   "outputs": [
    {
     "name": "stdout",
     "output_type": "stream",
     "text": [
      "  first_order_weekday  users_count  share_return_users\n",
      "1              Monday         2906                0.63\n",
      "5             Tuesday         3157                0.62\n",
      "6           Wednesday         3031                0.62\n",
      "4            Thursday         3101                0.59\n",
      "0              Friday         3239                0.60\n",
      "2            Saturday         3303                0.63\n",
      "3              Sunday         2757                0.60\n"
     ]
    },
    {
     "data": {
      "image/png": "[encoded data removed]",
      "text/plain": [
       "<Figure size 576x576 with 1 Axes>"
      ]
     },
     "metadata": {
      "needs_background": "light"
     },
     "output_type": "display_data"
    }
   ],
   "source": [
    "# Создаем столбец с днём недели\n",
    "weekday_profile = filtered_profile[['user_id', 'first_order_dt', 'is_two']].copy()\n",
    "weekday_profile['first_order_weekday'] = weekday_profile['first_order_dt'].dt.day_name()\n",
    "\n",
    "# Группируем по дню недели и считаем долю пользователей, совершивших повторные заказы\n",
    "weekday_stats = (weekday_profile.groupby('first_order_weekday').agg(users_count=('user_id', 'nunique'), \n",
    "                                                                    share_return_users=('is_two', 'mean')).reset_index())\n",
    "\n",
    "# Округляем долю пользователей, совершивших повторные заказы, до двух знаков\n",
    "weekday_stats['share_return_users'] = (weekday_stats['share_return_users']).round(2)\n",
    "\n",
    "# Сортируем по дням недели\n",
    "weekday_order = ['Monday', 'Tuesday', 'Wednesday', 'Thursday', 'Friday', 'Saturday', 'Sunday']\n",
    "weekday_stats['first_order_weekday'] = pd.Categorical(weekday_stats['first_order_weekday'], categories=weekday_order, ordered=True)\n",
    "weekday_stats = weekday_stats.sort_values('first_order_weekday')\n",
    "\n",
    "# Выводим результат\n",
    "print(weekday_stats)\n",
    "\n",
    "# Строим диаграмму распределения по дням недели первого заказа\n",
    "plt.figure(figsize=(8, 8))\n",
    "plt.bar(weekday_stats['first_order_weekday'], weekday_stats['share_return_users'] * 100, color='skyblue', edgecolor='black', alpha=0.8)\n",
    "plt.title('Распределение доли возвращающихся пользователей\\nпо дню недели первого заказа')\n",
    "plt.xlabel('День недели первого заказа')\n",
    "plt.ylabel('Доля возвращающихся пользователей, %')\n",
    "plt.ylim(0, 100)\n",
    "plt.grid(alpha=0.4)\n",
    "plt.show()"
   ]
  },
  {
   "cell_type": "markdown",
   "id": "1d796bc3",
   "metadata": {
    "id": "d7ea10ee"
   },
   "source": [
    "Распределение доли возвращающихся пользователей по дню недели первого заказа равномерное, можно сделать вывод о том, что день недели, в который совершена первая покупка, не влияет на вероятность возврата клиента."
   ]
  },
  {
   "cell_type": "markdown",
   "id": "71d4e4b4",
   "metadata": {
    "id": "71d4e4b4"
   },
   "source": [
    "---\n",
    "\n",
    "**Задача 4.3.2.** Изучим, как средний интервал между заказами влияет на удержание клиентов.\n",
    "\n",
    "- Рассчитаем среднее время между заказами для двух групп пользователей:\n",
    "    - совершившие 2–4 заказа;\n",
    "    - совершившие 5 и более заказов.\n",
    "- Исследуем, как средний интервал между заказами влияет на вероятность повторного заказа.\n",
    "\n",
    "---\n"
   ]
  },
  {
   "cell_type": "code",
   "execution_count": 64,
   "id": "bc39c3f8",
   "metadata": {
    "id": "bc39c3f8"
   },
   "outputs": [
    {
     "name": "stdout",
     "output_type": "stream",
     "text": [
      "         order_group  mean_interval\n",
      "0         2–4 заказа           19.0\n",
      "1  5 и более заказов           10.0\n"
     ]
    },
    {
     "data": {
      "image/png": "[encoded data removed]",
      "text/plain": [
       "<Figure size 432x432 with 1 Axes>"
      ]
     },
     "metadata": {
      "needs_background": "light"
     },
     "output_type": "display_data"
    }
   ],
   "source": [
    "# Создаем сегменты для двух групп пользователей (2-4 заказа и 5 и более заказов)\n",
    "interval_profile = filtered_profile[['user_id', 'orders_count', 'avg_days_since_prev']].copy()\n",
    "interval_profile['order_group'] = pd.cut(interval_profile['orders_count'], bins=[1, 4, float('inf')], labels=['2–4 заказа', '5 и более заказов'], right=True)\n",
    "\n",
    "# Рассчитываем средний интервал между заказами по группам\n",
    "interval_stats = (interval_profile.groupby('order_group').agg(mean_interval=('avg_days_since_prev', 'mean')).reset_index())\n",
    "\n",
    "# Округляем средний интервал между заказами\n",
    "interval_stats['mean_interval'] = (interval_stats['mean_interval']).round()\n",
    "\n",
    "# Выводим результат\n",
    "print(interval_stats)\n",
    "\n",
    "# Строим диаграмму распределения по среднему интервалу между заказами\n",
    "plt.figure(figsize=(6, 6))\n",
    "plt.bar(interval_stats['order_group'], interval_stats['mean_interval'], color=['skyblue', 'orange'], edgecolor='black')\n",
    "plt.title('Средний интервал между заказами по группам пользователей')\n",
    "plt.ylabel('Средний интервал между заказами, дней')\n",
    "plt.xlabel('Группа пользователей')\n",
    "plt.grid(alpha=0.4)\n",
    "plt.show()"
   ]
  },
  {
   "cell_type": "markdown",
   "id": "350fb802",
   "metadata": {
    "id": "ceca9898"
   },
   "source": [
    "Пользователи, совершающие 5 и более заказов, делают покупки значительно чаще (средний интервал между заказами - 10 дней), чем пользователи, совершающие 2–4 заказа (средний интервал между заказами - 19 дней, почти вдвое больше).\n",
    "\n",
    "Можно сделать вывод о том, что частота заказов напрямую связана с вероятностью повторной покупки."
   ]
  },
  {
   "cell_type": "markdown",
   "id": "eb26eac5",
   "metadata": {
    "id": "eb26eac5"
   },
   "source": [
    "---\n",
    "\n",
    "#### 4.4. Корреляционный анализ количества покупок и признаков пользователя\n",
    "\n",
    "Изучим, какие характеристики первого заказа и профиля пользователя могут быть связаны с числом покупок. Для этого используем универсальный коэффициент корреляции `phi_k`, который позволяет анализировать как числовые, так и категориальные признаки.\n",
    "\n",
    "---\n",
    "\n",
    "**Задача 4.4.1:** Проведем корреляционный анализ:\n",
    "- Рассчитаем коэффициент корреляции `phi_k` между признаками профиля пользователя и числом заказов (`orders_count`). \n",
    "- Проанализируем полученные результаты.\n",
    "- Визуализируем результат корреляции с помощью тепловой карты.\n",
    "\n",
    "---"
   ]
  },
  {
   "cell_type": "code",
   "execution_count": 65,
   "id": "6e5275f4",
   "metadata": {},
   "outputs": [
    {
     "data": {
      "image/png": "[encoded data removed]",
      "text/plain": [
       "<Figure size 144x432 with 1 Axes>"
      ]
     },
     "metadata": {
      "needs_background": "light"
     },
     "output_type": "display_data"
    }
   ],
   "source": [
    "# Вычисляем корреляционную матрицу с использованием phi_k\n",
    "correlation_matrix = filtered_profile[['orders_count', 'avg_revenue', 'avg_tickets', 'first_device', 'first_region', 'first_event_type']].phik_matrix(interval_cols=['orders_count', 'avg_revenue', 'avg_tickets'])\n",
    "data_heatmap = correlation_matrix.loc[correlation_matrix.index != 'orders_count'][['orders_count']].sort_values(by='orders_count', ascending=False)\n",
    "\n",
    "# Cтроим тепловую карту\n",
    "plt.figure(figsize=(2, 6))\n",
    "sns.heatmap(data=data_heatmap, \n",
    "            annot=True, \n",
    "            cmap='coolwarm', \n",
    "            fmt='.2f', \n",
    "            linewidths=0.5,\n",
    "            cbar=False)\n",
    "plt.title('Тепловая карта коэффициента phi_k \\n для данных orders_count')\n",
    "plt.xlabel('Число заказов')\n",
    "plt.show()"
   ]
  },
  {
   "cell_type": "markdown",
   "id": "047b189f",
   "metadata": {},
   "source": [
    "По тепловой карте коэффициента phi_k видно, что наибольшая связь между числом заказов и средним количеством билетов в заказе - 0.34, что соответствует умеренной положительной корреляционной связи. Это может быть связано с тем, что пользователи, которые в среднем покупают больше билетов за один заказ, чаще совершают повторные покупки.\n",
    "\n",
    "Между числом заказов и средней выручкой слабая положительная корреляционная связь - 0.22. Возможно пользователи с более высокой средней выручкой в заказе имеют тенденцию быть более лояльными.\n",
    "\n",
    "Между числом заказов и регионом, в котором совершен первый заказ, также слабая положительная корреляционная связь - 0.12. У остальных признаков связи практически нет (0.03)."
   ]
  },
  {
   "cell_type": "markdown",
   "id": "e7c496e9",
   "metadata": {
    "id": "e7c496e9"
   },
   "source": [
    "### 5. Общий вывод и рекомендации\n"
   ]
  },
  {
   "cell_type": "markdown",
   "id": "d7c55df7",
   "metadata": {
    "id": "a788f8bd"
   },
   "source": [
    "Исходный датасет df сдержит 15 столбцов и 290611 строк, в которых представлена информация о покупках пользователей Яндекс Афиши.\n",
    "Для проведения исследовательского анализа данных было выполнено следующее:\n",
    "- Данные о выручке сервиса приведены к единой валюте — российскому рублю.\n",
    "- Выполнена проверка данных на пропущенные значения. Выявлено 8 % пропущенных значений в столбце `days_since_prev`, которые связаны с тем, что пользователь совершил не более одного заказа (не являются случайными).\n",
    "- Тип данных столбца `tickets_count` преобразован с понижением размерности до int8.\n",
    "- В столбцах `revenue_rub` и `tickets_count` с численными данными обнаружены выбросы - аномальные максимальные значения, которые могут быть связаны с большими корпоративными заказами. Данные отфильтрованы - исключены выбросы по 99-му перцентилю. Количество отфильтрованных выбросов составило: 3005 строк (менее 2 %).\n",
    "- Построены агрегированные признаки, описывающие поведение и профиль каждого пользователя:\n",
    "    - дата первого и последнего заказа;\n",
    "    - устройство, с которого был сделан первый заказ;\n",
    "    - регион, в котором был сделан первый заказ;\n",
    "    - билетный партнёр, к которому обращались при первом заказе;\n",
    "    - жанр первого посещённого мероприятия;\n",
    "    - общее количество заказов;\n",
    "    - средняя выручка с одного заказа в рублях;\n",
    "    - среднее количество билетов в заказе;\n",
    "    - среднее время между заказами.\n",
    "- Добавлены два бинарных признака:\n",
    "    - is_two — совершил ли пользователь 2 и более заказа;\n",
    "    - is_five — совершил ли пользователь 5 и более заказов.\n",
    "- Выполнена проверка репрезентативности данных. Анализ данных профиля пользователя показал:\n",
    "    - общее число пользователей в выборке: 21847;\n",
    "    - средняя выручка с одного заказа: 544.16 руб;\n",
    "    - доля пользователей, совершивших 2 и более заказа: 62 %;\n",
    "    - доля пользователей, совершивших 5 и более заказов: 29 %.\n",
    "- Статистические показатели по общему числу заказов и среднему количеству дней между покупками показали содержание в данных аномальных значений. Количество пользователей, имеющих аномальные значения для этих параметров по 99-му перцентилю, составляет менее 2 % от общего числа (353 пользователя). Аномальные значения отфильтрованы. Общее число пользователей в выборке после фильтрации: 21494.\n",
    "\n",
    "В ходе исследовательского анализа данных было выявлено:\n",
    "- Анализ распределения пользователей по сегментам показал, что существует несколько ярко выраженных \"точек входа\" при совершении первого заказа:\n",
    "    - основной тип первого мероприятия - концерты;\n",
    "    - основное устройство для совершения первого заказа - мобильное;\n",
    "    - региональная концентрация первых заказов - Каменевский регион;\n",
    "    - лидер среди билетных операторов при совершении первого заказа - \"Билеты без проблем\".\n",
    "При планировании акций, рекомендаций и расширении охвата следует учитывать эти \"точки входа\", они могут быть связаны с массовостью и регулярностью проведения мероприятий, удобства использования мобильных устройств при совершении заказа, плотностью населения отдельных регионов и маркетинговой стратегией оператора-лидера.\n",
    "\n",
    "- Анализ распределения возвращающихся пользователей по сегментам показал, что ярко выраженных \"точек входа\" нет, однако чаще совершают повторный заказ при следующих условиях:\n",
    "    - основной тип первого мероприятия - выставки, театр, концерты;\n",
    "    - основное устройство для совершения первого заказа - стационарное;\n",
    "    - регион проведения мероприятий первых заказов - Шанырский регион и Светополянский округ. При этом регионы с низкой плотностью населения (с десятками пользователей) не учитывались для избежания статистической нестабильности долей;\n",
    "    - лидеры среди билетных операторов при совершении первого заказа - \"Край билетов\" и \"Дом культуры\". При этом менее популярные операторы (с десятками пользователей) не учитывались для избежания статистической нестабильности долей.\n",
    "\n",
    "- Анализ взаимосвязи между средней выручкой сервиса с заказа и повторными заказами показал:\n",
    "    - зависимости между величиной средней выручки с билета и совершением повторных заказов нет;\n",
    "    - существенных различий по средней выручке с заказа между группами \"2-4 заказа\" и \"5 и более заказов\" также нет - частота заказов не связана напрямую с размером среднего чека.\n",
    "\n",
    "- Анализ влияния среднего количества билетов в заказе на вероятность повторной покупки показал:\n",
    "    - меньше всего возвращающихся пользователей в сегменте \"5 и более билетов\";\n",
    "    - наибольшая доля возвращающихся пользователей соответствует сегменту \"2–3 билета\".\n",
    "\n",
    "- Исследование временных характеристик первого заказа показало:\n",
    "     - день недели, в который совершена первая покупка, не влияет на вероятность возврата клиента;\n",
    "     - частота заказов напрямую связана с вероятностью повторной покупки (пользователи, совершающие 5 и более заказов, делают покупки значительно чаще, чем пользователи, совершающие не более 4 заказов).\n",
    "\n",
    "- Корреляционный анализ количества покупок и признаков пользователя показал, что число заказов пользователей сильнее всего связано с характеристиками их покупательской активности (количество билетов в заказе и средней выручкой).\n",
    "\n",
    "**Рекомендации:**\n",
    "\n",
    "- Для стимулирования повторных заказов следует отправлять персональные предложения пользователям не позднее, чем через 10 дней после покупки (средний интервал повторной покупки пользователей сегмента \"5 и более покупок\"). Кроме того, следует обратить внимение на следующие \"точки входа\": театр и выставки, Шанырский и Светополянский регионы.\n",
    "- Для привлечения новых пользователей при проведении рекламных кампаний следует обратить внимание на выявленные \"точки входа\": концерты, заказ через мобильное устройство, Каменевский регион, сервис \"Билеты без проблем\".\n",
    "- Основной фокус следует направить на повышение частоты покупок, а не среднего чека."
   ]
  },
  {
   "cell_type": "markdown",
   "id": "R8WPcqKyqW6Z",
   "metadata": {
    "id": "R8WPcqKyqW6Z"
   },
   "source": [
    "### 6. Финализация проекта и публикация в Git\n"
   ]
  },
  {
   "cell_type": "markdown",
   "id": "xMijfOFruLHQ",
   "metadata": {
    "id": "xMijfOFruLHQ"
   },
   "source": []
  }
 ],
 "metadata": {
  "ExecuteTimeLog": [
   {
    "duration": 3151,
    "start_time": "2025-10-20T17:06:16.728Z"
   },
   {
    "duration": 2895,
    "start_time": "2025-10-20T17:07:57.698Z"
   },
   {
    "duration": 2962,
    "start_time": "2025-10-20T17:09:12.488Z"
   },
   {
    "duration": 642,
    "start_time": "2025-10-20T17:09:15.453Z"
   },
   {
    "duration": 3,
    "start_time": "2025-10-20T17:09:16.097Z"
   },
   {
    "duration": 20,
    "start_time": "2025-10-20T17:09:16.102Z"
   },
   {
    "duration": 8879,
    "start_time": "2025-10-20T17:09:16.124Z"
   },
   {
    "duration": 4,
    "start_time": "2025-10-20T17:09:25.004Z"
   },
   {
    "duration": 4931,
    "start_time": "2025-10-20T17:09:25.010Z"
   },
   {
    "duration": 98,
    "start_time": "2025-10-20T17:09:29.943Z"
   },
   {
    "duration": 35,
    "start_time": "2025-10-20T17:09:48.399Z"
   },
   {
    "duration": 2879,
    "start_time": "2025-10-20T17:13:06.598Z"
   },
   {
    "duration": 25754,
    "start_time": "2025-10-20T17:13:09.479Z"
   },
   {
    "duration": 563,
    "start_time": "2025-10-20T17:13:35.236Z"
   },
   {
    "duration": 3,
    "start_time": "2025-10-20T17:13:35.801Z"
   },
   {
    "duration": 8,
    "start_time": "2025-10-20T17:13:35.819Z"
   },
   {
    "duration": 9274,
    "start_time": "2025-10-20T17:13:35.834Z"
   },
   {
    "duration": 3,
    "start_time": "2025-10-20T17:13:45.110Z"
   },
   {
    "duration": 4887,
    "start_time": "2025-10-20T17:13:45.122Z"
   },
   {
    "duration": 120,
    "start_time": "2025-10-20T17:13:50.011Z"
   },
   {
    "duration": 2892,
    "start_time": "2025-10-20T17:14:01.537Z"
   },
   {
    "duration": 592,
    "start_time": "2025-10-20T17:14:04.433Z"
   },
   {
    "duration": 4,
    "start_time": "2025-10-20T17:14:05.030Z"
   },
   {
    "duration": 18,
    "start_time": "2025-10-20T17:14:05.036Z"
   },
   {
    "duration": 10836,
    "start_time": "2025-10-20T17:14:05.056Z"
   },
   {
    "duration": 4,
    "start_time": "2025-10-20T17:14:15.893Z"
   },
   {
    "duration": 4926,
    "start_time": "2025-10-20T17:14:15.899Z"
   },
   {
    "duration": 109,
    "start_time": "2025-10-20T17:14:20.827Z"
   },
   {
    "duration": 5812,
    "start_time": "2025-10-20T17:15:33.068Z"
   },
   {
    "duration": 5624,
    "start_time": "2025-10-20T17:15:47.974Z"
   },
   {
    "duration": 618,
    "start_time": "2025-10-20T17:15:53.601Z"
   },
   {
    "duration": 6,
    "start_time": "2025-10-20T17:15:54.229Z"
   },
   {
    "duration": 3,
    "start_time": "2025-10-20T17:15:54.239Z"
   },
   {
    "duration": 9597,
    "start_time": "2025-10-20T17:15:54.244Z"
   },
   {
    "duration": 3,
    "start_time": "2025-10-20T17:16:03.843Z"
   },
   {
    "duration": 5041,
    "start_time": "2025-10-20T17:16:03.848Z"
   },
   {
    "duration": 102,
    "start_time": "2025-10-20T17:16:08.891Z"
   },
   {
    "duration": 19,
    "start_time": "2025-10-20T17:16:18.972Z"
   },
   {
    "duration": 40,
    "start_time": "2025-10-20T17:16:42.613Z"
   },
   {
    "duration": 247,
    "start_time": "2025-10-20T18:14:49.935Z"
   },
   {
    "duration": 7,
    "start_time": "2025-10-21T12:34:00.861Z"
   },
   {
    "duration": 526,
    "start_time": "2025-10-21T12:34:25.695Z"
   },
   {
    "duration": 44,
    "start_time": "2025-10-21T12:34:32.115Z"
   },
   {
    "duration": 5079,
    "start_time": "2025-10-21T12:34:43.100Z"
   },
   {
    "duration": 551,
    "start_time": "2025-10-21T12:34:48.182Z"
   },
   {
    "duration": 3,
    "start_time": "2025-10-21T12:34:48.735Z"
   },
   {
    "duration": 86,
    "start_time": "2025-10-21T12:34:48.739Z"
   },
   {
    "duration": 10076,
    "start_time": "2025-10-21T12:34:48.827Z"
   },
   {
    "duration": 3,
    "start_time": "2025-10-21T12:34:58.905Z"
   },
   {
    "duration": 4232,
    "start_time": "2025-10-21T12:34:58.910Z"
   },
   {
    "duration": 29,
    "start_time": "2025-10-21T12:35:03.144Z"
   },
   {
    "duration": 243,
    "start_time": "2025-10-21T12:35:03.174Z"
   },
   {
    "duration": 47,
    "start_time": "2025-10-21T12:35:03.419Z"
   },
   {
    "duration": 47,
    "start_time": "2025-10-21T12:39:25.247Z"
   },
   {
    "duration": 11,
    "start_time": "2025-10-21T12:39:59.536Z"
   },
   {
    "duration": 45,
    "start_time": "2025-10-21T12:40:02.417Z"
   },
   {
    "duration": 13,
    "start_time": "2025-10-21T12:40:04.309Z"
   },
   {
    "duration": 69,
    "start_time": "2025-10-21T13:02:10.048Z"
   },
   {
    "duration": 14,
    "start_time": "2025-10-21T13:02:22.108Z"
   },
   {
    "duration": 13,
    "start_time": "2025-10-21T13:12:26.042Z"
   },
   {
    "duration": 454,
    "start_time": "2025-10-21T13:23:55.363Z"
   },
   {
    "duration": 22,
    "start_time": "2025-10-21T13:24:08.772Z"
   },
   {
    "duration": 21,
    "start_time": "2025-10-21T13:24:25.424Z"
   },
   {
    "duration": 523,
    "start_time": "2025-10-21T13:24:43.032Z"
   },
   {
    "duration": 516,
    "start_time": "2025-10-21T13:25:13.722Z"
   },
   {
    "duration": 499,
    "start_time": "2025-10-21T13:26:05.412Z"
   },
   {
    "duration": 490,
    "start_time": "2025-10-21T13:26:46.692Z"
   },
   {
    "duration": 491,
    "start_time": "2025-10-21T13:27:11.474Z"
   },
   {
    "duration": 1904,
    "start_time": "2025-10-21T13:28:01.093Z"
   },
   {
    "duration": 488,
    "start_time": "2025-10-21T13:28:47.354Z"
   },
   {
    "duration": 538,
    "start_time": "2025-10-21T13:29:08.354Z"
   },
   {
    "duration": 493,
    "start_time": "2025-10-21T13:29:13.663Z"
   },
   {
    "duration": 509,
    "start_time": "2025-10-21T13:29:25.066Z"
   },
   {
    "duration": 503,
    "start_time": "2025-10-21T13:29:34.363Z"
   },
   {
    "duration": 520,
    "start_time": "2025-10-21T13:30:17.083Z"
   },
   {
    "duration": 94,
    "start_time": "2025-10-21T13:30:37.903Z"
   },
   {
    "duration": 524,
    "start_time": "2025-10-21T13:30:42.974Z"
   },
   {
    "duration": 538,
    "start_time": "2025-10-21T13:30:49.754Z"
   },
   {
    "duration": 777,
    "start_time": "2025-10-21T13:33:46.310Z"
   },
   {
    "duration": 716,
    "start_time": "2025-10-21T13:35:31.697Z"
   },
   {
    "duration": 828,
    "start_time": "2025-10-21T13:37:19.518Z"
   },
   {
    "duration": 4797,
    "start_time": "2025-10-21T13:40:26.604Z"
   },
   {
    "duration": 525,
    "start_time": "2025-10-21T13:40:31.403Z"
   },
   {
    "duration": 3,
    "start_time": "2025-10-21T13:40:31.930Z"
   },
   {
    "duration": 7,
    "start_time": "2025-10-21T13:40:31.934Z"
   },
   {
    "duration": 10041,
    "start_time": "2025-10-21T13:40:31.942Z"
   },
   {
    "duration": 3,
    "start_time": "2025-10-21T13:40:41.985Z"
   },
   {
    "duration": 6066,
    "start_time": "2025-10-21T13:40:41.990Z"
   },
   {
    "duration": 30,
    "start_time": "2025-10-21T13:40:48.058Z"
   },
   {
    "duration": 241,
    "start_time": "2025-10-21T13:40:48.089Z"
   },
   {
    "duration": 34,
    "start_time": "2025-10-21T13:40:48.333Z"
   },
   {
    "duration": 12,
    "start_time": "2025-10-21T13:40:48.369Z"
   },
   {
    "duration": 4,
    "start_time": "2025-10-21T13:40:48.382Z"
   },
   {
    "duration": 14,
    "start_time": "2025-10-21T13:40:48.388Z"
   },
   {
    "duration": 430,
    "start_time": "2025-10-21T13:40:48.407Z"
   },
   {
    "duration": 4,
    "start_time": "2025-10-21T13:40:48.839Z"
   },
   {
    "duration": 47,
    "start_time": "2025-10-21T13:40:48.845Z"
   },
   {
    "duration": 266,
    "start_time": "2025-10-21T13:40:48.894Z"
   },
   {
    "duration": 163,
    "start_time": "2025-10-21T13:40:49.162Z"
   },
   {
    "duration": 8,
    "start_time": "2025-10-21T13:42:22.099Z"
   },
   {
    "duration": 8,
    "start_time": "2025-10-21T13:42:35.719Z"
   },
   {
    "duration": 30,
    "start_time": "2025-10-21T13:48:01.851Z"
   },
   {
    "duration": 40,
    "start_time": "2025-10-21T13:48:03.472Z"
   },
   {
    "duration": 159,
    "start_time": "2025-10-21T13:48:05.422Z"
   },
   {
    "duration": 241,
    "start_time": "2025-10-21T14:02:40.329Z"
   },
   {
    "duration": 8,
    "start_time": "2025-10-21T14:09:17.174Z"
   },
   {
    "duration": 5,
    "start_time": "2025-10-21T14:09:46.960Z"
   },
   {
    "duration": 29,
    "start_time": "2025-10-21T14:13:45.701Z"
   },
   {
    "duration": 19,
    "start_time": "2025-10-21T14:14:01.991Z"
   },
   {
    "duration": 3661,
    "start_time": "2025-10-21T14:41:16.623Z"
   },
   {
    "duration": 20,
    "start_time": "2025-10-21T14:56:00.505Z"
   },
   {
    "duration": 19,
    "start_time": "2025-10-21T14:56:17.688Z"
   },
   {
    "duration": 19,
    "start_time": "2025-10-21T14:56:27.166Z"
   },
   {
    "duration": 20,
    "start_time": "2025-10-21T14:57:09.333Z"
   },
   {
    "duration": 19,
    "start_time": "2025-10-21T14:57:17.500Z"
   },
   {
    "duration": 19,
    "start_time": "2025-10-21T14:57:26.273Z"
   },
   {
    "duration": 772,
    "start_time": "2025-10-21T15:01:44.688Z"
   },
   {
    "duration": 575,
    "start_time": "2025-10-21T15:02:25.907Z"
   },
   {
    "duration": 3007,
    "start_time": "2025-10-21T15:03:06.415Z"
   },
   {
    "duration": 237,
    "start_time": "2025-10-21T15:03:30.878Z"
   },
   {
    "duration": 362,
    "start_time": "2025-10-21T15:05:02.743Z"
   },
   {
    "duration": 342,
    "start_time": "2025-10-21T15:06:08.857Z"
   },
   {
    "duration": 9,
    "start_time": "2025-10-21T15:22:20.477Z"
   },
   {
    "duration": 164,
    "start_time": "2025-10-21T15:23:18.709Z"
   },
   {
    "duration": 4,
    "start_time": "2025-10-21T15:35:58.680Z"
   },
   {
    "duration": 20,
    "start_time": "2025-10-21T15:38:52.632Z"
   },
   {
    "duration": 13,
    "start_time": "2025-10-21T15:39:12.483Z"
   },
   {
    "duration": 219,
    "start_time": "2025-10-21T15:46:07.896Z"
   },
   {
    "duration": 386,
    "start_time": "2025-10-21T15:47:23.321Z"
   },
   {
    "duration": 304,
    "start_time": "2025-10-21T15:47:39.375Z"
   },
   {
    "duration": 342,
    "start_time": "2025-10-21T15:49:02.233Z"
   },
   {
    "duration": 8,
    "start_time": "2025-10-21T15:51:51.133Z"
   },
   {
    "duration": 11,
    "start_time": "2025-10-21T15:53:06.395Z"
   },
   {
    "duration": 746,
    "start_time": "2025-10-21T15:54:55.253Z"
   },
   {
    "duration": 132,
    "start_time": "2025-10-21T15:56:25.698Z"
   },
   {
    "duration": 4,
    "start_time": "2025-10-21T15:56:28.421Z"
   },
   {
    "duration": 230,
    "start_time": "2025-10-21T19:31:37.198Z"
   },
   {
    "duration": 151,
    "start_time": "2025-10-21T19:33:51.113Z"
   },
   {
    "duration": 140,
    "start_time": "2025-10-21T19:34:04.374Z"
   },
   {
    "duration": 9,
    "start_time": "2025-10-21T19:46:04.109Z"
   },
   {
    "duration": 818,
    "start_time": "2025-10-21T19:46:14.547Z"
   },
   {
    "duration": 44,
    "start_time": "2025-10-21T19:46:16.947Z"
   },
   {
    "duration": 18,
    "start_time": "2025-10-21T19:46:38.096Z"
   },
   {
    "duration": 37,
    "start_time": "2025-10-21T19:47:33.629Z"
   },
   {
    "duration": 46,
    "start_time": "2025-10-21T19:50:30.419Z"
   },
   {
    "duration": 228,
    "start_time": "2025-10-21T19:57:34.771Z"
   },
   {
    "duration": 5,
    "start_time": "2025-10-21T19:59:29.491Z"
   },
   {
    "duration": 82,
    "start_time": "2025-10-21T19:59:48.781Z"
   },
   {
    "duration": 21,
    "start_time": "2025-10-21T20:00:09.031Z"
   },
   {
    "duration": 20,
    "start_time": "2025-10-21T20:00:19.836Z"
   },
   {
    "duration": 22,
    "start_time": "2025-10-21T20:00:41.312Z"
   },
   {
    "duration": 4749,
    "start_time": "2025-10-21T20:01:06.491Z"
   },
   {
    "duration": 3591,
    "start_time": "2025-10-21T20:01:11.242Z"
   },
   {
    "duration": 3,
    "start_time": "2025-10-21T20:01:14.835Z"
   },
   {
    "duration": 22,
    "start_time": "2025-10-21T20:01:14.840Z"
   },
   {
    "duration": 9423,
    "start_time": "2025-10-21T20:01:14.865Z"
   },
   {
    "duration": 3,
    "start_time": "2025-10-21T20:01:24.289Z"
   },
   {
    "duration": 4296,
    "start_time": "2025-10-21T20:01:24.294Z"
   },
   {
    "duration": 34,
    "start_time": "2025-10-21T20:01:28.592Z"
   },
   {
    "duration": 240,
    "start_time": "2025-10-21T20:01:28.627Z"
   },
   {
    "duration": 43,
    "start_time": "2025-10-21T20:01:28.869Z"
   },
   {
    "duration": 7,
    "start_time": "2025-10-21T20:01:28.914Z"
   },
   {
    "duration": 7,
    "start_time": "2025-10-21T20:01:28.922Z"
   },
   {
    "duration": 12,
    "start_time": "2025-10-21T20:01:28.930Z"
   },
   {
    "duration": 406,
    "start_time": "2025-10-21T20:01:28.944Z"
   },
   {
    "duration": 4,
    "start_time": "2025-10-21T20:01:29.351Z"
   },
   {
    "duration": 52,
    "start_time": "2025-10-21T20:01:29.357Z"
   },
   {
    "duration": 271,
    "start_time": "2025-10-21T20:01:29.410Z"
   },
   {
    "duration": 161,
    "start_time": "2025-10-21T20:01:29.683Z"
   },
   {
    "duration": 240,
    "start_time": "2025-10-21T20:01:29.845Z"
   },
   {
    "duration": 19,
    "start_time": "2025-10-21T20:01:30.086Z"
   },
   {
    "duration": 129,
    "start_time": "2025-10-21T20:01:30.107Z"
   },
   {
    "duration": 3635,
    "start_time": "2025-10-21T20:01:30.238Z"
   },
   {
    "duration": 19,
    "start_time": "2025-10-21T20:01:33.875Z"
   },
   {
    "duration": 250,
    "start_time": "2025-10-21T20:01:33.905Z"
   },
   {
    "duration": 362,
    "start_time": "2025-10-21T20:01:34.157Z"
   },
   {
    "duration": 365,
    "start_time": "2025-10-21T20:01:34.520Z"
   },
   {
    "duration": 19,
    "start_time": "2025-10-21T20:01:34.887Z"
   },
   {
    "duration": 211,
    "start_time": "2025-10-21T20:01:34.907Z"
   },
   {
    "duration": 299,
    "start_time": "2025-10-21T20:01:35.119Z"
   },
   {
    "duration": 314,
    "start_time": "2025-10-21T20:01:35.420Z"
   },
   {
    "duration": 11,
    "start_time": "2025-10-21T20:01:35.736Z"
   },
   {
    "duration": 103,
    "start_time": "2025-10-21T20:01:35.749Z"
   },
   {
    "duration": 3,
    "start_time": "2025-10-21T20:01:35.854Z"
   },
   {
    "duration": 237,
    "start_time": "2025-10-21T20:01:35.859Z"
   },
   {
    "duration": 142,
    "start_time": "2025-10-21T20:01:36.097Z"
   },
   {
    "duration": 850,
    "start_time": "2025-10-21T20:01:36.241Z"
   },
   {
    "duration": 60,
    "start_time": "2025-10-21T20:01:37.093Z"
   },
   {
    "duration": 234,
    "start_time": "2025-10-21T20:01:37.154Z"
   },
   {
    "duration": 6,
    "start_time": "2025-10-21T20:01:37.390Z"
   },
   {
    "duration": 14,
    "start_time": "2025-10-21T20:01:37.404Z"
   },
   {
    "duration": 105,
    "start_time": "2025-10-21T20:03:52.087Z"
   },
   {
    "duration": 11,
    "start_time": "2025-10-21T20:04:02.706Z"
   },
   {
    "duration": 6,
    "start_time": "2025-10-21T20:04:36.577Z"
   },
   {
    "duration": 9,
    "start_time": "2025-10-21T20:06:50.258Z"
   },
   {
    "duration": 14,
    "start_time": "2025-10-21T20:06:56.257Z"
   },
   {
    "duration": 5,
    "start_time": "2025-10-21T20:07:02.378Z"
   },
   {
    "duration": 15,
    "start_time": "2025-10-21T20:45:53.073Z"
   },
   {
    "duration": 4,
    "start_time": "2025-10-21T20:45:55.542Z"
   },
   {
    "duration": 4,
    "start_time": "2025-10-21T20:45:58.839Z"
   },
   {
    "duration": 3,
    "start_time": "2025-10-21T20:46:05.015Z"
   },
   {
    "duration": 27,
    "start_time": "2025-10-21T20:46:10.834Z"
   },
   {
    "duration": 9,
    "start_time": "2025-10-21T20:50:56.050Z"
   },
   {
    "duration": 107,
    "start_time": "2025-10-21T20:51:04.482Z"
   },
   {
    "duration": 11,
    "start_time": "2025-10-21T20:51:10.897Z"
   },
   {
    "duration": 115,
    "start_time": "2025-10-21T21:01:14.650Z"
   },
   {
    "duration": 114,
    "start_time": "2025-10-21T21:01:48.829Z"
   },
   {
    "duration": 8,
    "start_time": "2025-10-21T21:08:15.133Z"
   },
   {
    "duration": 10,
    "start_time": "2025-10-21T21:09:24.824Z"
   },
   {
    "duration": 11,
    "start_time": "2025-10-21T21:16:19.246Z"
   },
   {
    "duration": 4826,
    "start_time": "2025-10-21T21:17:44.106Z"
   },
   {
    "duration": 3691,
    "start_time": "2025-10-21T21:17:48.935Z"
   },
   {
    "duration": 3,
    "start_time": "2025-10-21T21:17:52.628Z"
   },
   {
    "duration": 4,
    "start_time": "2025-10-21T21:17:52.632Z"
   },
   {
    "duration": 9450,
    "start_time": "2025-10-21T21:17:52.638Z"
   },
   {
    "duration": 4,
    "start_time": "2025-10-21T21:18:02.090Z"
   },
   {
    "duration": 4366,
    "start_time": "2025-10-21T21:18:02.095Z"
   },
   {
    "duration": 30,
    "start_time": "2025-10-21T21:18:06.463Z"
   },
   {
    "duration": 240,
    "start_time": "2025-10-21T21:18:06.506Z"
   },
   {
    "duration": 38,
    "start_time": "2025-10-21T21:18:06.749Z"
   },
   {
    "duration": 58,
    "start_time": "2025-10-21T21:18:06.789Z"
   },
   {
    "duration": 4,
    "start_time": "2025-10-21T21:18:06.849Z"
   },
   {
    "duration": 8,
    "start_time": "2025-10-21T21:18:06.854Z"
   },
   {
    "duration": 429,
    "start_time": "2025-10-21T21:18:06.863Z"
   },
   {
    "duration": 4,
    "start_time": "2025-10-21T21:18:07.293Z"
   },
   {
    "duration": 43,
    "start_time": "2025-10-21T21:18:07.305Z"
   },
   {
    "duration": 301,
    "start_time": "2025-10-21T21:18:07.349Z"
   },
   {
    "duration": 168,
    "start_time": "2025-10-21T21:18:07.652Z"
   },
   {
    "duration": 250,
    "start_time": "2025-10-21T21:18:07.821Z"
   },
   {
    "duration": 8,
    "start_time": "2025-10-21T21:18:08.073Z"
   },
   {
    "duration": 4,
    "start_time": "2025-10-21T21:18:08.083Z"
   },
   {
    "duration": 3788,
    "start_time": "2025-10-21T21:18:08.088Z"
   },
   {
    "duration": 28,
    "start_time": "2025-10-21T21:18:11.878Z"
   },
   {
    "duration": 251,
    "start_time": "2025-10-21T21:18:11.908Z"
   },
   {
    "duration": 360,
    "start_time": "2025-10-21T21:18:12.161Z"
   },
   {
    "duration": 354,
    "start_time": "2025-10-21T21:18:12.523Z"
   },
   {
    "duration": 14,
    "start_time": "2025-10-21T21:18:12.879Z"
   },
   {
    "duration": 209,
    "start_time": "2025-10-21T21:18:12.908Z"
   },
   {
    "duration": 311,
    "start_time": "2025-10-21T21:18:13.119Z"
   },
   {
    "duration": 306,
    "start_time": "2025-10-21T21:18:13.432Z"
   },
   {
    "duration": 12,
    "start_time": "2025-10-21T21:18:13.740Z"
   },
   {
    "duration": 105,
    "start_time": "2025-10-21T21:18:13.753Z"
   },
   {
    "duration": 3,
    "start_time": "2025-10-21T21:18:13.860Z"
   },
   {
    "duration": 240,
    "start_time": "2025-10-21T21:18:13.865Z"
   },
   {
    "duration": 142,
    "start_time": "2025-10-21T21:18:14.106Z"
   },
   {
    "duration": 808,
    "start_time": "2025-10-21T21:18:14.249Z"
   },
   {
    "duration": 56,
    "start_time": "2025-10-21T21:18:15.059Z"
   },
   {
    "duration": 217,
    "start_time": "2025-10-21T21:18:15.117Z"
   },
   {
    "duration": 7,
    "start_time": "2025-10-21T21:18:15.336Z"
   },
   {
    "duration": 72,
    "start_time": "2025-10-21T21:18:15.344Z"
   },
   {
    "duration": 17,
    "start_time": "2025-10-21T21:18:15.417Z"
   },
   {
    "duration": 3,
    "start_time": "2025-10-21T21:18:15.436Z"
   },
   {
    "duration": 8,
    "start_time": "2025-10-21T21:18:15.441Z"
   },
   {
    "duration": 9,
    "start_time": "2025-10-21T21:18:15.451Z"
   },
   {
    "duration": 27,
    "start_time": "2025-10-21T21:18:15.461Z"
   },
   {
    "duration": 24,
    "start_time": "2025-10-21T21:18:15.490Z"
   },
   {
    "duration": 11,
    "start_time": "2025-10-21T21:18:15.515Z"
   },
   {
    "duration": 26,
    "start_time": "2025-10-21T21:18:15.527Z"
   },
   {
    "duration": 10,
    "start_time": "2025-10-21T21:21:55.335Z"
   },
   {
    "duration": 114,
    "start_time": "2025-10-21T21:22:34.726Z"
   },
   {
    "duration": 11,
    "start_time": "2025-10-21T21:22:41.595Z"
   },
   {
    "duration": 9,
    "start_time": "2025-10-21T21:22:52.755Z"
   },
   {
    "duration": 9,
    "start_time": "2025-10-21T21:24:18.256Z"
   },
   {
    "duration": 4,
    "start_time": "2025-10-21T21:24:35.446Z"
   },
   {
    "duration": 9,
    "start_time": "2025-10-21T21:24:39.075Z"
   },
   {
    "duration": 9,
    "start_time": "2025-10-21T21:24:55.610Z"
   },
   {
    "duration": 9,
    "start_time": "2025-10-21T21:25:06.135Z"
   },
   {
    "duration": 9,
    "start_time": "2025-10-21T21:25:13.246Z"
   },
   {
    "duration": 10,
    "start_time": "2025-10-21T21:25:26.326Z"
   },
   {
    "duration": 10,
    "start_time": "2025-10-21T21:25:47.087Z"
   },
   {
    "duration": 10,
    "start_time": "2025-10-21T21:26:30.797Z"
   },
   {
    "duration": 4768,
    "start_time": "2025-10-21T21:28:34.091Z"
   },
   {
    "duration": 3540,
    "start_time": "2025-10-21T21:28:38.862Z"
   },
   {
    "duration": 3,
    "start_time": "2025-10-21T21:28:42.404Z"
   },
   {
    "duration": 18,
    "start_time": "2025-10-21T21:28:42.409Z"
   },
   {
    "duration": 9414,
    "start_time": "2025-10-21T21:28:42.429Z"
   },
   {
    "duration": 3,
    "start_time": "2025-10-21T21:28:51.845Z"
   },
   {
    "duration": 4357,
    "start_time": "2025-10-21T21:28:51.849Z"
   },
   {
    "duration": 28,
    "start_time": "2025-10-21T21:28:56.208Z"
   },
   {
    "duration": 261,
    "start_time": "2025-10-21T21:28:56.237Z"
   },
   {
    "duration": 38,
    "start_time": "2025-10-21T21:28:56.499Z"
   },
   {
    "duration": 8,
    "start_time": "2025-10-21T21:28:56.539Z"
   },
   {
    "duration": 62,
    "start_time": "2025-10-21T21:28:56.548Z"
   },
   {
    "duration": 14,
    "start_time": "2025-10-21T21:28:56.611Z"
   },
   {
    "duration": 428,
    "start_time": "2025-10-21T21:28:56.628Z"
   },
   {
    "duration": 4,
    "start_time": "2025-10-21T21:28:57.057Z"
   },
   {
    "duration": 51,
    "start_time": "2025-10-21T21:28:57.063Z"
   },
   {
    "duration": 281,
    "start_time": "2025-10-21T21:28:57.115Z"
   },
   {
    "duration": 159,
    "start_time": "2025-10-21T21:28:57.397Z"
   },
   {
    "duration": 264,
    "start_time": "2025-10-21T21:28:57.557Z"
   },
   {
    "duration": 8,
    "start_time": "2025-10-21T21:28:57.823Z"
   },
   {
    "duration": 5,
    "start_time": "2025-10-21T21:28:57.832Z"
   },
   {
    "duration": 3906,
    "start_time": "2025-10-21T21:28:57.838Z"
   },
   {
    "duration": 20,
    "start_time": "2025-10-21T21:29:01.745Z"
   },
   {
    "duration": 276,
    "start_time": "2025-10-21T21:29:01.767Z"
   },
   {
    "duration": 370,
    "start_time": "2025-10-21T21:29:02.044Z"
   },
   {
    "duration": 365,
    "start_time": "2025-10-21T21:29:02.416Z"
   },
   {
    "duration": 23,
    "start_time": "2025-10-21T21:29:02.783Z"
   },
   {
    "duration": 279,
    "start_time": "2025-10-21T21:29:02.807Z"
   },
   {
    "duration": 299,
    "start_time": "2025-10-21T21:29:03.088Z"
   },
   {
    "duration": 321,
    "start_time": "2025-10-21T21:29:03.388Z"
   },
   {
    "duration": 10,
    "start_time": "2025-10-21T21:29:03.711Z"
   },
   {
    "duration": 100,
    "start_time": "2025-10-21T21:29:03.723Z"
   },
   {
    "duration": 3,
    "start_time": "2025-10-21T21:29:03.825Z"
   },
   {
    "duration": 253,
    "start_time": "2025-10-21T21:29:03.829Z"
   },
   {
    "duration": 144,
    "start_time": "2025-10-21T21:29:04.084Z"
   },
   {
    "duration": 848,
    "start_time": "2025-10-21T21:29:04.230Z"
   },
   {
    "duration": 60,
    "start_time": "2025-10-21T21:29:05.079Z"
   },
   {
    "duration": 235,
    "start_time": "2025-10-21T21:29:05.141Z"
   },
   {
    "duration": 7,
    "start_time": "2025-10-21T21:29:05.378Z"
   },
   {
    "duration": 86,
    "start_time": "2025-10-21T21:29:05.387Z"
   },
   {
    "duration": 13,
    "start_time": "2025-10-21T21:29:05.477Z"
   },
   {
    "duration": 35,
    "start_time": "2025-10-21T21:29:05.492Z"
   },
   {
    "duration": 8,
    "start_time": "2025-10-21T21:29:05.528Z"
   },
   {
    "duration": 4,
    "start_time": "2025-10-21T21:29:05.538Z"
   },
   {
    "duration": 25,
    "start_time": "2025-10-21T21:29:05.544Z"
   },
   {
    "duration": 8,
    "start_time": "2025-10-21T21:29:05.571Z"
   },
   {
    "duration": 9,
    "start_time": "2025-10-21T21:29:05.581Z"
   },
   {
    "duration": 22,
    "start_time": "2025-10-21T21:29:05.591Z"
   },
   {
    "duration": 10,
    "start_time": "2025-10-21T21:30:30.468Z"
   },
   {
    "duration": 11,
    "start_time": "2025-10-21T21:30:37.758Z"
   },
   {
    "duration": 4860,
    "start_time": "2025-10-21T21:32:40.085Z"
   },
   {
    "duration": 3685,
    "start_time": "2025-10-21T21:32:44.947Z"
   },
   {
    "duration": 3,
    "start_time": "2025-10-21T21:32:48.634Z"
   },
   {
    "duration": 3,
    "start_time": "2025-10-21T21:32:48.639Z"
   },
   {
    "duration": 9291,
    "start_time": "2025-10-21T21:32:48.644Z"
   },
   {
    "duration": 3,
    "start_time": "2025-10-21T21:32:57.936Z"
   },
   {
    "duration": 4348,
    "start_time": "2025-10-21T21:32:57.941Z"
   },
   {
    "duration": 34,
    "start_time": "2025-10-21T21:33:02.291Z"
   },
   {
    "duration": 262,
    "start_time": "2025-10-21T21:33:02.327Z"
   },
   {
    "duration": 62,
    "start_time": "2025-10-21T21:33:02.590Z"
   },
   {
    "duration": 9,
    "start_time": "2025-10-21T21:33:02.653Z"
   },
   {
    "duration": 8,
    "start_time": "2025-10-21T21:33:02.663Z"
   },
   {
    "duration": 4,
    "start_time": "2025-10-21T21:33:02.673Z"
   },
   {
    "duration": 459,
    "start_time": "2025-10-21T21:33:02.681Z"
   },
   {
    "duration": 4,
    "start_time": "2025-10-21T21:33:03.141Z"
   },
   {
    "duration": 47,
    "start_time": "2025-10-21T21:33:03.146Z"
   },
   {
    "duration": 285,
    "start_time": "2025-10-21T21:33:03.194Z"
   },
   {
    "duration": 176,
    "start_time": "2025-10-21T21:33:03.480Z"
   },
   {
    "duration": 249,
    "start_time": "2025-10-21T21:33:03.657Z"
   },
   {
    "duration": 8,
    "start_time": "2025-10-21T21:33:03.908Z"
   },
   {
    "duration": 5,
    "start_time": "2025-10-21T21:33:03.917Z"
   },
   {
    "duration": 3807,
    "start_time": "2025-10-21T21:33:03.924Z"
   },
   {
    "duration": 20,
    "start_time": "2025-10-21T21:33:07.732Z"
   },
   {
    "duration": 254,
    "start_time": "2025-10-21T21:33:07.753Z"
   },
   {
    "duration": 387,
    "start_time": "2025-10-21T21:33:08.008Z"
   },
   {
    "duration": 361,
    "start_time": "2025-10-21T21:33:08.396Z"
   },
   {
    "duration": 14,
    "start_time": "2025-10-21T21:33:08.758Z"
   },
   {
    "duration": 220,
    "start_time": "2025-10-21T21:33:08.773Z"
   },
   {
    "duration": 318,
    "start_time": "2025-10-21T21:33:08.995Z"
   },
   {
    "duration": 315,
    "start_time": "2025-10-21T21:33:09.314Z"
   },
   {
    "duration": 11,
    "start_time": "2025-10-21T21:33:09.631Z"
   },
   {
    "duration": 101,
    "start_time": "2025-10-21T21:33:09.644Z"
   },
   {
    "duration": 3,
    "start_time": "2025-10-21T21:33:09.747Z"
   },
   {
    "duration": 248,
    "start_time": "2025-10-21T21:33:09.751Z"
   },
   {
    "duration": 149,
    "start_time": "2025-10-21T21:33:10.000Z"
   },
   {
    "duration": 825,
    "start_time": "2025-10-21T21:33:10.151Z"
   },
   {
    "duration": 53,
    "start_time": "2025-10-21T21:33:10.977Z"
   },
   {
    "duration": 222,
    "start_time": "2025-10-21T21:33:11.031Z"
   },
   {
    "duration": 9,
    "start_time": "2025-10-21T21:33:11.254Z"
   },
   {
    "duration": 18,
    "start_time": "2025-10-21T21:33:11.264Z"
   },
   {
    "duration": 27,
    "start_time": "2025-10-21T21:33:11.287Z"
   },
   {
    "duration": 5,
    "start_time": "2025-10-21T21:33:11.316Z"
   },
   {
    "duration": 8,
    "start_time": "2025-10-21T21:33:11.322Z"
   },
   {
    "duration": 7,
    "start_time": "2025-10-21T21:33:11.331Z"
   },
   {
    "duration": 34,
    "start_time": "2025-10-21T21:33:11.340Z"
   },
   {
    "duration": 8,
    "start_time": "2025-10-21T21:33:11.376Z"
   },
   {
    "duration": 64,
    "start_time": "2025-10-21T21:33:11.386Z"
   },
   {
    "duration": 16,
    "start_time": "2025-10-21T21:33:11.452Z"
   },
   {
    "duration": 16,
    "start_time": "2025-10-21T21:34:11.066Z"
   },
   {
    "duration": 18,
    "start_time": "2025-10-21T21:34:44.995Z"
   },
   {
    "duration": 16,
    "start_time": "2025-10-21T21:34:51.626Z"
   },
   {
    "duration": 9,
    "start_time": "2025-10-21T21:47:26.823Z"
   },
   {
    "duration": 9,
    "start_time": "2025-10-21T21:47:39.003Z"
   },
   {
    "duration": 9,
    "start_time": "2025-10-21T21:47:51.393Z"
   },
   {
    "duration": 138,
    "start_time": "2025-10-21T21:51:13.719Z"
   },
   {
    "duration": 4,
    "start_time": "2025-10-21T21:51:15.725Z"
   },
   {
    "duration": 123,
    "start_time": "2025-10-21T21:51:26.795Z"
   },
   {
    "duration": 3,
    "start_time": "2025-10-21T21:51:28.476Z"
   },
   {
    "duration": 13,
    "start_time": "2025-10-21T21:51:57.125Z"
   },
   {
    "duration": 4785,
    "start_time": "2025-10-21T21:52:05.625Z"
   },
   {
    "duration": 3627,
    "start_time": "2025-10-21T21:52:10.412Z"
   },
   {
    "duration": 4,
    "start_time": "2025-10-21T21:52:14.040Z"
   },
   {
    "duration": 4,
    "start_time": "2025-10-21T21:52:14.045Z"
   },
   {
    "duration": 9325,
    "start_time": "2025-10-21T21:52:14.051Z"
   },
   {
    "duration": 4,
    "start_time": "2025-10-21T21:52:23.377Z"
   },
   {
    "duration": 5757,
    "start_time": "2025-10-21T21:52:23.382Z"
   },
   {
    "duration": 28,
    "start_time": "2025-10-21T21:52:29.140Z"
   },
   {
    "duration": 254,
    "start_time": "2025-10-21T21:52:29.169Z"
   },
   {
    "duration": 70,
    "start_time": "2025-10-21T21:52:29.425Z"
   },
   {
    "duration": 9,
    "start_time": "2025-10-21T21:52:29.496Z"
   },
   {
    "duration": 4,
    "start_time": "2025-10-21T21:52:29.507Z"
   },
   {
    "duration": 17,
    "start_time": "2025-10-21T21:52:29.513Z"
   },
   {
    "duration": 448,
    "start_time": "2025-10-21T21:52:29.534Z"
   },
   {
    "duration": 4,
    "start_time": "2025-10-21T21:52:29.984Z"
   },
   {
    "duration": 51,
    "start_time": "2025-10-21T21:52:29.990Z"
   },
   {
    "duration": 297,
    "start_time": "2025-10-21T21:52:30.043Z"
   },
   {
    "duration": 166,
    "start_time": "2025-10-21T21:52:30.342Z"
   },
   {
    "duration": 246,
    "start_time": "2025-10-21T21:52:30.510Z"
   },
   {
    "duration": 9,
    "start_time": "2025-10-21T21:52:30.757Z"
   },
   {
    "duration": 5,
    "start_time": "2025-10-21T21:52:30.767Z"
   },
   {
    "duration": 3685,
    "start_time": "2025-10-21T21:52:30.773Z"
   },
   {
    "duration": 18,
    "start_time": "2025-10-21T21:52:34.460Z"
   },
   {
    "duration": 262,
    "start_time": "2025-10-21T21:52:34.479Z"
   },
   {
    "duration": 368,
    "start_time": "2025-10-21T21:52:34.743Z"
   },
   {
    "duration": 342,
    "start_time": "2025-10-21T21:52:35.113Z"
   },
   {
    "duration": 13,
    "start_time": "2025-10-21T21:52:35.457Z"
   },
   {
    "duration": 228,
    "start_time": "2025-10-21T21:52:35.471Z"
   },
   {
    "duration": 298,
    "start_time": "2025-10-21T21:52:35.700Z"
   },
   {
    "duration": 308,
    "start_time": "2025-10-21T21:52:36.000Z"
   },
   {
    "duration": 11,
    "start_time": "2025-10-21T21:52:36.310Z"
   },
   {
    "duration": 101,
    "start_time": "2025-10-21T21:52:36.323Z"
   },
   {
    "duration": 3,
    "start_time": "2025-10-21T21:52:36.426Z"
   },
   {
    "duration": 251,
    "start_time": "2025-10-21T21:52:36.431Z"
   },
   {
    "duration": 148,
    "start_time": "2025-10-21T21:52:36.684Z"
   },
   {
    "duration": 857,
    "start_time": "2025-10-21T21:52:36.834Z"
   },
   {
    "duration": 48,
    "start_time": "2025-10-21T21:52:37.693Z"
   },
   {
    "duration": 219,
    "start_time": "2025-10-21T21:52:37.743Z"
   },
   {
    "duration": 8,
    "start_time": "2025-10-21T21:52:37.963Z"
   },
   {
    "duration": 13,
    "start_time": "2025-10-21T21:52:37.972Z"
   },
   {
    "duration": 27,
    "start_time": "2025-10-21T21:52:37.988Z"
   },
   {
    "duration": 4,
    "start_time": "2025-10-21T21:52:38.016Z"
   },
   {
    "duration": 6,
    "start_time": "2025-10-21T21:52:38.021Z"
   },
   {
    "duration": 4,
    "start_time": "2025-10-21T21:52:38.028Z"
   },
   {
    "duration": 25,
    "start_time": "2025-10-21T21:52:38.033Z"
   },
   {
    "duration": 9,
    "start_time": "2025-10-21T21:52:38.060Z"
   },
   {
    "duration": 45,
    "start_time": "2025-10-21T21:52:38.071Z"
   },
   {
    "duration": 18,
    "start_time": "2025-10-21T21:52:38.117Z"
   },
   {
    "duration": 269,
    "start_time": "2025-10-21T21:53:05.680Z"
   },
   {
    "duration": 4,
    "start_time": "2025-10-21T21:53:08.144Z"
   },
   {
    "duration": 4845,
    "start_time": "2025-10-21T21:53:20.907Z"
   },
   {
    "duration": 3695,
    "start_time": "2025-10-21T21:53:25.754Z"
   },
   {
    "duration": 4,
    "start_time": "2025-10-21T21:53:29.450Z"
   },
   {
    "duration": 35,
    "start_time": "2025-10-21T21:53:29.455Z"
   },
   {
    "duration": 9070,
    "start_time": "2025-10-21T21:53:29.492Z"
   },
   {
    "duration": 3,
    "start_time": "2025-10-21T21:53:38.563Z"
   },
   {
    "duration": 5038,
    "start_time": "2025-10-21T21:53:38.568Z"
   },
   {
    "duration": 27,
    "start_time": "2025-10-21T21:53:43.607Z"
   },
   {
    "duration": 258,
    "start_time": "2025-10-21T21:53:43.636Z"
   },
   {
    "duration": 52,
    "start_time": "2025-10-21T21:53:43.896Z"
   },
   {
    "duration": 8,
    "start_time": "2025-10-21T21:53:43.950Z"
   },
   {
    "duration": 3,
    "start_time": "2025-10-21T21:53:43.959Z"
   },
   {
    "duration": 6,
    "start_time": "2025-10-21T21:53:43.963Z"
   },
   {
    "duration": 435,
    "start_time": "2025-10-21T21:53:43.972Z"
   },
   {
    "duration": 4,
    "start_time": "2025-10-21T21:53:44.408Z"
   },
   {
    "duration": 41,
    "start_time": "2025-10-21T21:53:44.413Z"
   },
   {
    "duration": 288,
    "start_time": "2025-10-21T21:53:44.455Z"
   },
   {
    "duration": 164,
    "start_time": "2025-10-21T21:53:44.744Z"
   },
   {
    "duration": 249,
    "start_time": "2025-10-21T21:53:44.909Z"
   },
   {
    "duration": 9,
    "start_time": "2025-10-21T21:53:45.159Z"
   },
   {
    "duration": 14,
    "start_time": "2025-10-21T21:53:45.169Z"
   },
   {
    "duration": 3841,
    "start_time": "2025-10-21T21:53:45.185Z"
   },
   {
    "duration": 18,
    "start_time": "2025-10-21T21:53:49.028Z"
   },
   {
    "duration": 263,
    "start_time": "2025-10-21T21:53:49.047Z"
   },
   {
    "duration": 361,
    "start_time": "2025-10-21T21:53:49.311Z"
   },
   {
    "duration": 360,
    "start_time": "2025-10-21T21:53:49.674Z"
   },
   {
    "duration": 14,
    "start_time": "2025-10-21T21:53:50.036Z"
   },
   {
    "duration": 230,
    "start_time": "2025-10-21T21:53:50.051Z"
   },
   {
    "duration": 307,
    "start_time": "2025-10-21T21:53:50.283Z"
   },
   {
    "duration": 313,
    "start_time": "2025-10-21T21:53:50.592Z"
   },
   {
    "duration": 12,
    "start_time": "2025-10-21T21:53:50.906Z"
   },
   {
    "duration": 290,
    "start_time": "2025-10-21T21:53:50.919Z"
   },
   {
    "duration": 3,
    "start_time": "2025-10-21T21:53:51.211Z"
   },
   {
    "duration": 309,
    "start_time": "2025-10-21T21:53:51.215Z"
   },
   {
    "duration": 152,
    "start_time": "2025-10-21T21:53:51.526Z"
   },
   {
    "duration": 847,
    "start_time": "2025-10-21T21:53:51.680Z"
   },
   {
    "duration": 43,
    "start_time": "2025-10-21T21:53:52.529Z"
   },
   {
    "duration": 232,
    "start_time": "2025-10-21T21:53:52.573Z"
   },
   {
    "duration": 8,
    "start_time": "2025-10-21T21:53:52.806Z"
   },
   {
    "duration": 12,
    "start_time": "2025-10-21T21:53:52.816Z"
   },
   {
    "duration": 13,
    "start_time": "2025-10-21T21:53:52.832Z"
   },
   {
    "duration": 5,
    "start_time": "2025-10-21T21:53:52.847Z"
   },
   {
    "duration": 6,
    "start_time": "2025-10-21T21:53:52.853Z"
   },
   {
    "duration": 4,
    "start_time": "2025-10-21T21:53:52.860Z"
   },
   {
    "duration": 61,
    "start_time": "2025-10-21T21:53:52.865Z"
   },
   {
    "duration": 51,
    "start_time": "2025-10-21T21:53:52.928Z"
   },
   {
    "duration": 12,
    "start_time": "2025-10-21T21:53:52.981Z"
   },
   {
    "duration": 17,
    "start_time": "2025-10-21T21:53:52.995Z"
   },
   {
    "duration": 4774,
    "start_time": "2025-10-21T21:54:22.664Z"
   },
   {
    "duration": 3655,
    "start_time": "2025-10-21T21:54:27.441Z"
   },
   {
    "duration": 3,
    "start_time": "2025-10-21T21:54:31.097Z"
   },
   {
    "duration": 4,
    "start_time": "2025-10-21T21:54:31.102Z"
   },
   {
    "duration": 9409,
    "start_time": "2025-10-21T21:54:31.107Z"
   },
   {
    "duration": 3,
    "start_time": "2025-10-21T21:54:40.517Z"
   },
   {
    "duration": 5589,
    "start_time": "2025-10-21T21:54:40.522Z"
   },
   {
    "duration": 26,
    "start_time": "2025-10-21T21:54:46.113Z"
   },
   {
    "duration": 251,
    "start_time": "2025-10-21T21:54:46.140Z"
   },
   {
    "duration": 51,
    "start_time": "2025-10-21T21:54:46.394Z"
   },
   {
    "duration": 9,
    "start_time": "2025-10-21T21:54:46.447Z"
   },
   {
    "duration": 4,
    "start_time": "2025-10-21T21:54:46.457Z"
   },
   {
    "duration": 10,
    "start_time": "2025-10-21T21:54:46.462Z"
   },
   {
    "duration": 469,
    "start_time": "2025-10-21T21:54:46.474Z"
   },
   {
    "duration": 4,
    "start_time": "2025-10-21T21:54:46.945Z"
   },
   {
    "duration": 55,
    "start_time": "2025-10-21T21:54:46.950Z"
   },
   {
    "duration": 293,
    "start_time": "2025-10-21T21:54:47.007Z"
   },
   {
    "duration": 169,
    "start_time": "2025-10-21T21:54:47.305Z"
   },
   {
    "duration": 265,
    "start_time": "2025-10-21T21:54:47.476Z"
   },
   {
    "duration": 9,
    "start_time": "2025-10-21T21:54:47.743Z"
   },
   {
    "duration": 6,
    "start_time": "2025-10-21T21:54:47.754Z"
   },
   {
    "duration": 3784,
    "start_time": "2025-10-21T21:54:47.761Z"
   },
   {
    "duration": 21,
    "start_time": "2025-10-21T21:54:51.547Z"
   },
   {
    "duration": 260,
    "start_time": "2025-10-21T21:54:51.570Z"
   },
   {
    "duration": 347,
    "start_time": "2025-10-21T21:54:51.832Z"
   },
   {
    "duration": 363,
    "start_time": "2025-10-21T21:54:52.180Z"
   },
   {
    "duration": 13,
    "start_time": "2025-10-21T21:54:52.545Z"
   },
   {
    "duration": 226,
    "start_time": "2025-10-21T21:54:52.561Z"
   },
   {
    "duration": 314,
    "start_time": "2025-10-21T21:54:52.788Z"
   },
   {
    "duration": 311,
    "start_time": "2025-10-21T21:54:53.104Z"
   },
   {
    "duration": 11,
    "start_time": "2025-10-21T21:54:53.416Z"
   },
   {
    "duration": 102,
    "start_time": "2025-10-21T21:54:53.428Z"
   },
   {
    "duration": 4,
    "start_time": "2025-10-21T21:54:53.532Z"
   },
   {
    "duration": 255,
    "start_time": "2025-10-21T21:54:53.537Z"
   },
   {
    "duration": 153,
    "start_time": "2025-10-21T21:54:53.793Z"
   },
   {
    "duration": 852,
    "start_time": "2025-10-21T21:54:53.948Z"
   },
   {
    "duration": 46,
    "start_time": "2025-10-21T21:54:54.804Z"
   },
   {
    "duration": 221,
    "start_time": "2025-10-21T21:54:54.851Z"
   },
   {
    "duration": 8,
    "start_time": "2025-10-21T21:54:55.074Z"
   },
   {
    "duration": 23,
    "start_time": "2025-10-21T21:54:55.083Z"
   },
   {
    "duration": 15,
    "start_time": "2025-10-21T21:54:55.108Z"
   },
   {
    "duration": 4,
    "start_time": "2025-10-21T21:54:55.124Z"
   },
   {
    "duration": 7,
    "start_time": "2025-10-21T21:54:55.129Z"
   },
   {
    "duration": 4,
    "start_time": "2025-10-21T21:54:55.137Z"
   },
   {
    "duration": 27,
    "start_time": "2025-10-21T21:54:55.142Z"
   },
   {
    "duration": 35,
    "start_time": "2025-10-21T21:54:55.171Z"
   },
   {
    "duration": 81,
    "start_time": "2025-10-21T21:54:55.208Z"
   },
   {
    "duration": 18,
    "start_time": "2025-10-21T21:54:55.290Z"
   },
   {
    "duration": 3,
    "start_time": "2025-10-21T21:55:36.636Z"
   },
   {
    "duration": 14,
    "start_time": "2025-10-21T21:56:57.978Z"
   },
   {
    "duration": 13,
    "start_time": "2025-10-21T21:57:24.906Z"
   },
   {
    "duration": 14,
    "start_time": "2025-10-21T21:57:51.215Z"
   },
   {
    "duration": 14,
    "start_time": "2025-10-21T21:57:56.827Z"
   },
   {
    "duration": 18,
    "start_time": "2025-10-21T21:58:08.194Z"
   },
   {
    "duration": 8,
    "start_time": "2025-10-21T21:58:10.776Z"
   },
   {
    "duration": 13,
    "start_time": "2025-10-21T21:58:16.955Z"
   },
   {
    "duration": 18,
    "start_time": "2025-10-21T21:58:19.624Z"
   },
   {
    "duration": 4715,
    "start_time": "2025-10-21T21:58:25.209Z"
   },
   {
    "duration": 3651,
    "start_time": "2025-10-21T21:58:29.926Z"
   },
   {
    "duration": 3,
    "start_time": "2025-10-21T21:58:33.578Z"
   },
   {
    "duration": 4,
    "start_time": "2025-10-21T21:58:33.583Z"
   },
   {
    "duration": 9094,
    "start_time": "2025-10-21T21:58:33.588Z"
   },
   {
    "duration": 3,
    "start_time": "2025-10-21T21:58:42.683Z"
   },
   {
    "duration": 4829,
    "start_time": "2025-10-21T21:58:42.687Z"
   },
   {
    "duration": 27,
    "start_time": "2025-10-21T21:58:47.518Z"
   },
   {
    "duration": 260,
    "start_time": "2025-10-21T21:58:47.547Z"
   },
   {
    "duration": 49,
    "start_time": "2025-10-21T21:58:47.811Z"
   },
   {
    "duration": 8,
    "start_time": "2025-10-21T21:58:47.861Z"
   },
   {
    "duration": 3,
    "start_time": "2025-10-21T21:58:47.871Z"
   },
   {
    "duration": 4,
    "start_time": "2025-10-21T21:58:47.875Z"
   },
   {
    "duration": 447,
    "start_time": "2025-10-21T21:58:47.881Z"
   },
   {
    "duration": 4,
    "start_time": "2025-10-21T21:58:48.330Z"
   },
   {
    "duration": 40,
    "start_time": "2025-10-21T21:58:48.335Z"
   },
   {
    "duration": 301,
    "start_time": "2025-10-21T21:58:48.377Z"
   },
   {
    "duration": 168,
    "start_time": "2025-10-21T21:58:48.680Z"
   },
   {
    "duration": 249,
    "start_time": "2025-10-21T21:58:48.849Z"
   },
   {
    "duration": 12,
    "start_time": "2025-10-21T21:58:49.100Z"
   },
   {
    "duration": 5,
    "start_time": "2025-10-21T21:58:49.113Z"
   },
   {
    "duration": 3695,
    "start_time": "2025-10-21T21:58:49.119Z"
   },
   {
    "duration": 20,
    "start_time": "2025-10-21T21:58:52.815Z"
   },
   {
    "duration": 269,
    "start_time": "2025-10-21T21:58:52.836Z"
   },
   {
    "duration": 374,
    "start_time": "2025-10-21T21:58:53.107Z"
   },
   {
    "duration": 360,
    "start_time": "2025-10-21T21:58:53.483Z"
   },
   {
    "duration": 13,
    "start_time": "2025-10-21T21:58:53.845Z"
   },
   {
    "duration": 219,
    "start_time": "2025-10-21T21:58:53.861Z"
   },
   {
    "duration": 330,
    "start_time": "2025-10-21T21:58:54.081Z"
   },
   {
    "duration": 314,
    "start_time": "2025-10-21T21:58:54.413Z"
   },
   {
    "duration": 12,
    "start_time": "2025-10-21T21:58:54.729Z"
   },
   {
    "duration": 109,
    "start_time": "2025-10-21T21:58:54.743Z"
   },
   {
    "duration": 4,
    "start_time": "2025-10-21T21:58:54.853Z"
   },
   {
    "duration": 253,
    "start_time": "2025-10-21T21:58:54.859Z"
   },
   {
    "duration": 151,
    "start_time": "2025-10-21T21:58:55.113Z"
   },
   {
    "duration": 843,
    "start_time": "2025-10-21T21:58:55.266Z"
   },
   {
    "duration": 43,
    "start_time": "2025-10-21T21:58:56.110Z"
   },
   {
    "duration": 232,
    "start_time": "2025-10-21T21:58:56.155Z"
   },
   {
    "duration": 17,
    "start_time": "2025-10-21T21:58:56.389Z"
   },
   {
    "duration": 14,
    "start_time": "2025-10-21T21:58:56.407Z"
   },
   {
    "duration": 14,
    "start_time": "2025-10-21T21:58:56.423Z"
   },
   {
    "duration": 4,
    "start_time": "2025-10-21T21:58:56.439Z"
   },
   {
    "duration": 4,
    "start_time": "2025-10-21T21:58:56.445Z"
   },
   {
    "duration": 4,
    "start_time": "2025-10-21T21:58:56.451Z"
   },
   {
    "duration": 63,
    "start_time": "2025-10-21T21:58:56.456Z"
   },
   {
    "duration": 8,
    "start_time": "2025-10-21T21:58:56.521Z"
   },
   {
    "duration": 10,
    "start_time": "2025-10-21T21:58:56.530Z"
   },
   {
    "duration": 16,
    "start_time": "2025-10-21T21:58:56.541Z"
   },
   {
    "duration": 146,
    "start_time": "2025-10-21T22:00:52.266Z"
   },
   {
    "duration": 3,
    "start_time": "2025-10-21T22:00:54.007Z"
   },
   {
    "duration": 4721,
    "start_time": "2025-10-21T22:01:35.053Z"
   },
   {
    "duration": 3628,
    "start_time": "2025-10-21T22:01:39.776Z"
   },
   {
    "duration": 3,
    "start_time": "2025-10-21T22:01:43.406Z"
   },
   {
    "duration": 6,
    "start_time": "2025-10-21T22:01:43.411Z"
   },
   {
    "duration": 9053,
    "start_time": "2025-10-21T22:01:43.419Z"
   },
   {
    "duration": 4,
    "start_time": "2025-10-21T22:01:52.473Z"
   },
   {
    "duration": 5395,
    "start_time": "2025-10-21T22:01:52.478Z"
   },
   {
    "duration": 34,
    "start_time": "2025-10-21T22:01:57.875Z"
   },
   {
    "duration": 247,
    "start_time": "2025-10-21T22:01:57.911Z"
   },
   {
    "duration": 55,
    "start_time": "2025-10-21T22:01:58.161Z"
   },
   {
    "duration": 8,
    "start_time": "2025-10-21T22:01:58.217Z"
   },
   {
    "duration": 3,
    "start_time": "2025-10-21T22:01:58.227Z"
   },
   {
    "duration": 5,
    "start_time": "2025-10-21T22:01:58.231Z"
   },
   {
    "duration": 445,
    "start_time": "2025-10-21T22:01:58.237Z"
   },
   {
    "duration": 4,
    "start_time": "2025-10-21T22:01:58.684Z"
   },
   {
    "duration": 53,
    "start_time": "2025-10-21T22:01:58.689Z"
   },
   {
    "duration": 270,
    "start_time": "2025-10-21T22:01:58.743Z"
   },
   {
    "duration": 165,
    "start_time": "2025-10-21T22:01:59.015Z"
   },
   {
    "duration": 255,
    "start_time": "2025-10-21T22:01:59.181Z"
   },
   {
    "duration": 9,
    "start_time": "2025-10-21T22:01:59.438Z"
   },
   {
    "duration": 56,
    "start_time": "2025-10-21T22:01:59.449Z"
   },
   {
    "duration": 3884,
    "start_time": "2025-10-21T22:01:59.507Z"
   },
   {
    "duration": 27,
    "start_time": "2025-10-21T22:02:03.393Z"
   },
   {
    "duration": 264,
    "start_time": "2025-10-21T22:02:03.422Z"
   },
   {
    "duration": 375,
    "start_time": "2025-10-21T22:02:03.688Z"
   },
   {
    "duration": 358,
    "start_time": "2025-10-21T22:02:04.065Z"
   },
   {
    "duration": 13,
    "start_time": "2025-10-21T22:02:04.425Z"
   },
   {
    "duration": 219,
    "start_time": "2025-10-21T22:02:04.441Z"
   },
   {
    "duration": 315,
    "start_time": "2025-10-21T22:02:04.661Z"
   },
   {
    "duration": 306,
    "start_time": "2025-10-21T22:02:04.977Z"
   },
   {
    "duration": 21,
    "start_time": "2025-10-21T22:02:05.284Z"
   },
   {
    "duration": 95,
    "start_time": "2025-10-21T22:02:05.306Z"
   },
   {
    "duration": 3,
    "start_time": "2025-10-21T22:02:05.402Z"
   },
   {
    "duration": 242,
    "start_time": "2025-10-21T22:02:05.407Z"
   },
   {
    "duration": 152,
    "start_time": "2025-10-21T22:02:05.650Z"
   },
   {
    "duration": 863,
    "start_time": "2025-10-21T22:02:05.804Z"
   },
   {
    "duration": 51,
    "start_time": "2025-10-21T22:02:06.668Z"
   },
   {
    "duration": 219,
    "start_time": "2025-10-21T22:02:06.721Z"
   },
   {
    "duration": 8,
    "start_time": "2025-10-21T22:02:06.942Z"
   },
   {
    "duration": 77,
    "start_time": "2025-10-21T22:02:06.952Z"
   },
   {
    "duration": 14,
    "start_time": "2025-10-21T22:02:07.031Z"
   },
   {
    "duration": 4,
    "start_time": "2025-10-21T22:02:07.046Z"
   },
   {
    "duration": 4,
    "start_time": "2025-10-21T22:02:07.052Z"
   },
   {
    "duration": 5,
    "start_time": "2025-10-21T22:02:07.058Z"
   },
   {
    "duration": 43,
    "start_time": "2025-10-21T22:02:07.064Z"
   },
   {
    "duration": 8,
    "start_time": "2025-10-21T22:02:07.109Z"
   },
   {
    "duration": 12,
    "start_time": "2025-10-21T22:02:07.118Z"
   },
   {
    "duration": 17,
    "start_time": "2025-10-21T22:02:07.131Z"
   },
   {
    "duration": 9,
    "start_time": "2025-10-21T22:04:26.884Z"
   },
   {
    "duration": 12,
    "start_time": "2025-10-21T22:04:29.884Z"
   },
   {
    "duration": 9,
    "start_time": "2025-10-21T22:04:44.464Z"
   },
   {
    "duration": 11,
    "start_time": "2025-10-21T22:04:51.544Z"
   },
   {
    "duration": 10,
    "start_time": "2025-10-21T22:05:00.544Z"
   },
   {
    "duration": 11,
    "start_time": "2025-10-21T22:05:10.445Z"
   },
   {
    "duration": 17,
    "start_time": "2025-10-21T22:05:14.793Z"
   },
   {
    "duration": 11,
    "start_time": "2025-10-21T22:05:42.815Z"
   },
   {
    "duration": 4727,
    "start_time": "2025-10-21T22:07:36.632Z"
   },
   {
    "duration": 3681,
    "start_time": "2025-10-21T22:07:41.361Z"
   },
   {
    "duration": 3,
    "start_time": "2025-10-21T22:07:45.044Z"
   },
   {
    "duration": 17,
    "start_time": "2025-10-21T22:07:45.049Z"
   },
   {
    "duration": 10544,
    "start_time": "2025-10-21T22:07:45.068Z"
   },
   {
    "duration": 4,
    "start_time": "2025-10-21T22:07:55.613Z"
   },
   {
    "duration": 4726,
    "start_time": "2025-10-21T22:07:55.618Z"
   },
   {
    "duration": 29,
    "start_time": "2025-10-21T22:08:00.346Z"
   },
   {
    "duration": 262,
    "start_time": "2025-10-21T22:08:00.377Z"
   },
   {
    "duration": 43,
    "start_time": "2025-10-21T22:08:00.641Z"
   },
   {
    "duration": 8,
    "start_time": "2025-10-21T22:08:00.686Z"
   },
   {
    "duration": 61,
    "start_time": "2025-10-21T22:08:00.696Z"
   },
   {
    "duration": 17,
    "start_time": "2025-10-21T22:08:00.758Z"
   },
   {
    "duration": 472,
    "start_time": "2025-10-21T22:08:00.779Z"
   },
   {
    "duration": 4,
    "start_time": "2025-10-21T22:08:01.253Z"
   },
   {
    "duration": 111,
    "start_time": "2025-10-21T22:08:01.258Z"
   },
   {
    "duration": 281,
    "start_time": "2025-10-21T22:08:01.371Z"
   },
   {
    "duration": 172,
    "start_time": "2025-10-21T22:08:01.654Z"
   },
   {
    "duration": 260,
    "start_time": "2025-10-21T22:08:01.828Z"
   },
   {
    "duration": 15,
    "start_time": "2025-10-21T22:08:02.090Z"
   },
   {
    "duration": 5,
    "start_time": "2025-10-21T22:08:02.106Z"
   },
   {
    "duration": 3709,
    "start_time": "2025-10-21T22:08:02.112Z"
   },
   {
    "duration": 18,
    "start_time": "2025-10-21T22:08:05.823Z"
   },
   {
    "duration": 267,
    "start_time": "2025-10-21T22:08:05.843Z"
   },
   {
    "duration": 374,
    "start_time": "2025-10-21T22:08:06.112Z"
   },
   {
    "duration": 341,
    "start_time": "2025-10-21T22:08:06.487Z"
   },
   {
    "duration": 13,
    "start_time": "2025-10-21T22:08:06.829Z"
   },
   {
    "duration": 217,
    "start_time": "2025-10-21T22:08:06.844Z"
   },
   {
    "duration": 316,
    "start_time": "2025-10-21T22:08:07.063Z"
   },
   {
    "duration": 326,
    "start_time": "2025-10-21T22:08:07.381Z"
   },
   {
    "duration": 11,
    "start_time": "2025-10-21T22:08:07.708Z"
   },
   {
    "duration": 97,
    "start_time": "2025-10-21T22:08:07.721Z"
   },
   {
    "duration": 4,
    "start_time": "2025-10-21T22:08:07.819Z"
   },
   {
    "duration": 244,
    "start_time": "2025-10-21T22:08:07.824Z"
   },
   {
    "duration": 169,
    "start_time": "2025-10-21T22:08:08.069Z"
   },
   {
    "duration": 839,
    "start_time": "2025-10-21T22:08:08.240Z"
   },
   {
    "duration": 57,
    "start_time": "2025-10-21T22:08:09.081Z"
   },
   {
    "duration": 218,
    "start_time": "2025-10-21T22:08:09.140Z"
   },
   {
    "duration": 7,
    "start_time": "2025-10-21T22:08:09.360Z"
   },
   {
    "duration": 16,
    "start_time": "2025-10-21T22:08:09.369Z"
   },
   {
    "duration": 27,
    "start_time": "2025-10-21T22:08:09.388Z"
   },
   {
    "duration": 4,
    "start_time": "2025-10-21T22:08:09.416Z"
   },
   {
    "duration": 3,
    "start_time": "2025-10-21T22:08:09.422Z"
   },
   {
    "duration": 4,
    "start_time": "2025-10-21T22:08:09.427Z"
   },
   {
    "duration": 27,
    "start_time": "2025-10-21T22:08:09.432Z"
   },
   {
    "duration": 44,
    "start_time": "2025-10-21T22:08:09.461Z"
   },
   {
    "duration": 54,
    "start_time": "2025-10-21T22:08:09.507Z"
   },
   {
    "duration": 17,
    "start_time": "2025-10-21T22:08:09.562Z"
   },
   {
    "duration": 11,
    "start_time": "2025-10-21T22:08:18.335Z"
   },
   {
    "duration": 13,
    "start_time": "2025-10-21T22:10:52.086Z"
   },
   {
    "duration": 17,
    "start_time": "2025-10-21T22:10:55.177Z"
   },
   {
    "duration": 50,
    "start_time": "2025-10-22T07:01:56.449Z"
   },
   {
    "duration": 5146,
    "start_time": "2025-10-22T07:02:46.869Z"
   },
   {
    "duration": 4464,
    "start_time": "2025-10-22T07:02:52.017Z"
   },
   {
    "duration": 3,
    "start_time": "2025-10-22T07:02:56.484Z"
   },
   {
    "duration": 6,
    "start_time": "2025-10-22T07:02:56.489Z"
   },
   {
    "duration": 9775,
    "start_time": "2025-10-22T07:02:56.496Z"
   },
   {
    "duration": 3,
    "start_time": "2025-10-22T07:03:06.273Z"
   },
   {
    "duration": 4375,
    "start_time": "2025-10-22T07:03:06.277Z"
   },
   {
    "duration": 26,
    "start_time": "2025-10-22T07:03:10.653Z"
   },
   {
    "duration": 249,
    "start_time": "2025-10-22T07:03:10.680Z"
   },
   {
    "duration": 38,
    "start_time": "2025-10-22T07:03:10.931Z"
   },
   {
    "duration": 39,
    "start_time": "2025-10-22T07:03:10.970Z"
   },
   {
    "duration": 16,
    "start_time": "2025-10-22T07:03:11.010Z"
   },
   {
    "duration": 5,
    "start_time": "2025-10-22T07:03:11.028Z"
   },
   {
    "duration": 429,
    "start_time": "2025-10-22T07:03:11.035Z"
   },
   {
    "duration": 4,
    "start_time": "2025-10-22T07:03:11.466Z"
   },
   {
    "duration": 47,
    "start_time": "2025-10-22T07:03:11.471Z"
   },
   {
    "duration": 268,
    "start_time": "2025-10-22T07:03:11.519Z"
   },
   {
    "duration": 159,
    "start_time": "2025-10-22T07:03:11.788Z"
   },
   {
    "duration": 236,
    "start_time": "2025-10-22T07:03:11.949Z"
   },
   {
    "duration": 18,
    "start_time": "2025-10-22T07:03:12.187Z"
   },
   {
    "duration": 6,
    "start_time": "2025-10-22T07:03:12.206Z"
   },
   {
    "duration": 3740,
    "start_time": "2025-10-22T07:03:12.213Z"
   },
   {
    "duration": 20,
    "start_time": "2025-10-22T07:03:15.955Z"
   },
   {
    "duration": 274,
    "start_time": "2025-10-22T07:03:15.977Z"
   },
   {
    "duration": 371,
    "start_time": "2025-10-22T07:03:16.252Z"
   },
   {
    "duration": 352,
    "start_time": "2025-10-22T07:03:16.625Z"
   },
   {
    "duration": 12,
    "start_time": "2025-10-22T07:03:16.978Z"
   },
   {
    "duration": 222,
    "start_time": "2025-10-22T07:03:16.992Z"
   },
   {
    "duration": 316,
    "start_time": "2025-10-22T07:03:17.216Z"
   },
   {
    "duration": 327,
    "start_time": "2025-10-22T07:03:17.534Z"
   },
   {
    "duration": 11,
    "start_time": "2025-10-22T07:03:17.863Z"
   },
   {
    "duration": 95,
    "start_time": "2025-10-22T07:03:17.875Z"
   },
   {
    "duration": 3,
    "start_time": "2025-10-22T07:03:17.972Z"
   },
   {
    "duration": 249,
    "start_time": "2025-10-22T07:03:17.977Z"
   },
   {
    "duration": 154,
    "start_time": "2025-10-22T07:03:18.227Z"
   },
   {
    "duration": 828,
    "start_time": "2025-10-22T07:03:18.383Z"
   },
   {
    "duration": 48,
    "start_time": "2025-10-22T07:03:19.213Z"
   },
   {
    "duration": 218,
    "start_time": "2025-10-22T07:03:19.263Z"
   },
   {
    "duration": 7,
    "start_time": "2025-10-22T07:03:19.483Z"
   },
   {
    "duration": 23,
    "start_time": "2025-10-22T07:03:19.491Z"
   },
   {
    "duration": 13,
    "start_time": "2025-10-22T07:03:19.518Z"
   },
   {
    "duration": 3,
    "start_time": "2025-10-22T07:03:19.533Z"
   },
   {
    "duration": 4,
    "start_time": "2025-10-22T07:03:19.538Z"
   },
   {
    "duration": 5,
    "start_time": "2025-10-22T07:03:19.544Z"
   },
   {
    "duration": 27,
    "start_time": "2025-10-22T07:03:19.550Z"
   },
   {
    "duration": 9,
    "start_time": "2025-10-22T07:03:19.606Z"
   },
   {
    "duration": 10,
    "start_time": "2025-10-22T07:03:19.617Z"
   },
   {
    "duration": 21,
    "start_time": "2025-10-22T07:03:19.629Z"
   },
   {
    "duration": 57,
    "start_time": "2025-10-22T07:03:19.651Z"
   },
   {
    "duration": 128,
    "start_time": "2025-10-22T07:06:24.157Z"
   },
   {
    "duration": 92,
    "start_time": "2025-10-22T07:06:36.519Z"
   },
   {
    "duration": 40,
    "start_time": "2025-10-22T07:09:10.778Z"
   },
   {
    "duration": 90,
    "start_time": "2025-10-22T07:09:46.952Z"
   },
   {
    "duration": 36,
    "start_time": "2025-10-22T07:09:59.288Z"
   },
   {
    "duration": 35,
    "start_time": "2025-10-22T07:11:55.530Z"
   },
   {
    "duration": 33,
    "start_time": "2025-10-22T07:48:45.660Z"
   },
   {
    "duration": 38,
    "start_time": "2025-10-22T07:52:15.149Z"
   },
   {
    "duration": 36,
    "start_time": "2025-10-22T07:57:04.080Z"
   },
   {
    "duration": 4693,
    "start_time": "2025-10-22T08:18:32.531Z"
   },
   {
    "duration": 3722,
    "start_time": "2025-10-22T08:18:37.227Z"
   },
   {
    "duration": 4,
    "start_time": "2025-10-22T08:18:40.950Z"
   },
   {
    "duration": 24,
    "start_time": "2025-10-22T08:18:40.955Z"
   },
   {
    "duration": 11141,
    "start_time": "2025-10-22T08:18:40.981Z"
   },
   {
    "duration": 3,
    "start_time": "2025-10-22T08:18:52.123Z"
   },
   {
    "duration": 4551,
    "start_time": "2025-10-22T08:18:52.128Z"
   },
   {
    "duration": 35,
    "start_time": "2025-10-22T08:18:56.680Z"
   },
   {
    "duration": 262,
    "start_time": "2025-10-22T08:18:56.716Z"
   },
   {
    "duration": 38,
    "start_time": "2025-10-22T08:18:56.980Z"
   },
   {
    "duration": 9,
    "start_time": "2025-10-22T08:18:57.019Z"
   },
   {
    "duration": 14,
    "start_time": "2025-10-22T08:18:57.029Z"
   },
   {
    "duration": 19,
    "start_time": "2025-10-22T08:18:57.044Z"
   },
   {
    "duration": 494,
    "start_time": "2025-10-22T08:18:57.065Z"
   },
   {
    "duration": 4,
    "start_time": "2025-10-22T08:18:57.561Z"
   },
   {
    "duration": 103,
    "start_time": "2025-10-22T08:18:57.567Z"
   },
   {
    "duration": 254,
    "start_time": "2025-10-22T08:18:57.672Z"
   },
   {
    "duration": 159,
    "start_time": "2025-10-22T08:18:57.927Z"
   },
   {
    "duration": 254,
    "start_time": "2025-10-22T08:18:58.087Z"
   },
   {
    "duration": 8,
    "start_time": "2025-10-22T08:18:58.343Z"
   },
   {
    "duration": 13,
    "start_time": "2025-10-22T08:18:58.352Z"
   },
   {
    "duration": 3826,
    "start_time": "2025-10-22T08:18:58.367Z"
   },
   {
    "duration": 26,
    "start_time": "2025-10-22T08:19:02.195Z"
   },
   {
    "duration": 261,
    "start_time": "2025-10-22T08:19:02.223Z"
   },
   {
    "duration": 393,
    "start_time": "2025-10-22T08:19:02.485Z"
   },
   {
    "duration": 373,
    "start_time": "2025-10-22T08:19:02.879Z"
   },
   {
    "duration": 14,
    "start_time": "2025-10-22T08:19:03.254Z"
   },
   {
    "duration": 300,
    "start_time": "2025-10-22T08:19:03.269Z"
   },
   {
    "duration": 298,
    "start_time": "2025-10-22T08:19:03.571Z"
   },
   {
    "duration": 304,
    "start_time": "2025-10-22T08:19:03.870Z"
   },
   {
    "duration": 11,
    "start_time": "2025-10-22T08:19:04.175Z"
   },
   {
    "duration": 93,
    "start_time": "2025-10-22T08:19:04.188Z"
   },
   {
    "duration": 3,
    "start_time": "2025-10-22T08:19:04.283Z"
   },
   {
    "duration": 244,
    "start_time": "2025-10-22T08:19:04.288Z"
   },
   {
    "duration": 150,
    "start_time": "2025-10-22T08:19:04.534Z"
   },
   {
    "duration": 823,
    "start_time": "2025-10-22T08:19:04.685Z"
   },
   {
    "duration": 52,
    "start_time": "2025-10-22T08:19:05.510Z"
   },
   {
    "duration": 252,
    "start_time": "2025-10-22T08:19:05.564Z"
   },
   {
    "duration": 7,
    "start_time": "2025-10-22T08:19:05.818Z"
   },
   {
    "duration": 30,
    "start_time": "2025-10-22T08:19:05.826Z"
   },
   {
    "duration": 48,
    "start_time": "2025-10-22T08:19:05.859Z"
   },
   {
    "duration": 8,
    "start_time": "2025-10-22T08:19:05.909Z"
   },
   {
    "duration": 18,
    "start_time": "2025-10-22T08:19:05.918Z"
   },
   {
    "duration": 40,
    "start_time": "2025-10-22T08:19:05.938Z"
   },
   {
    "duration": 39,
    "start_time": "2025-10-22T08:19:05.979Z"
   },
   {
    "duration": 38,
    "start_time": "2025-10-22T08:19:06.019Z"
   },
   {
    "duration": 34,
    "start_time": "2025-10-22T08:19:06.059Z"
   },
   {
    "duration": 23,
    "start_time": "2025-10-22T08:19:06.094Z"
   },
   {
    "duration": 35,
    "start_time": "2025-10-22T08:19:06.119Z"
   },
   {
    "duration": 29,
    "start_time": "2025-10-22T08:19:06.155Z"
   },
   {
    "duration": 55,
    "start_time": "2025-10-22T08:19:06.185Z"
   },
   {
    "duration": 37,
    "start_time": "2025-10-22T08:19:06.241Z"
   },
   {
    "duration": 101,
    "start_time": "2025-10-22T09:42:36.117Z"
   },
   {
    "duration": 141,
    "start_time": "2025-10-22T10:04:19.066Z"
   },
   {
    "duration": 1429,
    "start_time": "2025-10-22T10:04:35.322Z"
   },
   {
    "duration": 2164,
    "start_time": "2025-10-22T10:05:42.678Z"
   },
   {
    "duration": 1393,
    "start_time": "2025-10-22T10:06:17.195Z"
   },
   {
    "duration": 41,
    "start_time": "2025-10-22T10:06:51.132Z"
   },
   {
    "duration": 37,
    "start_time": "2025-10-22T10:07:09.383Z"
   },
   {
    "duration": 182,
    "start_time": "2025-10-22T10:10:18.419Z"
   },
   {
    "duration": 183,
    "start_time": "2025-10-22T10:13:31.896Z"
   },
   {
    "duration": 190,
    "start_time": "2025-10-22T10:13:43.274Z"
   },
   {
    "duration": 174,
    "start_time": "2025-10-22T10:13:56.046Z"
   },
   {
    "duration": 168,
    "start_time": "2025-10-22T10:14:26.829Z"
   },
   {
    "duration": 48,
    "start_time": "2025-10-22T10:15:07.709Z"
   },
   {
    "duration": 172,
    "start_time": "2025-10-22T10:15:44.877Z"
   },
   {
    "duration": 193,
    "start_time": "2025-10-22T10:17:58.005Z"
   },
   {
    "duration": 176,
    "start_time": "2025-10-22T10:18:08.512Z"
   },
   {
    "duration": 174,
    "start_time": "2025-10-22T10:18:15.352Z"
   },
   {
    "duration": 177,
    "start_time": "2025-10-22T10:18:21.874Z"
   },
   {
    "duration": 272,
    "start_time": "2025-10-22T10:19:10.942Z"
   },
   {
    "duration": 170,
    "start_time": "2025-10-22T10:20:42.844Z"
   },
   {
    "duration": 196,
    "start_time": "2025-10-22T10:21:07.492Z"
   },
   {
    "duration": 175,
    "start_time": "2025-10-22T10:21:18.494Z"
   },
   {
    "duration": 169,
    "start_time": "2025-10-22T10:21:29.338Z"
   },
   {
    "duration": 172,
    "start_time": "2025-10-22T10:23:52.699Z"
   },
   {
    "duration": 163,
    "start_time": "2025-10-22T10:25:09.713Z"
   },
   {
    "duration": 168,
    "start_time": "2025-10-22T10:25:16.556Z"
   },
   {
    "duration": 175,
    "start_time": "2025-10-22T10:25:22.998Z"
   },
   {
    "duration": 342,
    "start_time": "2025-10-22T10:27:29.748Z"
   },
   {
    "duration": 298,
    "start_time": "2025-10-22T10:27:41.756Z"
   },
   {
    "duration": 180,
    "start_time": "2025-10-22T10:47:27.547Z"
   },
   {
    "duration": 127,
    "start_time": "2025-10-22T10:49:46.121Z"
   },
   {
    "duration": 123,
    "start_time": "2025-10-22T10:49:52.689Z"
   },
   {
    "duration": 126,
    "start_time": "2025-10-22T10:50:07.329Z"
   },
   {
    "duration": 233,
    "start_time": "2025-10-22T10:50:33.524Z"
   },
   {
    "duration": 157,
    "start_time": "2025-10-22T10:57:11.953Z"
   },
   {
    "duration": 167,
    "start_time": "2025-10-22T10:57:35.563Z"
   },
   {
    "duration": 125,
    "start_time": "2025-10-22T10:57:59.622Z"
   },
   {
    "duration": 1807,
    "start_time": "2025-10-22T11:00:57.403Z"
   },
   {
    "duration": 347,
    "start_time": "2025-10-22T11:08:50.538Z"
   },
   {
    "duration": 215,
    "start_time": "2025-10-22T11:10:58.069Z"
   },
   {
    "duration": 222,
    "start_time": "2025-10-22T11:11:06.292Z"
   },
   {
    "duration": 217,
    "start_time": "2025-10-22T11:13:08.601Z"
   },
   {
    "duration": 234,
    "start_time": "2025-10-22T12:02:43.814Z"
   },
   {
    "duration": 13,
    "start_time": "2025-10-22T12:10:34.698Z"
   },
   {
    "duration": 389,
    "start_time": "2025-10-22T12:16:43.824Z"
   },
   {
    "duration": 192,
    "start_time": "2025-10-22T12:16:46.874Z"
   },
   {
    "duration": 12,
    "start_time": "2025-10-22T12:18:15.234Z"
   },
   {
    "duration": 108,
    "start_time": "2025-10-22T12:21:44.851Z"
   },
   {
    "duration": 98,
    "start_time": "2025-10-22T12:22:08.308Z"
   },
   {
    "duration": 12,
    "start_time": "2025-10-22T12:22:56.186Z"
   },
   {
    "duration": 14,
    "start_time": "2025-10-22T12:23:44.968Z"
   },
   {
    "duration": 5,
    "start_time": "2025-10-22T12:24:35.519Z"
   },
   {
    "duration": 1435,
    "start_time": "2025-10-22T12:25:02.908Z"
   },
   {
    "duration": 3,
    "start_time": "2025-10-22T12:25:12.538Z"
   },
   {
    "duration": 3,
    "start_time": "2025-10-22T12:25:17.848Z"
   },
   {
    "duration": 6,
    "start_time": "2025-10-22T12:25:24.151Z"
   },
   {
    "duration": 7,
    "start_time": "2025-10-22T12:28:56.280Z"
   },
   {
    "duration": 86,
    "start_time": "2025-10-22T12:53:03.233Z"
   },
   {
    "duration": 87,
    "start_time": "2025-10-22T12:53:29.127Z"
   },
   {
    "duration": 81,
    "start_time": "2025-10-22T12:53:37.944Z"
   },
   {
    "duration": 105,
    "start_time": "2025-10-22T12:53:47.545Z"
   },
   {
    "duration": 85,
    "start_time": "2025-10-22T12:53:53.635Z"
   },
   {
    "duration": 124,
    "start_time": "2025-10-22T12:54:00.240Z"
   },
   {
    "duration": 190,
    "start_time": "2025-10-22T12:54:06.893Z"
   },
   {
    "duration": 91,
    "start_time": "2025-10-22T12:54:11.454Z"
   },
   {
    "duration": 7,
    "start_time": "2025-10-22T13:05:59.857Z"
   },
   {
    "duration": 276,
    "start_time": "2025-10-22T13:07:58.027Z"
   },
   {
    "duration": 174,
    "start_time": "2025-10-22T13:09:36.849Z"
   },
   {
    "duration": 161,
    "start_time": "2025-10-22T13:12:10.571Z"
   },
   {
    "duration": 276,
    "start_time": "2025-10-22T13:12:53.619Z"
   },
   {
    "duration": 175,
    "start_time": "2025-10-22T13:13:30.611Z"
   },
   {
    "duration": 161,
    "start_time": "2025-10-22T13:17:58.480Z"
   },
   {
    "duration": 186,
    "start_time": "2025-10-22T13:18:22.301Z"
   },
   {
    "duration": 171,
    "start_time": "2025-10-22T13:18:38.589Z"
   },
   {
    "duration": 167,
    "start_time": "2025-10-22T13:18:55.869Z"
   },
   {
    "duration": 157,
    "start_time": "2025-10-22T13:19:40.063Z"
   },
   {
    "duration": 1434,
    "start_time": "2025-10-22T13:48:34.037Z"
   },
   {
    "duration": 331,
    "start_time": "2025-10-22T13:50:02.265Z"
   },
   {
    "duration": 284,
    "start_time": "2025-10-22T13:51:09.735Z"
   },
   {
    "duration": 136,
    "start_time": "2025-10-22T13:51:27.196Z"
   },
   {
    "duration": 420,
    "start_time": "2025-10-22T13:51:34.005Z"
   },
   {
    "duration": 107,
    "start_time": "2025-10-22T13:52:20.538Z"
   },
   {
    "duration": 129,
    "start_time": "2025-10-22T13:52:27.075Z"
   },
   {
    "duration": 317,
    "start_time": "2025-10-22T13:52:45.624Z"
   },
   {
    "duration": 340,
    "start_time": "2025-10-22T13:53:00.767Z"
   },
   {
    "duration": 369,
    "start_time": "2025-10-22T13:53:35.839Z"
   },
   {
    "duration": 511,
    "start_time": "2025-10-22T13:53:44.986Z"
   },
   {
    "duration": 351,
    "start_time": "2025-10-22T13:53:51.379Z"
   },
   {
    "duration": 319,
    "start_time": "2025-10-22T13:53:58.698Z"
   },
   {
    "duration": 268,
    "start_time": "2025-10-22T13:54:37.636Z"
   },
   {
    "duration": 257,
    "start_time": "2025-10-22T13:59:28.670Z"
   },
   {
    "duration": 1366,
    "start_time": "2025-10-22T14:02:44.301Z"
   },
   {
    "duration": 438,
    "start_time": "2025-10-22T14:02:56.841Z"
   },
   {
    "duration": 382,
    "start_time": "2025-10-22T14:06:19.104Z"
   },
   {
    "duration": 413,
    "start_time": "2025-10-22T14:06:52.945Z"
   },
   {
    "duration": 385,
    "start_time": "2025-10-22T14:07:04.107Z"
   },
   {
    "duration": 533,
    "start_time": "2025-10-22T14:07:14.334Z"
   },
   {
    "duration": 397,
    "start_time": "2025-10-22T14:07:24.173Z"
   },
   {
    "duration": 436,
    "start_time": "2025-10-22T14:07:32.247Z"
   },
   {
    "duration": 396,
    "start_time": "2025-10-22T14:08:06.713Z"
   },
   {
    "duration": 413,
    "start_time": "2025-10-22T14:08:19.044Z"
   },
   {
    "duration": 431,
    "start_time": "2025-10-22T14:08:24.508Z"
   },
   {
    "duration": 541,
    "start_time": "2025-10-22T14:08:42.624Z"
   },
   {
    "duration": 431,
    "start_time": "2025-10-22T14:08:50.754Z"
   },
   {
    "duration": 390,
    "start_time": "2025-10-22T14:09:03.384Z"
   },
   {
    "duration": 227,
    "start_time": "2025-10-22T14:09:15.653Z"
   },
   {
    "duration": 215,
    "start_time": "2025-10-22T14:09:19.285Z"
   },
   {
    "duration": 400,
    "start_time": "2025-10-22T14:09:21.984Z"
   },
   {
    "duration": 253,
    "start_time": "2025-10-22T14:09:27.475Z"
   },
   {
    "duration": 350,
    "start_time": "2025-10-22T14:09:30.894Z"
   },
   {
    "duration": 224,
    "start_time": "2025-10-22T14:09:34.734Z"
   },
   {
    "duration": 426,
    "start_time": "2025-10-22T14:09:42.236Z"
   },
   {
    "duration": 424,
    "start_time": "2025-10-22T14:10:24.444Z"
   },
   {
    "duration": 400,
    "start_time": "2025-10-22T14:11:31.257Z"
   },
   {
    "duration": 1403,
    "start_time": "2025-10-22T14:31:12.310Z"
   },
   {
    "duration": 458,
    "start_time": "2025-10-22T14:31:28.240Z"
   },
   {
    "duration": 454,
    "start_time": "2025-10-22T14:31:37.238Z"
   },
   {
    "duration": 544,
    "start_time": "2025-10-22T14:31:47.859Z"
   },
   {
    "duration": 431,
    "start_time": "2025-10-22T14:32:18.039Z"
   },
   {
    "duration": 430,
    "start_time": "2025-10-22T14:32:30.850Z"
   },
   {
    "duration": 433,
    "start_time": "2025-10-22T14:34:25.213Z"
   },
   {
    "duration": 427,
    "start_time": "2025-10-22T14:34:54.070Z"
   },
   {
    "duration": 434,
    "start_time": "2025-10-22T14:37:20.144Z"
   },
   {
    "duration": 507,
    "start_time": "2025-10-22T14:41:41.684Z"
   },
   {
    "duration": 1259,
    "start_time": "2025-10-22T15:53:51.431Z"
   },
   {
    "duration": 154,
    "start_time": "2025-10-22T15:54:24.909Z"
   },
   {
    "duration": 153,
    "start_time": "2025-10-22T15:55:05.019Z"
   },
   {
    "duration": 156,
    "start_time": "2025-10-22T15:59:12.881Z"
   },
   {
    "duration": 22,
    "start_time": "2025-10-22T16:06:10.215Z"
   },
   {
    "duration": 17,
    "start_time": "2025-10-22T16:06:57.555Z"
   },
   {
    "duration": 5186,
    "start_time": "2025-10-22T16:07:11.100Z"
   },
   {
    "duration": 3990,
    "start_time": "2025-10-22T16:07:16.288Z"
   },
   {
    "duration": 3,
    "start_time": "2025-10-22T16:07:20.279Z"
   },
   {
    "duration": 5,
    "start_time": "2025-10-22T16:07:20.284Z"
   },
   {
    "duration": 9270,
    "start_time": "2025-10-22T16:07:20.291Z"
   },
   {
    "duration": 3,
    "start_time": "2025-10-22T16:07:29.563Z"
   },
   {
    "duration": 4445,
    "start_time": "2025-10-22T16:07:29.568Z"
   },
   {
    "duration": 29,
    "start_time": "2025-10-22T16:07:34.016Z"
   },
   {
    "duration": 259,
    "start_time": "2025-10-22T16:07:34.046Z"
   },
   {
    "duration": 56,
    "start_time": "2025-10-22T16:07:34.308Z"
   },
   {
    "duration": 9,
    "start_time": "2025-10-22T16:07:34.365Z"
   },
   {
    "duration": 4,
    "start_time": "2025-10-22T16:07:34.375Z"
   },
   {
    "duration": 7,
    "start_time": "2025-10-22T16:07:34.380Z"
   },
   {
    "duration": 482,
    "start_time": "2025-10-22T16:07:34.389Z"
   },
   {
    "duration": 4,
    "start_time": "2025-10-22T16:07:34.872Z"
   },
   {
    "duration": 55,
    "start_time": "2025-10-22T16:07:34.877Z"
   },
   {
    "duration": 294,
    "start_time": "2025-10-22T16:07:34.934Z"
   },
   {
    "duration": 186,
    "start_time": "2025-10-22T16:07:35.230Z"
   },
   {
    "duration": 274,
    "start_time": "2025-10-22T16:07:35.418Z"
   },
   {
    "duration": 19,
    "start_time": "2025-10-22T16:07:35.693Z"
   },
   {
    "duration": 57,
    "start_time": "2025-10-22T16:07:35.715Z"
   },
   {
    "duration": 4394,
    "start_time": "2025-10-22T16:07:35.774Z"
   },
   {
    "duration": 48,
    "start_time": "2025-10-22T16:07:40.170Z"
   },
   {
    "duration": 274,
    "start_time": "2025-10-22T16:07:40.220Z"
   },
   {
    "duration": 394,
    "start_time": "2025-10-22T16:07:40.495Z"
   },
   {
    "duration": 384,
    "start_time": "2025-10-22T16:07:40.891Z"
   },
   {
    "duration": 15,
    "start_time": "2025-10-22T16:07:41.277Z"
   },
   {
    "duration": 234,
    "start_time": "2025-10-22T16:07:41.307Z"
   },
   {
    "duration": 337,
    "start_time": "2025-10-22T16:07:41.542Z"
   },
   {
    "duration": 345,
    "start_time": "2025-10-22T16:07:41.881Z"
   },
   {
    "duration": 13,
    "start_time": "2025-10-22T16:07:42.227Z"
   },
   {
    "duration": 130,
    "start_time": "2025-10-22T16:07:42.242Z"
   },
   {
    "duration": 4,
    "start_time": "2025-10-22T16:07:42.374Z"
   },
   {
    "duration": 268,
    "start_time": "2025-10-22T16:07:42.380Z"
   },
   {
    "duration": 162,
    "start_time": "2025-10-22T16:07:42.649Z"
   },
   {
    "duration": 925,
    "start_time": "2025-10-22T16:07:42.813Z"
   },
   {
    "duration": 53,
    "start_time": "2025-10-22T16:07:43.740Z"
   },
   {
    "duration": 251,
    "start_time": "2025-10-22T16:07:43.795Z"
   },
   {
    "duration": 8,
    "start_time": "2025-10-22T16:07:44.047Z"
   },
   {
    "duration": 14,
    "start_time": "2025-10-22T16:07:44.057Z"
   },
   {
    "duration": 33,
    "start_time": "2025-10-22T16:07:44.072Z"
   },
   {
    "duration": 13,
    "start_time": "2025-10-22T16:07:44.107Z"
   },
   {
    "duration": 39,
    "start_time": "2025-10-22T16:07:44.122Z"
   },
   {
    "duration": 5,
    "start_time": "2025-10-22T16:07:44.163Z"
   },
   {
    "duration": 29,
    "start_time": "2025-10-22T16:07:44.169Z"
   },
   {
    "duration": 22,
    "start_time": "2025-10-22T16:07:44.199Z"
   },
   {
    "duration": 11,
    "start_time": "2025-10-22T16:07:44.223Z"
   },
   {
    "duration": 19,
    "start_time": "2025-10-22T16:07:44.236Z"
   },
   {
    "duration": 56,
    "start_time": "2025-10-22T16:07:44.257Z"
   },
   {
    "duration": 38,
    "start_time": "2025-10-22T16:07:44.315Z"
   },
   {
    "duration": 75,
    "start_time": "2025-10-22T16:07:44.355Z"
   },
   {
    "duration": 39,
    "start_time": "2025-10-22T16:07:44.432Z"
   },
   {
    "duration": 199,
    "start_time": "2025-10-22T16:07:44.472Z"
   },
   {
    "duration": 151,
    "start_time": "2025-10-22T16:07:44.673Z"
   },
   {
    "duration": 249,
    "start_time": "2025-10-22T16:07:44.826Z"
   },
   {
    "duration": 247,
    "start_time": "2025-10-22T16:07:45.077Z"
   },
   {
    "duration": 8,
    "start_time": "2025-10-22T16:07:45.326Z"
   },
   {
    "duration": 212,
    "start_time": "2025-10-22T16:07:45.335Z"
   },
   {
    "duration": 179,
    "start_time": "2025-10-22T16:07:45.549Z"
   },
   {
    "duration": 482,
    "start_time": "2025-10-22T16:07:45.731Z"
   },
   {
    "duration": 562,
    "start_time": "2025-10-22T16:07:46.215Z"
   },
   {
    "duration": 136,
    "start_time": "2025-10-22T16:07:46.779Z"
   },
   {
    "duration": 162,
    "start_time": "2025-10-22T16:07:58.752Z"
   },
   {
    "duration": 168,
    "start_time": "2025-10-22T16:09:17.624Z"
   },
   {
    "duration": 161,
    "start_time": "2025-10-22T16:11:09.487Z"
   },
   {
    "duration": 161,
    "start_time": "2025-10-22T16:11:17.378Z"
   },
   {
    "duration": 169,
    "start_time": "2025-10-22T16:11:30.217Z"
   },
   {
    "duration": 150,
    "start_time": "2025-10-22T16:11:36.489Z"
   },
   {
    "duration": 165,
    "start_time": "2025-10-22T16:12:31.297Z"
   },
   {
    "duration": 277,
    "start_time": "2025-10-22T16:17:22.600Z"
   },
   {
    "duration": 297,
    "start_time": "2025-10-22T16:17:58.480Z"
   },
   {
    "duration": 301,
    "start_time": "2025-10-22T16:18:05.457Z"
   },
   {
    "duration": 270,
    "start_time": "2025-10-22T16:18:10.311Z"
   },
   {
    "duration": 317,
    "start_time": "2025-10-22T16:18:37.751Z"
   },
   {
    "duration": 346,
    "start_time": "2025-10-22T16:26:58.836Z"
   },
   {
    "duration": 187,
    "start_time": "2025-10-22T16:50:43.510Z"
   },
   {
    "duration": 21,
    "start_time": "2025-10-22T17:05:28.555Z"
   },
   {
    "duration": 26,
    "start_time": "2025-10-22T17:06:45.842Z"
   },
   {
    "duration": 24,
    "start_time": "2025-10-22T17:07:04.594Z"
   },
   {
    "duration": 193,
    "start_time": "2025-10-22T17:08:30.903Z"
   },
   {
    "duration": 205,
    "start_time": "2025-10-22T17:10:56.119Z"
   },
   {
    "duration": 181,
    "start_time": "2025-10-22T17:11:07.410Z"
   },
   {
    "duration": 186,
    "start_time": "2025-10-22T17:11:16.973Z"
   },
   {
    "duration": 218,
    "start_time": "2025-10-22T17:11:39.504Z"
   },
   {
    "duration": 189,
    "start_time": "2025-10-22T17:12:27.758Z"
   },
   {
    "duration": 199,
    "start_time": "2025-10-22T17:12:49.553Z"
   },
   {
    "duration": 1486,
    "start_time": "2025-10-22T17:14:06.052Z"
   },
   {
    "duration": 168,
    "start_time": "2025-10-22T17:14:24.040Z"
   },
   {
    "duration": 163,
    "start_time": "2025-10-22T17:14:33.604Z"
   },
   {
    "duration": 255,
    "start_time": "2025-10-22T17:14:51.534Z"
   },
   {
    "duration": 350,
    "start_time": "2025-10-22T17:15:43.258Z"
   },
   {
    "duration": 298,
    "start_time": "2025-10-22T17:16:11.185Z"
   },
   {
    "duration": 192,
    "start_time": "2025-10-22T17:16:58.229Z"
   },
   {
    "duration": 189,
    "start_time": "2025-10-22T17:17:27.338Z"
   },
   {
    "duration": 189,
    "start_time": "2025-10-22T17:17:53.089Z"
   },
   {
    "duration": 174,
    "start_time": "2025-10-22T17:18:14.280Z"
   },
   {
    "duration": 216,
    "start_time": "2025-10-22T17:19:07.556Z"
   },
   {
    "duration": 210,
    "start_time": "2025-10-22T17:26:40.748Z"
   },
   {
    "duration": 195,
    "start_time": "2025-10-22T17:27:40.196Z"
   },
   {
    "duration": 197,
    "start_time": "2025-10-22T17:27:49.927Z"
   },
   {
    "duration": 267,
    "start_time": "2025-10-22T17:28:57.724Z"
   },
   {
    "duration": 193,
    "start_time": "2025-10-22T17:29:09.933Z"
   },
   {
    "duration": 134,
    "start_time": "2025-10-22T17:41:13.511Z"
   },
   {
    "duration": 23,
    "start_time": "2025-10-22T17:50:02.625Z"
   },
   {
    "duration": 144,
    "start_time": "2025-10-22T17:50:24.865Z"
   },
   {
    "duration": 1675,
    "start_time": "2025-10-22T17:52:31.938Z"
   },
   {
    "duration": 145,
    "start_time": "2025-10-22T17:52:58.371Z"
   },
   {
    "duration": 171,
    "start_time": "2025-10-22T17:53:06.369Z"
   },
   {
    "duration": 131,
    "start_time": "2025-10-22T17:53:34.565Z"
   },
   {
    "duration": 141,
    "start_time": "2025-10-22T17:53:45.599Z"
   },
   {
    "duration": 137,
    "start_time": "2025-10-22T17:54:39.620Z"
   },
   {
    "duration": 154,
    "start_time": "2025-10-22T17:54:53.769Z"
   },
   {
    "duration": 135,
    "start_time": "2025-10-22T17:55:28.774Z"
   },
   {
    "duration": 134,
    "start_time": "2025-10-22T17:56:17.673Z"
   },
   {
    "duration": 190,
    "start_time": "2025-10-22T17:56:23.791Z"
   },
   {
    "duration": 14,
    "start_time": "2025-10-22T18:22:51.158Z"
   },
   {
    "duration": 13,
    "start_time": "2025-10-22T18:23:23.361Z"
   },
   {
    "duration": 518,
    "start_time": "2025-10-22T18:23:33.554Z"
   },
   {
    "duration": 14,
    "start_time": "2025-10-22T18:30:07.470Z"
   },
   {
    "duration": 641,
    "start_time": "2025-10-22T18:30:27.580Z"
   },
   {
    "duration": 658,
    "start_time": "2025-10-22T18:30:50.671Z"
   },
   {
    "duration": 4682,
    "start_time": "2025-10-22T20:33:07.917Z"
   },
   {
    "duration": 3687,
    "start_time": "2025-10-22T20:33:12.601Z"
   },
   {
    "duration": 4,
    "start_time": "2025-10-22T20:33:16.289Z"
   },
   {
    "duration": 19,
    "start_time": "2025-10-22T20:33:16.294Z"
   },
   {
    "duration": 8995,
    "start_time": "2025-10-22T20:33:16.315Z"
   },
   {
    "duration": 4,
    "start_time": "2025-10-22T20:33:25.311Z"
   },
   {
    "duration": 4378,
    "start_time": "2025-10-22T20:33:25.316Z"
   },
   {
    "duration": 31,
    "start_time": "2025-10-22T20:33:29.696Z"
   },
   {
    "duration": 242,
    "start_time": "2025-10-22T20:33:29.729Z"
   },
   {
    "duration": 51,
    "start_time": "2025-10-22T20:33:29.973Z"
   },
   {
    "duration": 35,
    "start_time": "2025-10-22T20:33:30.026Z"
   },
   {
    "duration": 38,
    "start_time": "2025-10-22T20:33:30.063Z"
   },
   {
    "duration": 13,
    "start_time": "2025-10-22T20:33:30.102Z"
   },
   {
    "duration": 456,
    "start_time": "2025-10-22T20:33:30.119Z"
   },
   {
    "duration": 4,
    "start_time": "2025-10-22T20:33:30.577Z"
   },
   {
    "duration": 52,
    "start_time": "2025-10-22T20:33:30.583Z"
   },
   {
    "duration": 291,
    "start_time": "2025-10-22T20:33:30.636Z"
   },
   {
    "duration": 172,
    "start_time": "2025-10-22T20:33:30.929Z"
   },
   {
    "duration": 251,
    "start_time": "2025-10-22T20:33:31.104Z"
   },
   {
    "duration": 9,
    "start_time": "2025-10-22T20:33:31.356Z"
   },
   {
    "duration": 6,
    "start_time": "2025-10-22T20:33:31.367Z"
   },
   {
    "duration": 3716,
    "start_time": "2025-10-22T20:33:31.374Z"
   },
   {
    "duration": 26,
    "start_time": "2025-10-22T20:33:35.092Z"
   },
   {
    "duration": 267,
    "start_time": "2025-10-22T20:33:35.119Z"
   },
   {
    "duration": 369,
    "start_time": "2025-10-22T20:33:35.388Z"
   },
   {
    "duration": 366,
    "start_time": "2025-10-22T20:33:35.759Z"
   },
   {
    "duration": 15,
    "start_time": "2025-10-22T20:33:36.127Z"
   },
   {
    "duration": 239,
    "start_time": "2025-10-22T20:33:36.144Z"
   },
   {
    "duration": 337,
    "start_time": "2025-10-22T20:33:36.385Z"
   },
   {
    "duration": 315,
    "start_time": "2025-10-22T20:33:36.723Z"
   },
   {
    "duration": 12,
    "start_time": "2025-10-22T20:33:37.039Z"
   },
   {
    "duration": 107,
    "start_time": "2025-10-22T20:33:37.052Z"
   },
   {
    "duration": 4,
    "start_time": "2025-10-22T20:33:37.160Z"
   },
   {
    "duration": 295,
    "start_time": "2025-10-22T20:33:37.165Z"
   },
   {
    "duration": 164,
    "start_time": "2025-10-22T20:33:37.461Z"
   },
   {
    "duration": 855,
    "start_time": "2025-10-22T20:33:37.627Z"
   },
   {
    "duration": 52,
    "start_time": "2025-10-22T20:33:38.483Z"
   },
   {
    "duration": 231,
    "start_time": "2025-10-22T20:33:38.537Z"
   },
   {
    "duration": 8,
    "start_time": "2025-10-22T20:33:38.770Z"
   },
   {
    "duration": 51,
    "start_time": "2025-10-22T20:33:38.779Z"
   },
   {
    "duration": 15,
    "start_time": "2025-10-22T20:33:38.835Z"
   },
   {
    "duration": 4,
    "start_time": "2025-10-22T20:33:38.852Z"
   },
   {
    "duration": 5,
    "start_time": "2025-10-22T20:33:38.858Z"
   },
   {
    "duration": 4,
    "start_time": "2025-10-22T20:33:38.864Z"
   },
   {
    "duration": 45,
    "start_time": "2025-10-22T20:33:38.869Z"
   },
   {
    "duration": 18,
    "start_time": "2025-10-22T20:33:38.915Z"
   },
   {
    "duration": 11,
    "start_time": "2025-10-22T20:33:38.935Z"
   },
   {
    "duration": 17,
    "start_time": "2025-10-22T20:33:38.947Z"
   },
   {
    "duration": 56,
    "start_time": "2025-10-22T20:33:38.966Z"
   },
   {
    "duration": 31,
    "start_time": "2025-10-22T20:33:39.023Z"
   },
   {
    "duration": 50,
    "start_time": "2025-10-22T20:33:39.055Z"
   },
   {
    "duration": 38,
    "start_time": "2025-10-22T20:33:39.107Z"
   },
   {
    "duration": 196,
    "start_time": "2025-10-22T20:33:39.146Z"
   },
   {
    "duration": 135,
    "start_time": "2025-10-22T20:33:39.343Z"
   },
   {
    "duration": 213,
    "start_time": "2025-10-22T20:33:39.479Z"
   },
   {
    "duration": 212,
    "start_time": "2025-10-22T20:33:39.693Z"
   },
   {
    "duration": 6,
    "start_time": "2025-10-22T20:33:39.907Z"
   },
   {
    "duration": 174,
    "start_time": "2025-10-22T20:33:39.914Z"
   },
   {
    "duration": 167,
    "start_time": "2025-10-22T20:33:40.089Z"
   },
   {
    "duration": 448,
    "start_time": "2025-10-22T20:33:40.257Z"
   },
   {
    "duration": 493,
    "start_time": "2025-10-22T20:33:40.707Z"
   },
   {
    "duration": 287,
    "start_time": "2025-10-22T20:33:41.204Z"
   },
   {
    "duration": 188,
    "start_time": "2025-10-22T20:33:41.504Z"
   },
   {
    "duration": 156,
    "start_time": "2025-10-22T20:33:41.694Z"
   },
   {
    "duration": 672,
    "start_time": "2025-10-22T20:33:41.852Z"
   }
  ],
  "colab": {
   "provenance": [],
   "toc_visible": true
  },
  "kernelspec": {
   "display_name": "Python 3 (ipykernel)",
   "language": "python",
   "name": "python3"
  },
  "language_info": {
   "codemirror_mode": {
    "name": "ipython",
    "version": 3
   },
   "file_extension": ".py",
   "mimetype": "text/x-python",
   "name": "python",
   "nbconvert_exporter": "python",
   "pygments_lexer": "ipython3",
   "version": "3.9.5"
  },
  "toc": {
   "base_numbering": 1,
   "nav_menu": {},
   "number_sections": true,
   "sideBar": true,
   "skip_h1_title": true,
   "title_cell": "Table of Contents",
   "title_sidebar": "Contents",
   "toc_cell": false,
   "toc_position": {},
   "toc_section_display": true,
   "toc_window_display": false
  }
 },
 "nbformat": 4,
 "nbformat_minor": 5
}
